{
 "cells": [
  {
   "cell_type": "code",
   "execution_count": 78,
   "id": "7cc81f7a-00e3-4d7d-b045-be667f5b3172",
   "metadata": {},
   "outputs": [],
   "source": [
    "import pandas as pd\n",
    "import numpy as np\n",
    "import seaborn as sns\n",
    "import matplotlib.pyplot as plt\n",
    "import datetime as dt\n",
    "import warnings\n",
    "warnings.filterwarnings(\"ignore\")\n"
   ]
  },
  {
   "cell_type": "code",
   "execution_count": 80,
   "id": "68c3e6d3-9c49-47d2-be6a-6646f4d2819b",
   "metadata": {},
   "outputs": [
    {
     "name": "stdout",
     "output_type": "stream",
     "text": [
      "Sheet Names: ['Kayaking', 'Athletes', 'Triathlon', 'Fencing']\n",
      "   ID     time     RR       VO2  power\n",
      "0  11 -168.600  727.0  0.287147      0\n",
      "1  11 -167.872  728.0  0.287147      0\n",
      "2  11 -167.148  724.0  0.287147      0\n",
      "3  11 -166.484  664.0  0.320580      0\n",
      "4  11 -165.836  648.0  0.320580      0\n",
      "   ID  age  Weight  Height  P_vt1  P_vt2    sport  Gender Ethnicity  \\\n",
      "0   1   15    53.7     161     50    140  fencing  Female   African   \n",
      "1   2   15    56.2     162     80    127  fencing    Male   African   \n",
      "2   3   16    89.9     191    155    300  fencing    Male     White   \n",
      "3   4   16    76.5     180    215    275  fencing    Male     White   \n",
      "4   5   17    76.4     186    110    172  fencing  Female     White   \n",
      "\n",
      "  First Name Last Name  \n",
      "0     Olivia  Martinez  \n",
      "1      Ethan  Reynolds  \n",
      "2    Jackson    Harper  \n",
      "3       Liam   Sanchez  \n",
      "4        Ava  Thompson  \n",
      "   ID     time     RR       VO2  power\n",
      "0  17 -182.408  736.0  0.363762      0\n",
      "1  17 -181.672  736.0  0.363762      0\n",
      "2  17 -180.968  704.0  0.363762      0\n",
      "3  17 -180.268  700.0  0.363762      0\n",
      "4  17 -179.616  652.0  0.363762      0\n",
      "   ID     time   RR       VO2  power\n",
      "0   1 -130.840  672  0.302008      0\n",
      "1   1 -130.168  672  0.302008      0\n",
      "2   1 -129.536  632  0.301336      0\n",
      "3   1 -128.824  712  0.301336      0\n",
      "4   1 -127.948  876  0.301336      0\n"
     ]
    }
   ],
   "source": [
    "#Load the Excel File\n",
    "data = pd.ExcelFile('V02Max_Combined.xlsx')\n",
    "#Get the sheet names\n",
    "sheet = data.sheet_names\n",
    "print('Sheet Names:',sheet)\n",
    "\n",
    "#Read each sheet \n",
    "data_Kayaking = pd.read_excel(data,sheet_name = 'Kayaking')\n",
    "data_Athletes = pd.read_excel(data, sheet_name = 'Athletes')\n",
    "data_Triathlon = pd.read_excel(data,sheet_name =  'Triathlon')\n",
    "data_Fencing = pd.read_excel(data,sheet_name =  'Fencing')\n",
    "\n",
    "#verify dataframes\n",
    "print(data_Kayaking.head())\n",
    "print(data_Athletes.head())\n",
    "print(data_Triathlon.head())\n",
    "print(data_Fencing.head())"
   ]
  },
  {
   "cell_type": "markdown",
   "id": "88a0e336-8687-44a1-b6d4-1bc7e257a79e",
   "metadata": {},
   "source": [
    "21.Display a pie chart of number of athletes by sport."
   ]
  },
  {
   "cell_type": "code",
   "execution_count": 188,
   "id": "10acaa1a-1647-407a-8097-d786e761ef5f",
   "metadata": {},
   "outputs": [
    {
     "data": {
      "image/png": "[encoded data removed]",
      "text/plain": [
       "<Figure size 400x300 with 1 Axes>"
      ]
     },
     "metadata": {},
     "output_type": "display_data"
    }
   ],
   "source": [
    "#Count the Athletes by Sport by accessing the sport column in Data Atheletes Data frame\n",
    "count=data_Athletes['sport'].value_counts()\n",
    "#Create figure with size 4*3 inches\n",
    "plt.figure(figsize=(4, 3))\n",
    "#Create pie chart and format the labels to two decimal points\n",
    "labels_sport=data_Athletes['sport'].unique()\n",
    "\n",
    "plt.pie(count, \n",
    "        labels=labels_sport,\n",
    "        labeldistance=1.1,\n",
    "        autopct=lambda x: '{:.0f}'.format(x * (data_Athletes['sport'].count()) / 100),\n",
    "        textprops={'fontsize':10},\n",
    "        colors=sns.color_palette('Set2'),\n",
    "        startangle=90)\n",
    "#Adds a title\n",
    "plt.title('Number of Athletes by Sport')\n",
    "#Displays Pie chart\n",
    "plt.show()"
   ]
  },
  {
   "cell_type": "markdown",
   "id": "d5a5010f-1af4-4381-aa00-d0e3d2f64213",
   "metadata": {},
   "source": [
    "22.Using any 10 HR values print even if the value is an even number and odd if its an odd number"
   ]
  },
  {
   "cell_type": "code",
   "execution_count": 68,
   "id": "1568df99-2182-498d-9b79-c1c072fdb005",
   "metadata": {},
   "outputs": [
    {
     "name": "stdout",
     "output_type": "stream",
     "text": [
      "131.58 : odd\n",
      "127.12 : odd\n",
      "166.67 : odd\n",
      "137.61 : odd\n",
      "132.74 : odd\n",
      "126.05 : odd\n",
      "82.42 : odd\n",
      "132.74 : odd\n",
      "142.86 : odd\n",
      "150.00 : even\n"
     ]
    }
   ],
   "source": [
    "\n",
    "#RR=data_Triathlon['RR'][:10]\n",
    "#Random 10 values from RR column\n",
    "RR=data_Triathlon['RR'].sample(n=10,random_state=1)\n",
    "#Heart Rate for every Random RR value\n",
    "HR=[60/(RR/1000) for RR in RR]\n",
    "\n",
    "#checking each iterable value odd or even\n",
    "for i in HR:\n",
    "    if i%2==0:\n",
    "        #Format using string literal values with 2 decimal point and printing odd or even status\n",
    "        print(f\"{i:.2f} : even\")\n",
    "      \n",
    "    else:\n",
    "        print(f\"{i:.2f} : odd\")\n"
   ]
  },
  {
   "cell_type": "code",
   "execution_count": null,
   "id": "3628ce5d-45f6-4ed3-b50a-5e0e8cc8d230",
   "metadata": {},
   "outputs": [],
   "source": [
    "23. Which heart rate zone did most participants spend the longest duration of time in?"
   ]
  },
  {
   "cell_type": "code",
   "execution_count": 190,
   "id": "d6ec78da-29a0-4304-b50a-a2b28f833a4d",
   "metadata": {},
   "outputs": [],
   "source": [
    "#zone_sport=data_Athletes['sport','Ethnicity']\n",
    "zone_sport=data_Athletes['sport']\n",
    "zone_ethnicity=data_Athletes['Ethnicity']\n",
    "RR=data_Triathlon['RR']\n",
    "HR=[60/(RR/1000) for RR in RR]\n"
   ]
  },
  {
   "cell_type": "markdown",
   "id": "d6b4e3df-c8df-4bd0-b3b6-fb2965d393ab",
   "metadata": {},
   "source": [
    "24.Store athlete name and sport in a dictionary as a pair of values."
   ]
  },
  {
   "cell_type": "code",
   "execution_count": 96,
   "id": "6cdd8378-19f6-42ec-b804-b0f3d45934d4",
   "metadata": {},
   "outputs": [
    {
     "name": "stdout",
     "output_type": "stream",
     "text": [
      "{'Olivia Martinez': 'fencing', 'Ethan Reynolds': 'fencing', 'Jackson Harper': 'fencing', 'Liam Sanchez': 'fencing', 'Ava Thompson': 'fencing', 'Sophia Rodriguez': 'fencing', 'Grace Simmons': 'fencing', 'Aiden Bennett': 'fencing', 'Chloe Price': 'fencing', 'Lily Jordan': 'fencing', 'Isabella Griffin': 'kayak', 'Caleb Dixon': 'kayak', 'Mia Carpenter': 'kayak', 'Harper Mitchell': 'kayak', 'Mason Wallace': 'kayak', 'Logan Anderson': 'kayak', 'Lucas Foster': 'triathlon', 'Owen Myers': 'triathlon'}\n"
     ]
    }
   ],
   "source": [
    "#creating dictionary\n",
    "athelete_sport_dict=data_Athletes.set_index(data_Athletes['First Name']+ ' '+data_Athletes['Last Name']).to_dict('dict')['sport']\n",
    "#verifying the created dictionary\n",
    "print(athelete_sport_dict)"
   ]
  },
  {
   "cell_type": "code",
   "execution_count": null,
   "id": "c52bbb78-5480-4a31-aad1-eaaff6720062",
   "metadata": {},
   "outputs": [],
   "source": [
    "25. Using arrays and loops, find the count of athletes based on gender."
   ]
  },
  {
   "cell_type": "code",
   "execution_count": 223,
   "id": "65d677f1-df4d-4425-be8e-b3d4e3a57ae6",
   "metadata": {},
   "outputs": [
    {
     "name": "stdout",
     "output_type": "stream",
     "text": [
      "No of athletes in Female Categry: 10\n",
      "No of athletes in Male Categry: 8\n"
     ]
    }
   ],
   "source": [
    "male_counter=0\n",
    "female_counter=0\n",
    "gen_array=data_Athletes['Gender'].values\n",
    "\n",
    "for i in gen_array:\n",
    "    if i =='Female':\n",
    "        female_counter = female_counter+1             \n",
    "    else:\n",
    "        male_counter = male_counter+1\n",
    "        \n",
    "print('No of athletes in Female Categry:',female_counter)\n",
    "print('No of athletes in Male Categry:',male_counter)"
   ]
  },
  {
   "cell_type": "code",
   "execution_count": null,
   "id": "0fb667ec-477d-40ff-a256-2548df9394d0",
   "metadata": {},
   "outputs": [],
   "source": [
    "for index, row in data_Athletes.iterrows():\n",
    "    if row['Gender']=='Female':\n",
    "       female_counter = female_counter+1             \n",
    "    else:\n",
    "       male_counter = male_counter+1\n",
    "print('Female Counter :',female_counter)\n",
    "print('Male Counter :',male_counter)\n"
   ]
  }
 ],
 "metadata": {
  "kernelspec": {
   "display_name": "Python 3 (ipykernel)",
   "language": "python",
   "name": "python3"
  },
  "language_info": {
   "codemirror_mode": {
    "name": "ipython",
    "version": 3
   },
   "file_extension": ".py",
   "mimetype": "text/x-python",
   "name": "python",
   "nbconvert_exporter": "python",
   "pygments_lexer": "ipython3",
   "version": "3.11.7"
  }
 },
 "nbformat": 4,
 "nbformat_minor": 5
}
