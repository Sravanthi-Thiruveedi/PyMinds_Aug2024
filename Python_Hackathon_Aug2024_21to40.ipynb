{
 "cells": [
  {
   "cell_type": "markdown",
   "id": "6d772545-a3b5-4157-84d9-b6de29c6b838",
   "metadata": {},
   "source": [
    "21.Display a pie chart of number of athletes by sport."
   ]
  },
  {
   "cell_type": "code",
   "execution_count": 14,
   "id": "7cc81f7a-00e3-4d7d-b045-be667f5b3172",
   "metadata": {},
   "outputs": [],
   "source": [
    "import pandas as pd\n",
    "import numpy as np\n",
    "import seaborn as sns\n",
    "from matplotlib import pyplot as plt"
   ]
  },
  {
   "cell_type": "code",
   "execution_count": 36,
   "id": "68c3e6d3-9c49-47d2-be6a-6646f4d2819b",
   "metadata": {},
   "outputs": [
    {
     "name": "stdout",
     "output_type": "stream",
     "text": [
      "Sheet Names ['Kayaking', 'Athletes', 'Triathlon', 'Fencing']\n"
     ]
    },
    {
     "name": "stderr",
     "output_type": "stream",
     "text": [
      "/opt/anaconda3/lib/python3.11/site-packages/openpyxl/worksheet/_read_only.py:79: UserWarning: Unknown extension is not supported and will be removed\n",
      "  for idx, row in parser.parse():\n",
      "/opt/anaconda3/lib/python3.11/site-packages/openpyxl/worksheet/_read_only.py:79: UserWarning: Unknown extension is not supported and will be removed\n",
      "  for idx, row in parser.parse():\n",
      "/opt/anaconda3/lib/python3.11/site-packages/openpyxl/worksheet/_read_only.py:79: UserWarning: Unknown extension is not supported and will be removed\n",
      "  for idx, row in parser.parse():\n"
     ]
    }
   ],
   "source": [
    "data = pd.ExcelFile('V02Max_Combined.xlsx')\n",
    "sheet = xls.sheet_names\n",
    "print('Sheet Names',sheet)\n",
    "data_Kayaking_sheet1 = pd.read_excel(xls,sheet_name = 'Kayaking')\n",
    "data_Athletes_sheet2 = pd.read_excel(xls, sheet_name = 'Athletes')\n",
    "data_Triathlon_sheet3 = pd.read_excel(xls,sheet_name =  'Triathlon')\n",
    "data_Fencing_sheet4 = pd.read_excel(xls,sheet_name =  'Fencing')"
   ]
  },
  {
   "cell_type": "code",
   "execution_count": null,
   "id": "b478c069-744a-4188-9e34-a96d6bec1960",
   "metadata": {},
   "outputs": [],
   "source": []
  }
 ],
 "metadata": {
  "kernelspec": {
   "display_name": "Python 3 (ipykernel)",
   "language": "python",
   "name": "python3"
  },
  "language_info": {
   "codemirror_mode": {
    "name": "ipython",
    "version": 3
   },
   "file_extension": ".py",
   "mimetype": "text/x-python",
   "name": "python",
   "nbconvert_exporter": "python",
   "pygments_lexer": "ipython3",
   "version": "3.11.7"
  }
 },
 "nbformat": 4,
 "nbformat_minor": 5
}
