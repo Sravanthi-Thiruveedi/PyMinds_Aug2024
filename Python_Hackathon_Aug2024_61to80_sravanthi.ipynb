{
 "cells": [
  {
   "cell_type": "code",
   "execution_count": 3,
   "id": "31592efa",
   "metadata": {},
   "outputs": [],
   "source": [
    "import pandas as pd\n",
    "import numpy as np\n",
    "import datetime as dt\n",
    "import matplotlib.pyplot as plt\n",
    "import seaborn as sns"
   ]
  },
  {
   "cell_type": "code",
   "execution_count": 4,
   "id": "e32627f8",
   "metadata": {
    "scrolled": true
   },
   "outputs": [
    {
     "name": "stderr",
     "output_type": "stream",
     "text": [
      "/Users/sravanthithiruveedi/opt/anaconda3/lib/python3.9/site-packages/openpyxl/worksheet/_reader.py:329: UserWarning: Unknown extension is not supported and will be removed\n",
      "  warn(msg)\n",
      "/Users/sravanthithiruveedi/opt/anaconda3/lib/python3.9/site-packages/openpyxl/worksheet/_reader.py:329: UserWarning: Unknown extension is not supported and will be removed\n",
      "  warn(msg)\n",
      "/Users/sravanthithiruveedi/opt/anaconda3/lib/python3.9/site-packages/openpyxl/worksheet/_reader.py:329: UserWarning: Unknown extension is not supported and will be removed\n",
      "  warn(msg)\n"
     ]
    }
   ],
   "source": [
    "data = pd.read_excel('V02Max_Combined.xlsx')\n",
    "data_Merged = pd.read_excel(\"merged_athletes_data.xlsx\")\n",
    "data_Kayaking = pd.read_excel(\"V02Max_Combined.xlsx\", \"Kayaking\")\n",
    "data_Athletes = pd.read_excel(\"V02Max_Combined.xlsx\", \"Athletes\")\n",
    "data_Triathlon = pd.read_excel(\"V02Max_Combined.xlsx\", \"Triathlon\")\n",
    "data_Fencing = pd.read_excel(\"V02Max_Combined.xlsx\", \"Fencing\")"
   ]
  },
  {
   "cell_type": "markdown",
   "id": "671d70ac",
   "metadata": {},
   "source": [
    "**61. Reverse an arrays order in Python. You can use any array with any values you like.**"
   ]
  },
  {
   "cell_type": "code",
   "execution_count": 5,
   "id": "fd73bfbe",
   "metadata": {},
   "outputs": [
    {
     "name": "stdout",
     "output_type": "stream",
     "text": [
      "['Python', 'Hackathon', 'Aug', '2024']\n"
     ]
    }
   ],
   "source": [
    "#define an array\n",
    "arr = ['2024','Aug','Hackathon','Python']\n",
    "#reverse an array\n",
    "arr.reverse()\n",
    "#print the array\n",
    "print(arr)"
   ]
  },
  {
   "cell_type": "markdown",
   "id": "139b6284",
   "metadata": {},
   "source": [
    "**62. What is the root mean of successive differences for 30 consecutive minutes for each athlete.**"
   ]
  },
  {
   "cell_type": "code",
   "execution_count": 6,
   "id": "00f06b2b",
   "metadata": {
    "scrolled": false
   },
   "outputs": [
    {
     "ename": "NameError",
     "evalue": "name 'df' is not defined",
     "output_type": "error",
     "traceback": [
      "\u001b[0;31m---------------------------------------------------------------------------\u001b[0m",
      "\u001b[0;31mNameError\u001b[0m                                 Traceback (most recent call last)",
      "Cell \u001b[0;32mIn[6], line 6\u001b[0m\n\u001b[1;32m      2\u001b[0m successive_differences \u001b[38;5;241m=\u001b[39m np\u001b[38;5;241m.\u001b[39mdiff(data)\n\u001b[1;32m      3\u001b[0m successive_differences\n\u001b[0;32m----> 6\u001b[0m grouped \u001b[38;5;241m=\u001b[39m \u001b[43mdf\u001b[49m\u001b[38;5;241m.\u001b[39mgroupby([\u001b[38;5;124m'\u001b[39m\u001b[38;5;124mCategory\u001b[39m\u001b[38;5;124m'\u001b[39m, \u001b[38;5;124m'\u001b[39m\u001b[38;5;124mSubcategory\u001b[39m\u001b[38;5;124m'\u001b[39m])\u001b[38;5;241m.\u001b[39mmean()\u001b[38;5;241m.\u001b[39mreset_index()\n",
      "\u001b[0;31mNameError\u001b[0m: name 'df' is not defined"
     ]
    }
   ],
   "source": [
    "#reading the data\n",
    "successive_differences = np.diff(data)\n",
    "successive_differences\n",
    "\n",
    "\n",
    "grouped = df.groupby(['Category', 'Subcategory']).mean().reset_index()"
   ]
  },
  {
   "cell_type": "markdown",
   "id": "6a667053",
   "metadata": {},
   "source": [
    "**63. On average how many minutes did each athlete in the sport of fencing spend in Zone 5?**"
   ]
  },
  {
   "cell_type": "code",
   "execution_count": 172,
   "id": "7b3537b7",
   "metadata": {},
   "outputs": [
    {
     "data": {
      "text/html": [
       "<div>\n",
       "<style scoped>\n",
       "    .dataframe tbody tr th:only-of-type {\n",
       "        vertical-align: middle;\n",
       "    }\n",
       "\n",
       "    .dataframe tbody tr th {\n",
       "        vertical-align: top;\n",
       "    }\n",
       "\n",
       "    .dataframe thead th {\n",
       "        text-align: right;\n",
       "    }\n",
       "</style>\n",
       "<table border=\"1\" class=\"dataframe\">\n",
       "  <thead>\n",
       "    <tr style=\"text-align: right;\">\n",
       "      <th></th>\n",
       "      <th>ID</th>\n",
       "      <th>time</th>\n",
       "      <th>RR</th>\n",
       "      <th>VO2</th>\n",
       "      <th>power</th>\n",
       "      <th>HR</th>\n",
       "    </tr>\n",
       "  </thead>\n",
       "  <tbody>\n",
       "    <tr>\n",
       "      <th>0</th>\n",
       "      <td>1</td>\n",
       "      <td>-130.840</td>\n",
       "      <td>672</td>\n",
       "      <td>0.302008</td>\n",
       "      <td>0</td>\n",
       "      <td>89.285714</td>\n",
       "    </tr>\n",
       "    <tr>\n",
       "      <th>1</th>\n",
       "      <td>1</td>\n",
       "      <td>-130.168</td>\n",
       "      <td>672</td>\n",
       "      <td>0.302008</td>\n",
       "      <td>0</td>\n",
       "      <td>89.285714</td>\n",
       "    </tr>\n",
       "    <tr>\n",
       "      <th>2</th>\n",
       "      <td>1</td>\n",
       "      <td>-129.536</td>\n",
       "      <td>632</td>\n",
       "      <td>0.301336</td>\n",
       "      <td>0</td>\n",
       "      <td>94.936709</td>\n",
       "    </tr>\n",
       "    <tr>\n",
       "      <th>3</th>\n",
       "      <td>1</td>\n",
       "      <td>-128.824</td>\n",
       "      <td>712</td>\n",
       "      <td>0.301336</td>\n",
       "      <td>0</td>\n",
       "      <td>84.269663</td>\n",
       "    </tr>\n",
       "    <tr>\n",
       "      <th>4</th>\n",
       "      <td>1</td>\n",
       "      <td>-127.948</td>\n",
       "      <td>876</td>\n",
       "      <td>0.301336</td>\n",
       "      <td>0</td>\n",
       "      <td>68.493151</td>\n",
       "    </tr>\n",
       "    <tr>\n",
       "      <th>...</th>\n",
       "      <td>...</td>\n",
       "      <td>...</td>\n",
       "      <td>...</td>\n",
       "      <td>...</td>\n",
       "      <td>...</td>\n",
       "      <td>...</td>\n",
       "    </tr>\n",
       "    <tr>\n",
       "      <th>27598</th>\n",
       "      <td>10</td>\n",
       "      <td>942.700</td>\n",
       "      <td>428</td>\n",
       "      <td>0.786363</td>\n",
       "      <td>0</td>\n",
       "      <td>140.186916</td>\n",
       "    </tr>\n",
       "    <tr>\n",
       "      <th>27599</th>\n",
       "      <td>10</td>\n",
       "      <td>943.124</td>\n",
       "      <td>424</td>\n",
       "      <td>0.786363</td>\n",
       "      <td>0</td>\n",
       "      <td>141.509434</td>\n",
       "    </tr>\n",
       "    <tr>\n",
       "      <th>27600</th>\n",
       "      <td>10</td>\n",
       "      <td>943.552</td>\n",
       "      <td>428</td>\n",
       "      <td>0.786363</td>\n",
       "      <td>0</td>\n",
       "      <td>140.186916</td>\n",
       "    </tr>\n",
       "    <tr>\n",
       "      <th>27601</th>\n",
       "      <td>10</td>\n",
       "      <td>943.976</td>\n",
       "      <td>424</td>\n",
       "      <td>0.786363</td>\n",
       "      <td>0</td>\n",
       "      <td>141.509434</td>\n",
       "    </tr>\n",
       "    <tr>\n",
       "      <th>27602</th>\n",
       "      <td>10</td>\n",
       "      <td>944.404</td>\n",
       "      <td>428</td>\n",
       "      <td>0.786363</td>\n",
       "      <td>0</td>\n",
       "      <td>140.186916</td>\n",
       "    </tr>\n",
       "  </tbody>\n",
       "</table>\n",
       "<p>27603 rows × 6 columns</p>\n",
       "</div>"
      ],
      "text/plain": [
       "       ID     time   RR       VO2  power          HR\n",
       "0       1 -130.840  672  0.302008      0   89.285714\n",
       "1       1 -130.168  672  0.302008      0   89.285714\n",
       "2       1 -129.536  632  0.301336      0   94.936709\n",
       "3       1 -128.824  712  0.301336      0   84.269663\n",
       "4       1 -127.948  876  0.301336      0   68.493151\n",
       "...    ..      ...  ...       ...    ...         ...\n",
       "27598  10  942.700  428  0.786363      0  140.186916\n",
       "27599  10  943.124  424  0.786363      0  141.509434\n",
       "27600  10  943.552  428  0.786363      0  140.186916\n",
       "27601  10  943.976  424  0.786363      0  141.509434\n",
       "27602  10  944.404  428  0.786363      0  140.186916\n",
       "\n",
       "[27603 rows x 6 columns]"
      ]
     },
     "execution_count": 172,
     "metadata": {},
     "output_type": "execute_result"
    }
   ],
   "source": [
    "\n",
    "df = data_Fencing.assign(HR = 60/(data_Fencing['RR']/1000))\n",
    "df['Max HR'] = df = 220 - data_Athletes['age']\n",
    "dfnew['LB_Zone5'] = 0.90 * dfnew['Max HR']\n",
    "dfnew['UB_Zone5'] = 1 * dfnew['Max HR']\n",
    "#dfnew\n",
    "#df1 = df[(df['HR']>dfnew['LB_Zone5']) & (df['HR']<dfnew['UB_Zone5'])]\n",
    "#df['HR']>dfnew['LB_Zone5']\n",
    "df\n",
    "#use a column to label zones"
   ]
  },
  {
   "cell_type": "markdown",
   "id": "2af9fcdc",
   "metadata": {},
   "source": [
    "**64. Count athletes based on Gender using count plot**"
   ]
  },
  {
   "cell_type": "code",
   "execution_count": 10,
   "id": "8b42818e",
   "metadata": {
    "scrolled": true
   },
   "outputs": [
    {
     "data": {
      "image/png": "[encoded data removed]",
      "text/plain": [
       "<Figure size 640x480 with 1 Axes>"
      ]
     },
     "metadata": {},
     "output_type": "display_data"
    }
   ],
   "source": [
    "#count plot\n",
    "sns.countplot(x ='Gender',data = data_Athletes, hue = 'Gender')\n",
    "#show the plot\n",
    "plt.show()"
   ]
  },
  {
   "cell_type": "markdown",
   "id": "4dc18051",
   "metadata": {},
   "source": [
    "**65.    [ 1,  2,  3,  4,  5],\n",
    "       [ 6,  7,  8,  9, 10],\n",
    "      [11, 12, 13, 14, 15],\n",
    "       [16, 17, 18, 19, 20],\n",
    "      [21, 22, 23, 24, 25],\n",
    "      [26, 27, 28, 29, 30]  Use array slicing to display elements 4,7,10,17.**"
   ]
  },
  {
   "cell_type": "code",
   "execution_count": 9,
   "id": "9a13e447",
   "metadata": {},
   "outputs": [
    {
     "name": "stdout",
     "output_type": "stream",
     "text": [
      "Sliced elements: \n",
      " [[4]] [[7]] [[10]] [[17]]\n"
     ]
    }
   ],
   "source": [
    "#given array\n",
    "arr = np.array([\n",
    "      [ 1,  2,  3,  4,  5],\n",
    "      [ 6,  7,  8,  9, 10],\n",
    "      [11, 12, 13, 14, 15],\n",
    "      [16, 17, 18, 19, 20],\n",
    "      [21, 22, 23, 24, 25],\n",
    "      [26, 27, 28, 29, 30]\n",
    "      ])\n",
    "#print the elements 4,7,10,17\n",
    "print('Sliced elements: \\n',arr[0:1, 3:4],arr[1:2, 1:2],arr[1:2, 4:],arr[3:4, 1:2] )"
   ]
  },
  {
   "cell_type": "markdown",
   "id": "0adf894b",
   "metadata": {},
   "source": [
    "**66. On average, how long did each participant spend at 200 watts?**"
   ]
  },
  {
   "cell_type": "code",
   "execution_count": 8,
   "id": "5e3da377",
   "metadata": {},
   "outputs": [
    {
     "data": {
      "text/html": [
       "<div>\n",
       "<style scoped>\n",
       "    .dataframe tbody tr th:only-of-type {\n",
       "        vertical-align: middle;\n",
       "    }\n",
       "\n",
       "    .dataframe tbody tr th {\n",
       "        vertical-align: top;\n",
       "    }\n",
       "\n",
       "    .dataframe thead th {\n",
       "        text-align: right;\n",
       "    }\n",
       "</style>\n",
       "<table border=\"1\" class=\"dataframe\">\n",
       "  <thead>\n",
       "    <tr style=\"text-align: right;\">\n",
       "      <th></th>\n",
       "      <th>ID</th>\n",
       "      <th>power</th>\n",
       "      <th>time</th>\n",
       "    </tr>\n",
       "  </thead>\n",
       "  <tbody>\n",
       "    <tr>\n",
       "      <th>29</th>\n",
       "      <td>3</td>\n",
       "      <td>200</td>\n",
       "      <td>111063.168</td>\n",
       "    </tr>\n",
       "    <tr>\n",
       "      <th>48</th>\n",
       "      <td>4</td>\n",
       "      <td>200</td>\n",
       "      <td>106129.452</td>\n",
       "    </tr>\n",
       "    <tr>\n",
       "      <th>67</th>\n",
       "      <td>5</td>\n",
       "      <td>200</td>\n",
       "      <td>123354.488</td>\n",
       "    </tr>\n",
       "    <tr>\n",
       "      <th>84</th>\n",
       "      <td>6</td>\n",
       "      <td>200</td>\n",
       "      <td>124098.652</td>\n",
       "    </tr>\n",
       "    <tr>\n",
       "      <th>119</th>\n",
       "      <td>9</td>\n",
       "      <td>200</td>\n",
       "      <td>12405.704</td>\n",
       "    </tr>\n",
       "    <tr>\n",
       "      <th>131</th>\n",
       "      <td>10</td>\n",
       "      <td>200</td>\n",
       "      <td>74352.920</td>\n",
       "    </tr>\n",
       "    <tr>\n",
       "      <th>143</th>\n",
       "      <td>11</td>\n",
       "      <td>200</td>\n",
       "      <td>114078.616</td>\n",
       "    </tr>\n",
       "    <tr>\n",
       "      <th>164</th>\n",
       "      <td>12</td>\n",
       "      <td>200</td>\n",
       "      <td>113048.112</td>\n",
       "    </tr>\n",
       "    <tr>\n",
       "      <th>183</th>\n",
       "      <td>13</td>\n",
       "      <td>200</td>\n",
       "      <td>117426.128</td>\n",
       "    </tr>\n",
       "    <tr>\n",
       "      <th>203</th>\n",
       "      <td>14</td>\n",
       "      <td>200</td>\n",
       "      <td>136842.528</td>\n",
       "    </tr>\n",
       "    <tr>\n",
       "      <th>217</th>\n",
       "      <td>15</td>\n",
       "      <td>200</td>\n",
       "      <td>141576.000</td>\n",
       "    </tr>\n",
       "    <tr>\n",
       "      <th>230</th>\n",
       "      <td>16</td>\n",
       "      <td>200</td>\n",
       "      <td>134196.776</td>\n",
       "    </tr>\n",
       "    <tr>\n",
       "      <th>255</th>\n",
       "      <td>18</td>\n",
       "      <td>200</td>\n",
       "      <td>61698.584</td>\n",
       "    </tr>\n",
       "  </tbody>\n",
       "</table>\n",
       "</div>"
      ],
      "text/plain": [
       "     ID  power        time\n",
       "29    3    200  111063.168\n",
       "48    4    200  106129.452\n",
       "67    5    200  123354.488\n",
       "84    6    200  124098.652\n",
       "119   9    200   12405.704\n",
       "131  10    200   74352.920\n",
       "143  11    200  114078.616\n",
       "164  12    200  113048.112\n",
       "183  13    200  117426.128\n",
       "203  14    200  136842.528\n",
       "217  15    200  141576.000\n",
       "230  16    200  134196.776\n",
       "255  18    200   61698.584"
      ]
     },
     "execution_count": 8,
     "metadata": {},
     "output_type": "execute_result"
    }
   ],
   "source": [
    "#grouping the data based on ID and power and finding the sum of time spent\n",
    "df = data_Merged.groupby(['ID', 'power'])['time'].sum().reset_index()\n",
    "#applying the given condition\n",
    "df1 = df[df['power']== 200]\n",
    "#printing the resultant data\n",
    "df1"
   ]
  },
  {
   "cell_type": "markdown",
   "id": "022d23c3",
   "metadata": {},
   "source": [
    "**67. Athletes from which sport had the highest average cardiorespiratory fitness in terms of v02 max?**"
   ]
  },
  {
   "cell_type": "code",
   "execution_count": 148,
   "id": "8d2a67d5",
   "metadata": {},
   "outputs": [
    {
     "name": "stdout",
     "output_type": "stream",
     "text": [
      "Athlete from kayak had the highest average\n"
     ]
    }
   ],
   "source": [
    "#grouping the data and calculating VO2Sum for each athlete\n",
    "df = data_Merged.groupby(['ID'])['VO2'].sum().reset_index(name = 'VO2Sum')\n",
    "#merging the data to fetch the weight of each athlete\n",
    "df1 = pd.merge(df, data_Athletes[['ID','Weight']], on='ID', how='inner')\n",
    "#calculating VO2Max\n",
    "df1['VO2Max'] = df1['VO2Sum']/df1['Weight']\n",
    "#fetching the athlete data with max VO2\n",
    "df2 = df1[df1['VO2Max'] == max(df1['VO2Max'])]\n",
    "df3 = pd.merge(df2, data_Athletes[['ID','First Name','Last Name','sport']], on='ID', how='left')\n",
    "sprt = df3['sport'].values[0]\n",
    "#printing the sport\n",
    "print(f\"Athlete from {val} had the highest average\")"
   ]
  },
  {
   "cell_type": "markdown",
   "id": "cad01be4",
   "metadata": {},
   "source": [
    "**pending68. What % of athletes exceeded 90% of max HR? (Max HR is calculated as 220-Age)**"
   ]
  },
  {
   "cell_type": "code",
   "execution_count": 10,
   "id": "6091b78c",
   "metadata": {
    "scrolled": true
   },
   "outputs": [
    {
     "ename": "SyntaxError",
     "evalue": "invalid syntax (3246078284.py, line 4)",
     "output_type": "error",
     "traceback": [
      "\u001b[0;36m  Cell \u001b[0;32mIn[10], line 4\u001b[0;36m\u001b[0m\n\u001b[0;31m    df2 = .head()\u001b[0m\n\u001b[0m          ^\u001b[0m\n\u001b[0;31mSyntaxError\u001b[0m\u001b[0;31m:\u001b[0m invalid syntax\n"
     ]
    }
   ],
   "source": [
    "#first find hr, then max hr and then 90% of max hr and then % of athelets\n",
    "#data_Merged.head()\n",
    "df1 = data_Merged.assign(HR = 60/(data_Merged['RR']/1000))\n",
    "df2 = .head()"
   ]
  },
  {
   "cell_type": "markdown",
   "id": "23b7f679",
   "metadata": {},
   "source": [
    "**69. What was the lowest heart rate recorded at a power wattage of 200**"
   ]
  },
  {
   "cell_type": "code",
   "execution_count": 11,
   "id": "4b1769b5",
   "metadata": {
    "scrolled": true
   },
   "outputs": [
    {
     "name": "stdout",
     "output_type": "stream",
     "text": [
      "Lowest heart rate recorded at a power wattage of 200 is \n",
      " 71.77033492822967\n"
     ]
    }
   ],
   "source": [
    "#calculating heart rate and creating a new dataframe\n",
    "df1 = data_Merged.assign(HR = 60/(data_Merged['RR']/1000))\n",
    "#applying the condition on the dataframe\n",
    "df2 = df1[df1['power']==200]\n",
    "#printing the lowest heart rate \n",
    "print('Lowest heart rate recorded at a power wattage of 200 is \\n',df2['HR'].min())"
   ]
  },
  {
   "cell_type": "markdown",
   "id": "db741109",
   "metadata": {},
   "source": [
    "**71. Create a crosstab to show each sport as a column and each heart rate zone as rows with counts of rows that satisfy each condition as values**"
   ]
  },
  {
   "cell_type": "code",
   "execution_count": null,
   "id": "0fe812c2",
   "metadata": {},
   "outputs": [],
   "source": []
  },
  {
   "cell_type": "markdown",
   "id": "f4ebd2e7",
   "metadata": {},
   "source": [
    "**72. Provide an example of a lambda function that multiplies any 2 input values.**"
   ]
  },
  {
   "cell_type": "code",
   "execution_count": 1,
   "id": "6231cd7e",
   "metadata": {},
   "outputs": [
    {
     "name": "stdout",
     "output_type": "stream",
     "text": [
      "Enter the first number: 6\n",
      "Enter the second number: 8\n",
      "The result of multiplying 6.0 and 8.0 is: 48.0\n"
     ]
    }
   ],
   "source": [
    "#lambda function\n",
    "multiply = lambda x, y: x * y\n",
    "#getting input from the user\n",
    "x = float(input(\"Enter the first number: \"))\n",
    "y = float(input(\"Enter the second number: \"))\n",
    "#calling the lambda function with user inputs and printing the result\n",
    "result = multiply(x, y)\n",
    "print(f\"The result of multiplying {x} and {y} is: {result}\")"
   ]
  },
  {
   "cell_type": "markdown",
   "id": "efe8fa72",
   "metadata": {},
   "source": [
    "**74. Take a students full name and reverse it using a for loop**"
   ]
  },
  {
   "cell_type": "code",
   "execution_count": 114,
   "id": "7c47bc23",
   "metadata": {
    "scrolled": true
   },
   "outputs": [
    {
     "name": "stdout",
     "output_type": "stream",
     "text": [
      "nadroJ yliL\n"
     ]
    }
   ],
   "source": [
    "#taking an athlete name\n",
    "df = data_Athletes.iloc[[9]]\n",
    "#concatenating first name and last name to get the full name\n",
    "name = df['First Name'] + ' ' + df['Last Name']\n",
    "fullname = name.to_string(index=False)\n",
    "reversed_name = \"\"\n",
    "#for loop to reverse the fullname\n",
    "for i in fullname:\n",
    "    reversed_name = i + reversed_name\n",
    "#printing the reversed name\n",
    "print(reversed_name)"
   ]
  },
  {
   "cell_type": "markdown",
   "id": "682eba40",
   "metadata": {},
   "source": [
    "**75. What was the maximum heart rate recorded during the test. Which athlete did it belong to? \n",
    "Display name, sport and HR**"
   ]
  },
  {
   "cell_type": "code",
   "execution_count": 49,
   "id": "5ed08a36",
   "metadata": {},
   "outputs": [
    {
     "name": "stdout",
     "output_type": "stream",
     "text": [
      "First Name Last Name   sport         HR\n",
      "     Grace   Simmons fencing 238.095238\n"
     ]
    }
   ],
   "source": [
    "#calculating HR \n",
    "df = data_Merged.assign(HR = 60/(data_Merged['RR']/1000))\n",
    "#fetching maximum HR\n",
    "df1 = df[df['HR'] == max(df['HR'])]\n",
    "#display the details of an athlete who has maximum hear rate\n",
    "df2 = pd.merge(df1, data_Athletes[['ID','First Name','Last Name','sport']], on='ID', how='inner')\n",
    "df3 = df2[['First Name','Last Name','sport','HR']]\n",
    "print(df3.to_string(index=False))\n"
   ]
  },
  {
   "cell_type": "markdown",
   "id": "96a0d681",
   "metadata": {},
   "source": [
    "**76. np.arange(1,31).reshape(6,5),find array slicing to get the elements 2,5,13,25,30.**"
   ]
  },
  {
   "cell_type": "code",
   "execution_count": 12,
   "id": "a226ee96",
   "metadata": {},
   "outputs": [
    {
     "name": "stdout",
     "output_type": "stream",
     "text": [
      "Actual array: \n",
      " [[ 1  2  3  4  5]\n",
      " [ 6  7  8  9 10]\n",
      " [11 12 13 14 15]\n",
      " [16 17 18 19 20]\n",
      " [21 22 23 24 25]\n",
      " [26 27 28 29 30]]\n",
      "Sliced elements: \n",
      " [[2]] [[5]] [[13]] [[25]] [[30]]\n"
     ]
    }
   ],
   "source": [
    "#given array\n",
    "arr = np.arange(1,31).reshape(6,5)\n",
    "#print the array\n",
    "print('Actual array: \\n',arr)\n",
    "#print the sliced elements\n",
    "print('Sliced elements: \\n',arr[0:1, 1:2],arr[0:1, 4:],arr[2:3, 2:3],arr[-2:-1, -1:],arr[-1:, -1:])\n"
   ]
  },
  {
   "cell_type": "markdown",
   "id": "62d26f4e",
   "metadata": {},
   "source": [
    "**77. Display a violin chart to show distribution of VO2Max against age.**"
   ]
  },
  {
   "cell_type": "code",
   "execution_count": 27,
   "id": "11763bca",
   "metadata": {},
   "outputs": [
    {
     "data": {
      "text/plain": [
       "<Axes: xlabel='age', ylabel='VO2Max'>"
      ]
     },
     "execution_count": 27,
     "metadata": {},
     "output_type": "execute_result"
    },
    {
     "data": {
      "image/png": "[encoded data removed]",
      "text/plain": [
       "<Figure size 640x480 with 1 Axes>"
      ]
     },
     "metadata": {},
     "output_type": "display_data"
    }
   ],
   "source": [
    "#grouping the data and calculating VO2Sum for each athlete\n",
    "df = data_Merged.groupby(['ID'])['VO2'].sum().reset_index(name = 'VO2Sum')\n",
    "#merging the data to fetch the weight of each athlete\n",
    "df1 = pd.merge(df, data_Athletes[['ID','Weight','age']], on='ID', how='inner')\n",
    "#calculating VO2Max\n",
    "df1['VO2Max'] = df1['VO2Sum']/df1['Weight'] \n",
    "#displaying the plot\n",
    "sns.violinplot(x ='age', y ='VO2Max', data = df1)"
   ]
  },
  {
   "cell_type": "markdown",
   "id": "3bd7eac6",
   "metadata": {},
   "source": [
    "**79. Plot the Donut chart athlete distrubution by Gender**"
   ]
  },
  {
   "cell_type": "code",
   "execution_count": 13,
   "id": "27f57473",
   "metadata": {},
   "outputs": [
    {
     "data": {
      "image/png": "[encoded data removed]",
      "text/plain": [
       "<Figure size 600x600 with 1 Axes>"
      ]
     },
     "metadata": {},
     "output_type": "display_data"
    }
   ],
   "source": [
    "#count of athletes based on gender\n",
    "count = data_Athletes['Gender'].value_counts()\n",
    "#choosing the figure size\n",
    "plt.figure(figsize=(6, 6))\n",
    "#plotting the pie chart\n",
    "plt.pie(count, labels=count.index)\n",
    "#adding circle to the pie chart\n",
    "hole = plt.Circle((0,0),0.65,facecolor = 'white')\n",
    "plt.gcf().gca().add_artist(hole)\n",
    "#adding Title of chart\n",
    "plt.title('Athlete Distribution by Gender',loc = 'left') \n",
    "#display the plot\n",
    "plt.show()"
   ]
  },
  {
   "cell_type": "markdown",
   "id": "2eb99282",
   "metadata": {},
   "source": [
    "**80. find the size of Tuple for any given input**"
   ]
  },
  {
   "cell_type": "code",
   "execution_count": 14,
   "id": "ac9becce",
   "metadata": {},
   "outputs": [
    {
     "name": "stdout",
     "output_type": "stream",
     "text": [
      "Size of Tuple: 56bytes\n"
     ]
    }
   ],
   "source": [
    "#sample tuple\n",
    "tupl = (\"Python\",\"Hackathon\",\"Aug\",2024)\n",
    "#print the size of the tuple\n",
    "print(\"Size of Tuple: \" + str(tupl.__sizeof__()) + \"bytes\")\n",
    " "
   ]
  },
  {
   "cell_type": "code",
   "execution_count": null,
   "id": "7bad228e",
   "metadata": {},
   "outputs": [],
   "source": []
  },
  {
   "cell_type": "code",
   "execution_count": null,
   "id": "16769141",
   "metadata": {},
   "outputs": [],
   "source": []
  },
  {
   "cell_type": "code",
   "execution_count": null,
   "id": "f6cbe364",
   "metadata": {},
   "outputs": [],
   "source": []
  }
 ],
 "metadata": {
  "kernelspec": {
   "display_name": "Python 3 (ipykernel)",
   "language": "python",
   "name": "python3"
  },
  "language_info": {
   "codemirror_mode": {
    "name": "ipython",
    "version": 3
   },
   "file_extension": ".py",
   "mimetype": "text/x-python",
   "name": "python",
   "nbconvert_exporter": "python",
   "pygments_lexer": "ipython3",
   "version": "3.9.13"
  }
 },
 "nbformat": 4,
 "nbformat_minor": 5
}
