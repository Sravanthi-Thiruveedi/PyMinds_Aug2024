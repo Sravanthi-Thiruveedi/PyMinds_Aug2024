{
 "cells": [
  {
   "cell_type": "code",
   "execution_count": 258,
   "id": "31592efa",
   "metadata": {},
   "outputs": [],
   "source": [
    "import pandas as pd\n",
    "import numpy as np\n",
    "import datetime as dt\n",
    "import matplotlib.pyplot as plt\n",
    "import seaborn as sns"
   ]
  },
  {
   "cell_type": "code",
   "execution_count": 260,
   "id": "e32627f8",
   "metadata": {
    "scrolled": false
   },
   "outputs": [
    {
     "name": "stderr",
     "output_type": "stream",
     "text": [
      "/Users/sravanthithiruveedi/opt/anaconda3/lib/python3.9/site-packages/openpyxl/worksheet/_reader.py:329: UserWarning: Unknown extension is not supported and will be removed\n",
      "  warn(msg)\n",
      "/Users/sravanthithiruveedi/opt/anaconda3/lib/python3.9/site-packages/openpyxl/worksheet/_reader.py:329: UserWarning: Unknown extension is not supported and will be removed\n",
      "  warn(msg)\n",
      "/Users/sravanthithiruveedi/opt/anaconda3/lib/python3.9/site-packages/openpyxl/worksheet/_reader.py:329: UserWarning: Unknown extension is not supported and will be removed\n",
      "  warn(msg)\n"
     ]
    }
   ],
   "source": [
    "data = pd.read_excel('V02Max_Combined.xlsx')\n",
    "data_Merged = pd.read_excel(\"merged_athletes_data.xlsx\")\n",
    "data_Kayaking = pd.read_excel(\"V02Max_Combined.xlsx\", \"Kayaking\")\n",
    "data_Athletes = pd.read_excel(\"V02Max_Combined.xlsx\", \"Athletes\")\n",
    "data_Triathlon = pd.read_excel(\"V02Max_Combined.xlsx\", \"Triathlon\")\n",
    "data_Fencing = pd.read_excel(\"V02Max_Combined.xlsx\", \"Fencing\")\n",
    "data_Criteria = pd.read_excel(\"crieteria_data.xlsx\")"
   ]
  },
  {
   "cell_type": "markdown",
   "id": "671d70ac",
   "metadata": {},
   "source": [
    "**61. Reverse an arrays order in Python. You can use any array with any values you like.**"
   ]
  },
  {
   "cell_type": "code",
   "execution_count": 444,
   "id": "fd73bfbe",
   "metadata": {},
   "outputs": [
    {
     "name": "stdout",
     "output_type": "stream",
     "text": [
      "Reversed array is \n",
      " ['Python', 'Hackathon', 'Aug', '2024']\n"
     ]
    }
   ],
   "source": [
    "#define an array\n",
    "arr = ['2024','Aug','Hackathon','Python']\n",
    "\n",
    "#reverse an array\n",
    "arr.reverse()\n",
    "\n",
    "#print the array\n",
    "print(f\"Reversed array is \\n {arr}\")"
   ]
  },
  {
   "cell_type": "markdown",
   "id": "139b6284",
   "metadata": {},
   "source": [
    "**62. What is the root mean of successive differences for 30 consecutive minutes for each athlete.**"
   ]
  },
  {
   "cell_type": "code",
   "execution_count": 478,
   "id": "034d613a",
   "metadata": {},
   "outputs": [
    {
     "name": "stdout",
     "output_type": "stream",
     "text": [
      "The root mean of successive differences for 30 consecutive minutes for each athlete:\n",
      "  ID     RMSD\n",
      "  1 0.084127\n",
      "  2 0.089465\n",
      "  3 0.088568\n",
      "  4 0.083907\n",
      "  5 0.086687\n",
      "  6 0.090569\n",
      "  7 0.087785\n",
      "  8 0.089548\n",
      "  9 0.082054\n",
      " 10 0.084932\n",
      " 11 0.085572\n",
      " 12 0.086043\n",
      " 13 0.086173\n",
      " 14 0.086494\n",
      " 15 0.086226\n",
      " 16 0.086006\n",
      " 17 0.090053\n",
      " 18 0.085983\n"
     ]
    }
   ],
   "source": [
    "#calculating HR for all the athletes\n",
    "df = data_Merged.assign(HR = 60/(data_Merged['RR']/1000))\n",
    "\n",
    "#fetching the age of each athlete\n",
    "df = pd.merge(df, data_Athletes[['ID','sport']], on='ID', how='inner')\n",
    "\n",
    "#converting time to minutes\n",
    "df['Minute'] = df['time'] // 60\n",
    "\n",
    "#creating a function\n",
    "def calculate_rmsd(df):\n",
    "    results = []\n",
    "    for athlete, group in df.groupby('ID'):\n",
    "        #sort the data\n",
    "        group = group.sort_values('Minute')\n",
    "        \n",
    "        #calculating successive differences\n",
    "        group['successive_diff'] = group['Minute'].diff()\n",
    "        \n",
    "        #drop NaN values resulting from diff()\n",
    "        group = group.dropna()\n",
    "        \n",
    "        #calculating squared differences\n",
    "        group['squared_diff'] = group['successive_diff'] ** 2\n",
    "        \n",
    "        #calculating mean of squared differences\n",
    "        mean_squared_diff = group['squared_diff'].mean()\n",
    "        \n",
    "        #calculating RMSD\n",
    "        rmsd = np.sqrt(mean_squared_diff)\n",
    "        \n",
    "        #results\n",
    "        results.append({'ID': athlete, 'RMSD': rmsd})\n",
    "    \n",
    "    return pd.DataFrame(results)\n",
    "\n",
    "\n",
    "#calculating RMSD for each athlete\n",
    "df_rmsd = calculate_rmsd(df).to_string(index = False)\n",
    "\n",
    "#printing the result\n",
    "print(f\"The root mean of successive differences for 30 consecutive minutes for each athlete:\\n {df_rmsd}\")"
   ]
  },
  {
   "cell_type": "markdown",
   "id": "5b0e9c60",
   "metadata": {},
   "source": [
    "**63. On average how many minutes did each athlete in the sport of fencing spend in Zone 5?**"
   ]
  },
  {
   "cell_type": "code",
   "execution_count": 480,
   "id": "f99750e5",
   "metadata": {},
   "outputs": [
    {
     "name": "stdout",
     "output_type": "stream",
     "text": [
      "Each athlete in the sport of fencing spent in Zone 5:\n",
      " ID        time\n",
      "  1  583.072779\n",
      "  2  497.537895\n",
      "  4 1117.961396\n",
      "  5 1036.612511\n",
      "  6  886.838256\n",
      "  7  590.217437\n",
      "  8  613.007886\n",
      "  9  672.265517\n",
      " 10  699.996670\n"
     ]
    }
   ],
   "source": [
    "#calculating HR for all the athletes in Fencing\n",
    "df = data_Fencing.assign(HR = 60/(data_Fencing['RR']/1000))\n",
    "\n",
    "#fetching the age of each athlete\n",
    "df = pd.merge(df, data_Athletes[['ID','age']], on='ID', how='inner')\n",
    "\n",
    "#calculating Max HR\n",
    "df = df.assign(MaxHR = 220 - df['age'])\n",
    "\n",
    "#calculating the lower bound and upper bound for Zone 5\n",
    "df['LB_Zone5'] = 0.90 * df['MaxHR']\n",
    "df['UB_Zone5'] = 1 * df['MaxHR']\n",
    "\n",
    "#checking if the HR is falling under zone 5\n",
    "df['Is_Zone5'] = (df['HR'] >= df['LB_Zone5']) & (df['HR'] < df['UB_Zone5'])\n",
    "df = df[df['Is_Zone5'] == True]\n",
    "\n",
    "#calculating mean of time spent in zone 5 for each athelte\n",
    "df_Zone5 = df.groupby(['ID'])['time'].mean().reset_index().to_string(index = False)\n",
    "\n",
    "#printing the result\n",
    "print(f\"Each athlete in the sport of fencing spent in Zone 5:\\n{df_Zone5}\")\n",
    "      "
   ]
  },
  {
   "cell_type": "markdown",
   "id": "2af9fcdc",
   "metadata": {},
   "source": [
    "**64. Count athletes based on Gender using count plot**"
   ]
  },
  {
   "cell_type": "code",
   "execution_count": 507,
   "id": "8b42818e",
   "metadata": {
    "scrolled": true
   },
   "outputs": [
    {
     "data": {
      "image/png": "[encoded data removed]",
      "text/plain": [
       "<Figure size 640x480 with 1 Axes>"
      ]
     },
     "metadata": {},
     "output_type": "display_data"
    }
   ],
   "source": [
    "#count plot\n",
    "plot = sns.countplot(x ='Gender',data = data_Athletes, hue = 'Gender')\n",
    "plot.set(xlabel = 'Gender',ylabel = 'Count of Athletes')\n",
    "plt.title(\"Count of Athletes based on Gender\")\n",
    "\n",
    "#show the plot\n",
    "plt.show(plot)"
   ]
  },
  {
   "cell_type": "markdown",
   "id": "4dc18051",
   "metadata": {},
   "source": [
    "**65.    [ 1,  2,  3,  4,  5],\n",
    "       [ 6,  7,  8,  9, 10],\n",
    "      [11, 12, 13, 14, 15],\n",
    "       [16, 17, 18, 19, 20],\n",
    "      [21, 22, 23, 24, 25],\n",
    "      [26, 27, 28, 29, 30]  Use array slicing to display elements 4,7,10,17.**"
   ]
  },
  {
   "cell_type": "code",
   "execution_count": 448,
   "id": "9a13e447",
   "metadata": {},
   "outputs": [
    {
     "name": "stdout",
     "output_type": "stream",
     "text": [
      "Sliced elements: \n",
      " [[4]] [[7]] [[10]] [[17]]\n"
     ]
    }
   ],
   "source": [
    "#given array\n",
    "arr = np.array([\n",
    "      [ 1,  2,  3,  4,  5],\n",
    "      [ 6,  7,  8,  9, 10],\n",
    "      [11, 12, 13, 14, 15],\n",
    "      [16, 17, 18, 19, 20],\n",
    "      [21, 22, 23, 24, 25],\n",
    "      [26, 27, 28, 29, 30]\n",
    "      ])\n",
    "\n",
    "#print the elements 4,7,10,17\n",
    "print('Sliced elements: \\n',arr[0:1, 3:4],arr[1:2, 1:2],arr[1:2, 4:],arr[3:4, 1:2] )"
   ]
  },
  {
   "cell_type": "markdown",
   "id": "0adf894b",
   "metadata": {},
   "source": [
    "**66. On average, how long did each participant spend at 200 watts?**"
   ]
  },
  {
   "cell_type": "code",
   "execution_count": 491,
   "id": "5e3da377",
   "metadata": {},
   "outputs": [
    {
     "name": "stdout",
     "output_type": "stream",
     "text": [
      "The time each participant spent at 200 watts is:\n",
      " ID  power       time\n",
      "  1    200      0.000\n",
      "  2    200      0.000\n",
      "  3    200 111063.168\n",
      "  4    200 106129.452\n",
      "  5    200 123354.488\n",
      "  6    200 124098.652\n",
      "  7    200      0.000\n",
      "  8    200      0.000\n",
      "  9    200  12405.704\n",
      " 10    200  74352.920\n",
      " 11    200 114078.616\n",
      " 12    200 113048.112\n",
      " 13    200 117426.128\n",
      " 14    200 136842.528\n",
      " 15    200 141576.000\n",
      " 16    200 134196.776\n",
      " 17    200      0.000\n",
      " 18    200  61698.584\n"
     ]
    }
   ],
   "source": [
    "#grouping the data based on ID and power and finding the sum of time spent\n",
    "df = data_Merged.groupby(['ID', 'power'])['time'].sum().reset_index()\n",
    "\n",
    "#applying the given condition\n",
    "df1 = df[df['power']== 200]\n",
    "\n",
    "#creating a dataFrame with all IDs and the specific power level (200 watts)\n",
    "all_ids = pd.DataFrame({'ID': df['ID'].unique()})\n",
    "all_ids['power'] = 200\n",
    "\n",
    "#performing a left merge to ensure all IDs are included\n",
    "df1 = pd.merge(all_ids, df[df['power'] == 200], on=['ID', 'power'], how='left')\n",
    "\n",
    "#fill NaN values in the 'time' column with 0\n",
    "df1['time'] = df1['time'].fillna(0)\n",
    "\n",
    "#printing the resultant data\n",
    "print(f\"The time each participant spent at 200 watts is:\\n{df1.to_string(index = False)}\")"
   ]
  },
  {
   "cell_type": "markdown",
   "id": "022d23c3",
   "metadata": {},
   "source": [
    "**67. Athletes from which sport had the highest average cardiorespiratory fitness in terms of v02 max?**"
   ]
  },
  {
   "cell_type": "code",
   "execution_count": 492,
   "id": "8d2a67d5",
   "metadata": {},
   "outputs": [
    {
     "name": "stdout",
     "output_type": "stream",
     "text": [
      "Athlete from triathlon had the highest average\n"
     ]
    }
   ],
   "source": [
    "#grouping the data and calculating VO2Sum for each athlete\n",
    "df = data_Merged.groupby(['ID'])['VO2'].sum().reset_index(name = 'VO2Sum')\n",
    "\n",
    "#merging the data to fetch the weight of each athlete\n",
    "df1 = pd.merge(df, data_Athletes[['ID','Weight','sport']], on='ID', how='inner')\n",
    "\n",
    "#calculating VO2Max\n",
    "df1['VO2Max'] = df1['VO2Sum']/df1['Weight']\n",
    "\n",
    "#calculating the average VO2Max for each sport\n",
    "df2 = df1.groupby(['sport'])['VO2Max'].mean().reset_index(name = 'Avg_VO2Max')\n",
    "\n",
    "#finding the highest average VO2 Max\n",
    "df3 = df2[df2['Avg_VO2Max'] == df2['Avg_VO2Max'].max()] \n",
    "sport = df3['sport'].values[0]\n",
    "\n",
    "#printing the sport\n",
    "print(f\"Athlete from {sport} had the highest average\")"
   ]
  },
  {
   "cell_type": "markdown",
   "id": "cad01be4",
   "metadata": {},
   "source": [
    "**68. What % of athletes exceeded 90% of max HR? (Max HR is calculated as 220-Age)**"
   ]
  },
  {
   "cell_type": "code",
   "execution_count": 473,
   "id": "6091b78c",
   "metadata": {
    "scrolled": true
   },
   "outputs": [
    {
     "name": "stdout",
     "output_type": "stream",
     "text": [
      "Percentage of athletes exceeded 90% of max HR is \n",
      "94.44%\n"
     ]
    }
   ],
   "source": [
    "#calculating HR for all the athletes\n",
    "df = data_Merged.assign(HR = 60/(data_Merged['RR']/1000))\n",
    "\n",
    "#fetching the age of each athlete\n",
    "df = pd.merge(df, data_Athletes[['ID','age']], on='ID', how='inner')\n",
    "\n",
    "#calculating Max HR\n",
    "df = df.assign(MaxHR = 220 - df['age'])\n",
    "\n",
    "#calculating the 90% of Max HR\n",
    "df['90%ofMaxHR'] = 0.90 * df['MaxHR']\n",
    "\n",
    "#checking if the HR is exceeding 90% of max HR and assigning true\n",
    "df['ExceedingMaxHR'] = df['HR'] > df['90%ofMaxHR']\n",
    "df = df[df['ExceedingMaxHR'] == True]\n",
    "\n",
    "#calculating the percentage of athletes \n",
    "percentage = (df['ID'].nunique()/data_Merged['ID'].nunique())*100\n",
    "\n",
    "#printing the result\n",
    "print(f\"Percentage of athletes exceeded 90% of max HR is \\n{percentage:.2f}%\")     "
   ]
  },
  {
   "cell_type": "markdown",
   "id": "23b7f679",
   "metadata": {},
   "source": [
    "**69. What was the lowest heart rate recorded at a power wattage of 200**"
   ]
  },
  {
   "cell_type": "code",
   "execution_count": 494,
   "id": "4b1769b5",
   "metadata": {
    "scrolled": true
   },
   "outputs": [
    {
     "name": "stdout",
     "output_type": "stream",
     "text": [
      "Lowest heart rate recorded at a power wattage of 200 is \n",
      "71.77\n"
     ]
    }
   ],
   "source": [
    "#calculating heart rate and creating a new dataframe\n",
    "df1 = data_Merged.assign(HR = 60/(data_Merged['RR']/1000))\n",
    "\n",
    "#applying the condition on the dataframe\n",
    "df2 = df1[df1['power']==200]\n",
    "\n",
    "#assigning to a variable\n",
    "lowest_hr = df2['HR'].min()\n",
    "\n",
    "#printing the variable\n",
    "print(f\"Lowest heart rate recorded at a power wattage of 200 is \\n{lowest_hr:.2f}\")"
   ]
  },
  {
   "cell_type": "markdown",
   "id": "dd641936",
   "metadata": {},
   "source": [
    "**70. On average how long did most atheltes spend at 75% of Max HR (Max HR is calculated as 220-age)**"
   ]
  },
  {
   "cell_type": "code",
   "execution_count": 495,
   "id": "86d9f17b",
   "metadata": {},
   "outputs": [
    {
     "name": "stdout",
     "output_type": "stream",
     "text": [
      "The average time spent by most athletes at 75% of max HR is \n",
      "0 sec\n"
     ]
    }
   ],
   "source": [
    "#calculating HR for all the athletes\n",
    "df = data_Merged.assign(HR = 60/(data_Merged['RR']/1000))\n",
    "\n",
    "#fetching the age of each athlete\n",
    "df = pd.merge(df, data_Athletes[['ID','age']], on='ID', how='inner')\n",
    "\n",
    "#calculating Max HR\n",
    "df = df.assign(MaxHR = 220 - df['age'])\n",
    "\n",
    "#calculating 75% of Max HR\n",
    "df['75%ofMaxHR'] = 0.75 * df['MaxHR']\n",
    "\n",
    "#checking if the HR is equal to 75% of max HR and assigning TRUE\n",
    "df['Is75%ofMaxHR'] = df['HR'] == df['75%ofMaxHR']\n",
    "df = df[df['Is75%ofMaxHR'] == True]\n",
    "\n",
    "#assigning 0 to the average_time_spent if datset is empty\n",
    "if df.empty:\n",
    "    avg_time_spent = 0\n",
    "else:\n",
    "    #grouping by 'ID' and calculating the mean time\n",
    "    df = df.groupby(['ID'])['time'].mean().reset_index()\n",
    "    \n",
    "    #if there are no matching rows for an athlete, fill the resulting NaN with 0\n",
    "    df['time'] = df['time'].fillna(0)\n",
    "    \n",
    "    #calculating the average time spent at 75% of Max HR across all athletes\n",
    "    avg_time_spent = df['time'].mean()\n",
    "\n",
    "#printing the result\n",
    "print(f\"The average time spent by most athletes at 75% of max HR is \\n{avg_time_spent} sec\")"
   ]
  },
  {
   "cell_type": "markdown",
   "id": "ba8c7d4a",
   "metadata": {},
   "source": [
    "**71. Create a crosstab to show each sport as a column and each heart rate zone as rows with counts of rows that satisfy each condition as values**"
   ]
  },
  {
   "cell_type": "code",
   "execution_count": 496,
   "id": "dfeb9164",
   "metadata": {},
   "outputs": [
    {
     "name": "stdout",
     "output_type": "stream",
     "text": [
      "sport    fencing  kayak  triathlon\n",
      "HR_Zone                           \n",
      "Zone 1      6590   4782        952\n",
      "Zone 2      5654   4594       1409\n",
      "Zone 3      5920   3867        871\n",
      "Zone 4      7209   4365       1101\n",
      "Zone 5      2230   1870        648\n"
     ]
    }
   ],
   "source": [
    "#calculating HR for all the athletes\n",
    "df = data_Merged.assign(HR = 60/(data_Merged['RR']/1000))\n",
    "\n",
    "#fetching the age of each athlete\n",
    "df = pd.merge(df, data_Athletes[['ID','age']], on='ID', how='inner')\n",
    "\n",
    "#calculating Max HR\n",
    "df = df.assign(MaxHR = 220 - df['age'])\n",
    "\n",
    "#finding HR zones\n",
    "def hr_zone(HR,MaxHR):\n",
    "    if HR <= 0.6 * MaxHR:\n",
    "        return 'Zone 1'\n",
    "    elif HR <= 0.7 * MaxHR:\n",
    "        return 'Zone 2'\n",
    "    elif HR <= 0.8 * MaxHR:\n",
    "        return 'Zone 3'\n",
    "    elif HR <= 0.9 * MaxHR:\n",
    "        return 'Zone 4'\n",
    "    else:\n",
    "        return 'Zone 5'\n",
    "df['HR_Zone'] = df.apply(lambda row:hr_zone(row['HR'], row['MaxHR']),axis = 1)\n",
    "\n",
    "#merging the data to get sport\n",
    "df = pd.merge(df, data_Athletes[['ID','sport']], on='ID', how='inner')\n",
    "\n",
    "#creating crosstab\n",
    "crosstab = pd.crosstab(df['HR_Zone'], df['sport'])\n",
    "\n",
    "#printing the result\n",
    "print(crosstab)"
   ]
  },
  {
   "cell_type": "markdown",
   "id": "f4ebd2e7",
   "metadata": {},
   "source": [
    "**72. Provide an example of a lambda function that multiplies any 2 input values.**"
   ]
  },
  {
   "cell_type": "code",
   "execution_count": 476,
   "id": "6231cd7e",
   "metadata": {},
   "outputs": [
    {
     "name": "stdout",
     "output_type": "stream",
     "text": [
      "Enter the first number: 8\n",
      "Enter the second number: 9\n",
      "The result of multiplying 8.0 and 9.0 is: 72.0\n"
     ]
    }
   ],
   "source": [
    "#lambda function\n",
    "multiply = lambda x, y: x * y\n",
    "\n",
    "#getting input from the user\n",
    "x = float(input(\"Enter the first number: \"))\n",
    "y = float(input(\"Enter the second number: \"))\n",
    "\n",
    "#calling the lambda function with user inputs and printing the result\n",
    "result = multiply(x, y)\n",
    "\n",
    "#printing the result\n",
    "print(f\"The result of multiplying {x} and {y} is: {result}\")"
   ]
  },
  {
   "cell_type": "markdown",
   "id": "2d5bf8d9",
   "metadata": {},
   "source": [
    "**73. How long was athlete 17s warm up**"
   ]
  },
  {
   "cell_type": "code",
   "execution_count": 497,
   "id": "81f5c03d",
   "metadata": {},
   "outputs": [
    {
     "name": "stdout",
     "output_type": "stream",
     "text": [
      "The time of athletes 17s warm up is \n",
      "21963.832 sec\n"
     ]
    }
   ],
   "source": [
    "#fetching the athelte 17s information \n",
    "df = data_Criteria[data_Criteria['ID'] == 17]\n",
    "\n",
    "#selecting only at warm up phase\n",
    "df1 = df[df['phase'] == 'Warm Up']\n",
    "\n",
    "#summing up the time at warm up and assigning to a variable\n",
    "time_warmup = abs(df1['time'].sum())\n",
    "\n",
    "#printing the variable\n",
    "print(f\"The time of athletes 17s warm up is \\n{time_warmup} sec\")"
   ]
  },
  {
   "cell_type": "markdown",
   "id": "2d943528",
   "metadata": {},
   "source": [
    "**74. Take a students full name and reverse it using a for loop**"
   ]
  },
  {
   "cell_type": "code",
   "execution_count": 498,
   "id": "cf22220c",
   "metadata": {
    "scrolled": true
   },
   "outputs": [
    {
     "name": "stdout",
     "output_type": "stream",
     "text": [
      "nadroJ yliL\n"
     ]
    }
   ],
   "source": [
    "#taking an athlete name\n",
    "df = data_Athletes.iloc[[9]]\n",
    "\n",
    "#concatenating first name and last name to get the full name\n",
    "name = df['First Name'] + ' ' + df['Last Name']\n",
    "fullname = name.to_string(index=False)\n",
    "reversed_name = \"\"\n",
    "\n",
    "#for loop to reverse the fullname\n",
    "for i in fullname:\n",
    "    reversed_name = i + reversed_name\n",
    "    \n",
    "#printing the reversed name\n",
    "print(reversed_name)"
   ]
  },
  {
   "cell_type": "markdown",
   "id": "7917925a",
   "metadata": {},
   "source": [
    "**75. What was the maximum heart rate recorded during the test. Which athlete did it belong to? \n",
    "Display name, sport and HR**"
   ]
  },
  {
   "cell_type": "code",
   "execution_count": 500,
   "id": "6ce71975",
   "metadata": {},
   "outputs": [
    {
     "name": "stdout",
     "output_type": "stream",
     "text": [
      "The athlete details with maximum heart rate recorded is: \n",
      "First Name Last Name   sport         HR\n",
      "     Grace   Simmons fencing 238.095238\n"
     ]
    }
   ],
   "source": [
    "#calculating HR \n",
    "df = data_Merged.assign(HR = 60/(data_Merged['RR']/1000))\n",
    "\n",
    "#fetching maximum HR\n",
    "df1 = df[df['HR'] == max(df['HR'])]\n",
    "\n",
    "#display the details of an athlete who has maximum hear rate\n",
    "df2 = pd.merge(df1, data_Athletes[['ID','First Name','Last Name','sport']], on='ID', how='inner')\n",
    "df3 = df2[['First Name','Last Name','sport','HR']]\n",
    "df_maxhr = df3.to_string(index=False)\n",
    "\n",
    "#printing the result\n",
    "print(f\"The athlete details with maximum heart rate recorded is: \\n{df_maxhr}\")"
   ]
  },
  {
   "cell_type": "markdown",
   "id": "96a0d681",
   "metadata": {},
   "source": [
    "**76. np.arange(1,31).reshape(6,5),find array slicing to get the elements 2,5,13,25,30.**"
   ]
  },
  {
   "cell_type": "code",
   "execution_count": 501,
   "id": "a226ee96",
   "metadata": {},
   "outputs": [
    {
     "name": "stdout",
     "output_type": "stream",
     "text": [
      "Actual array: \n",
      " [[ 1  2  3  4  5]\n",
      " [ 6  7  8  9 10]\n",
      " [11 12 13 14 15]\n",
      " [16 17 18 19 20]\n",
      " [21 22 23 24 25]\n",
      " [26 27 28 29 30]]\n",
      "Sliced elements: \n",
      " [[2]] [[5]] [[13]] [[25]] [[30]]\n"
     ]
    }
   ],
   "source": [
    "#given array\n",
    "arr = np.arange(1,31).reshape(6,5)\n",
    "\n",
    "#print the array\n",
    "print('Actual array: \\n',arr)\n",
    "\n",
    "#print the sliced elements\n",
    "print('Sliced elements: \\n',arr[0:1, 1:2],arr[0:1, 4:],arr[2:3, 2:3],arr[-2:-1, -1:],arr[-1:, -1:])\n"
   ]
  },
  {
   "cell_type": "markdown",
   "id": "9e31b179",
   "metadata": {},
   "source": [
    "**77. Display a violin chart to show distribution of VO2Max against age.**"
   ]
  },
  {
   "cell_type": "code",
   "execution_count": 504,
   "id": "d5d6a081",
   "metadata": {},
   "outputs": [
    {
     "data": {
      "image/png": "[encoded data removed]",
      "text/plain": [
       "<Figure size 640x480 with 1 Axes>"
      ]
     },
     "metadata": {},
     "output_type": "display_data"
    }
   ],
   "source": [
    "#grouping the data and calculating VO2Sum for each athlete\n",
    "df = data_Merged.groupby(['ID'])['VO2'].sum().reset_index(name = 'VO2Sum')\n",
    "\n",
    "#merging the data to fetch the weight of each athlete\n",
    "df1 = pd.merge(df, data_Athletes[['ID','Weight','age']], on='ID', how='inner')\n",
    "\n",
    "#calculating VO2Max\n",
    "df1['VO2Max'] = df1['VO2Sum']/df1['Weight'] \n",
    "\n",
    "#displaying the plot\n",
    "sns.violinplot(x ='age', y ='VO2Max', data = df1)\n",
    "plt.title(\"Distribution of VO2Max against age\")\n",
    "plt.show()"
   ]
  },
  {
   "cell_type": "markdown",
   "id": "0fc6cb31",
   "metadata": {},
   "source": [
    "**78. Create a heatmap that show heart rate zones by minutes and the number of athletes in each HR and each minute.**"
   ]
  },
  {
   "cell_type": "code",
   "execution_count": 508,
   "id": "439c5547",
   "metadata": {
    "scrolled": true
   },
   "outputs": [
    {
     "data": {
      "image/png": "[encoded data removed]",
      "text/plain": [
       "<Figure size 1000x600 with 2 Axes>"
      ]
     },
     "metadata": {},
     "output_type": "display_data"
    }
   ],
   "source": [
    "#calculating HR for all the athletes\n",
    "df = data_Merged.assign(HR = 60/(data_Merged['RR']/1000))\n",
    "\n",
    "#fetching the age of each athlete\n",
    "df = pd.merge(df, data_Athletes[['ID','age']], on='ID', how='inner')\n",
    "\n",
    "#calculating Max HR\n",
    "df = df.assign(MaxHR = 220 - df['age'])\n",
    "\n",
    "#finding HR zones\n",
    "def hr_zone(HR,MaxHR):\n",
    "    if HR <= 0.6 * MaxHR:\n",
    "        return 'Zone 1'\n",
    "    elif HR <= 0.7 * MaxHR:\n",
    "        return 'Zone 2'\n",
    "    elif HR <= 0.8 * MaxHR:\n",
    "        return 'Zone 3'\n",
    "    elif HR <= 0.9 * MaxHR:\n",
    "        return 'Zone 4'\n",
    "    else:\n",
    "        return 'Zone 5'\n",
    "df['HR_Zone'] = df.apply(lambda row:hr_zone(row['HR'], row['MaxHR']),axis = 1)\n",
    "\n",
    "#converting the time to minutes\n",
    "df['Minute'] = df['time'] // 60\n",
    "\n",
    "#grouping by the minute and finding the count of athletes and most frequesnt zone in that minute\n",
    "df_grouped = df.groupby('Minute').agg(noofathletes=('ID', 'nunique'),\n",
    "             mostfrequentzone=('HR_Zone', lambda x: x.value_counts().idxmax())).reset_index()\n",
    "\n",
    "#pivoting the data\n",
    "df_pivot = df_grouped.pivot(index='Minute', columns='mostfrequentzone', values='noofathletes').fillna(0)\n",
    "\n",
    "#creating a heatmap with the pivoted data\n",
    "plt.figure(figsize=(10, 6))\n",
    "sns.heatmap(df_pivot, annot=True, cmap=\"YlGnBu\", linewidths=0.5)\n",
    "\n",
    "#add labels and title\n",
    "plt.title(\"Heatmap of Heart Rate Zones by Minute\")\n",
    "plt.xlabel(\"Heart Rate Zones\")\n",
    "plt.ylabel(\"Minutes\")\n",
    "\n",
    "#show the plot\n",
    "plt.show()"
   ]
  },
  {
   "cell_type": "markdown",
   "id": "3bd7eac6",
   "metadata": {},
   "source": [
    "**79. Plot the Donut chart athlete distrubution by Gender**"
   ]
  },
  {
   "cell_type": "code",
   "execution_count": 509,
   "id": "27f57473",
   "metadata": {},
   "outputs": [
    {
     "data": {
      "image/png": "[encoded data removed]",
      "text/plain": [
       "<Figure size 600x600 with 1 Axes>"
      ]
     },
     "metadata": {},
     "output_type": "display_data"
    }
   ],
   "source": [
    "#count of athletes based on gender\n",
    "count = data_Athletes['Gender'].value_counts()\n",
    "\n",
    "#choosing the figure size\n",
    "plt.figure(figsize=(6, 6))\n",
    "\n",
    "#plotting the pie chart\n",
    "plt.pie(count, labels=count.index)\n",
    "\n",
    "#adding circle to the pie chart\n",
    "hole = plt.Circle((0,0),0.65,facecolor = 'white')\n",
    "plt.gcf().gca().add_artist(hole)\n",
    "\n",
    "#adding Title of chart\n",
    "plt.title('Athlete Distribution by Gender',loc = 'left')\n",
    "\n",
    "#display the plot\n",
    "plt.show()"
   ]
  },
  {
   "cell_type": "markdown",
   "id": "2eb99282",
   "metadata": {},
   "source": [
    "**80. find the size of Tuple for any given input**"
   ]
  },
  {
   "cell_type": "code",
   "execution_count": 510,
   "id": "ac9becce",
   "metadata": {},
   "outputs": [
    {
     "name": "stdout",
     "output_type": "stream",
     "text": [
      "Size of Tuple: 56bytes\n"
     ]
    }
   ],
   "source": [
    "#sample tuple\n",
    "tupl = (\"Python\",\"Hackathon\",\"Aug\",2024)\n",
    "\n",
    "#print the size of the tuple\n",
    "print(\"Size of Tuple: \" + str(tupl.__sizeof__()) + \"bytes\")"
   ]
  },
  {
   "cell_type": "code",
   "execution_count": null,
   "id": "801798e0",
   "metadata": {},
   "outputs": [],
   "source": []
  }
 ],
 "metadata": {
  "kernelspec": {
   "display_name": "Python 3 (ipykernel)",
   "language": "python",
   "name": "python3"
  },
  "language_info": {
   "codemirror_mode": {
    "name": "ipython",
    "version": 3
   },
   "file_extension": ".py",
   "mimetype": "text/x-python",
   "name": "python",
   "nbconvert_exporter": "python",
   "pygments_lexer": "ipython3",
   "version": "3.9.13"
  }
 },
 "nbformat": 4,
 "nbformat_minor": 5
}
