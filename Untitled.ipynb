{
 "cells": [
  {
   "cell_type": "markdown",
   "id": "0a08b27e-0470-4819-a7f9-838839250812",
   "metadata": {},
   "source": [
    "test file by Anita"
   ]
  },
  {
   "cell_type": "code",
   "execution_count": null,
   "id": "55fceae4-9d9c-4dca-aa5f-1bfd3b97fb4b",
   "metadata": {},
   "outputs": [],
   "source": []
  },
  {
   "cell_type": "code",
   "execution_count": null,
   "id": "a8444a84-3cee-4d95-9977-2ca1dd511d6e",
   "metadata": {},
   "outputs": [],
   "source": []
  }
 ],
 "metadata": {
  "kernelspec": {
   "display_name": "Python 3 (ipykernel)",
   "language": "python",
   "name": "python3"
  },
  "language_info": {
   "codemirror_mode": {
    "name": "ipython",
    "version": 3
   },
   "file_extension": ".py",
   "mimetype": "text/x-python",
   "name": "python",
   "nbconvert_exporter": "python",
   "pygments_lexer": "ipython3",
   "version": "3.12.4"
  }
 },
 "nbformat": 4,
 "nbformat_minor": 5
}
