{
 "cells": [
  {
   "cell_type": "code",
   "execution_count": 1140,
   "id": "2b39d241-b44d-48d1-956b-f0fa3115c85c",
   "metadata": {},
   "outputs": [],
   "source": [
    "import numpy as np\n",
    "import datetime as dt\n",
    "import matplotlib.pyplot as plt\n",
    "from mpl_toolkits import mplot3d\n",
    "import seaborn as sns\n",
    "import warnings\n",
    "warnings.filterwarnings(\"ignore\")"
   ]
  },
  {
   "cell_type": "code",
   "execution_count": 241,
   "id": "66a45a6e-f8e2-4c4e-ac07-10de1f2e6fa6",
   "metadata": {},
   "outputs": [
    {
     "data": {
      "text/plain": [
       "'V02Max_Combined.xlsx'"
      ]
     },
     "execution_count": 241,
     "metadata": {},
     "output_type": "execute_result"
    }
   ],
   "source": [
    "# importing excel data\n",
    "xls = 'V02Max_Combined.xlsx'\n"
   ]
  },
  {
   "cell_type": "code",
   "execution_count": null,
   "id": "5cdde674-288e-4904-a075-cde3015869ab",
   "metadata": {},
   "outputs": [],
   "source": []
  },
  {
   "cell_type": "code",
   "execution_count": 1142,
   "id": "28fd0806-e840-43ea-9615-423a4d46a50d",
   "metadata": {},
   "outputs": [],
   "source": [
    "#importing each sheets in to seperate data frame\n",
    "data_Kayaking = pd.read_excel(xls,sheet_name = 'Kayaking')\n",
    "data_Athletes = pd.read_excel(xls, sheet_name = 'Athletes')\n",
    "data_Triathlon = pd.read_excel(xls,sheet_name =  'Triathlon')\n",
    "data_Fencing = pd.read_excel(xls,sheet_name =  'Fencing')\n"
   ]
  },
  {
   "cell_type": "code",
   "execution_count": 83,
   "id": "8048a8a6-2580-4f64-886f-b37fa5dd36e2",
   "metadata": {},
   "outputs": [
    {
     "data": {
      "text/html": [
       "<div>\n",
       "<style scoped>\n",
       "    .dataframe tbody tr th:only-of-type {\n",
       "        vertical-align: middle;\n",
       "    }\n",
       "\n",
       "    .dataframe tbody tr th {\n",
       "        vertical-align: top;\n",
       "    }\n",
       "\n",
       "    .dataframe thead th {\n",
       "        text-align: right;\n",
       "    }\n",
       "</style>\n",
       "<table border=\"1\" class=\"dataframe\">\n",
       "  <thead>\n",
       "    <tr style=\"text-align: right;\">\n",
       "      <th></th>\n",
       "      <th>ID</th>\n",
       "      <th>time</th>\n",
       "      <th>RR</th>\n",
       "      <th>VO2</th>\n",
       "      <th>power</th>\n",
       "    </tr>\n",
       "  </thead>\n",
       "  <tbody>\n",
       "    <tr>\n",
       "      <th>0</th>\n",
       "      <td>17</td>\n",
       "      <td>-182.408</td>\n",
       "      <td>736.0</td>\n",
       "      <td>0.363762</td>\n",
       "      <td>0</td>\n",
       "    </tr>\n",
       "    <tr>\n",
       "      <th>1</th>\n",
       "      <td>17</td>\n",
       "      <td>-181.672</td>\n",
       "      <td>736.0</td>\n",
       "      <td>0.363762</td>\n",
       "      <td>0</td>\n",
       "    </tr>\n",
       "    <tr>\n",
       "      <th>2</th>\n",
       "      <td>17</td>\n",
       "      <td>-180.968</td>\n",
       "      <td>704.0</td>\n",
       "      <td>0.363762</td>\n",
       "      <td>0</td>\n",
       "    </tr>\n",
       "    <tr>\n",
       "      <th>3</th>\n",
       "      <td>17</td>\n",
       "      <td>-180.268</td>\n",
       "      <td>700.0</td>\n",
       "      <td>0.363762</td>\n",
       "      <td>0</td>\n",
       "    </tr>\n",
       "    <tr>\n",
       "      <th>4</th>\n",
       "      <td>17</td>\n",
       "      <td>-179.616</td>\n",
       "      <td>652.0</td>\n",
       "      <td>0.363762</td>\n",
       "      <td>0</td>\n",
       "    </tr>\n",
       "    <tr>\n",
       "      <th>...</th>\n",
       "      <td>...</td>\n",
       "      <td>...</td>\n",
       "      <td>...</td>\n",
       "      <td>...</td>\n",
       "      <td>...</td>\n",
       "    </tr>\n",
       "    <tr>\n",
       "      <th>4976</th>\n",
       "      <td>18</td>\n",
       "      <td>947.288</td>\n",
       "      <td>536.0</td>\n",
       "      <td>0.507071</td>\n",
       "      <td>0</td>\n",
       "    </tr>\n",
       "    <tr>\n",
       "      <th>4977</th>\n",
       "      <td>18</td>\n",
       "      <td>947.816</td>\n",
       "      <td>528.0</td>\n",
       "      <td>0.507071</td>\n",
       "      <td>0</td>\n",
       "    </tr>\n",
       "    <tr>\n",
       "      <th>4978</th>\n",
       "      <td>18</td>\n",
       "      <td>948.344</td>\n",
       "      <td>528.0</td>\n",
       "      <td>0.507071</td>\n",
       "      <td>0</td>\n",
       "    </tr>\n",
       "    <tr>\n",
       "      <th>4979</th>\n",
       "      <td>18</td>\n",
       "      <td>948.884</td>\n",
       "      <td>540.0</td>\n",
       "      <td>0.507071</td>\n",
       "      <td>0</td>\n",
       "    </tr>\n",
       "    <tr>\n",
       "      <th>4980</th>\n",
       "      <td>18</td>\n",
       "      <td>949.424</td>\n",
       "      <td>540.0</td>\n",
       "      <td>0.507071</td>\n",
       "      <td>0</td>\n",
       "    </tr>\n",
       "  </tbody>\n",
       "</table>\n",
       "<p>4981 rows × 5 columns</p>\n",
       "</div>"
      ],
      "text/plain": [
       "      ID     time     RR       VO2  power\n",
       "0     17 -182.408  736.0  0.363762      0\n",
       "1     17 -181.672  736.0  0.363762      0\n",
       "2     17 -180.968  704.0  0.363762      0\n",
       "3     17 -180.268  700.0  0.363762      0\n",
       "4     17 -179.616  652.0  0.363762      0\n",
       "...   ..      ...    ...       ...    ...\n",
       "4976  18  947.288  536.0  0.507071      0\n",
       "4977  18  947.816  528.0  0.507071      0\n",
       "4978  18  948.344  528.0  0.507071      0\n",
       "4979  18  948.884  540.0  0.507071      0\n",
       "4980  18  949.424  540.0  0.507071      0\n",
       "\n",
       "[4981 rows x 5 columns]"
      ]
     },
     "execution_count": 83,
     "metadata": {},
     "output_type": "execute_result"
    }
   ],
   "source": [
    "data_Triathlon"
   ]
  },
  {
   "cell_type": "code",
   "execution_count": 296,
   "id": "23e374b2-bf3d-488c-8fc0-d377ea855522",
   "metadata": {},
   "outputs": [
    {
     "data": {
      "text/html": [
       "<div>\n",
       "<style scoped>\n",
       "    .dataframe tbody tr th:only-of-type {\n",
       "        vertical-align: middle;\n",
       "    }\n",
       "\n",
       "    .dataframe tbody tr th {\n",
       "        vertical-align: top;\n",
       "    }\n",
       "\n",
       "    .dataframe thead th {\n",
       "        text-align: right;\n",
       "    }\n",
       "</style>\n",
       "<table border=\"1\" class=\"dataframe\">\n",
       "  <thead>\n",
       "    <tr style=\"text-align: right;\">\n",
       "      <th></th>\n",
       "      <th>ID</th>\n",
       "      <th>time</th>\n",
       "      <th>RR</th>\n",
       "      <th>VO2</th>\n",
       "      <th>power</th>\n",
       "    </tr>\n",
       "  </thead>\n",
       "  <tbody>\n",
       "  </tbody>\n",
       "</table>\n",
       "</div>"
      ],
      "text/plain": [
       "Empty DataFrame\n",
       "Columns: [ID, time, RR, VO2, power]\n",
       "Index: []"
      ]
     },
     "execution_count": 296,
     "metadata": {},
     "output_type": "execute_result"
    }
   ],
   "source": [
    "# Check for duplicate rows\n",
    "data_Kayaking[data_Kayaking.duplicated()]"
   ]
  },
  {
   "cell_type": "code",
   "execution_count": 89,
   "id": "e06ea31a-d140-4533-818f-9def5b8a254f",
   "metadata": {},
   "outputs": [
    {
     "data": {
      "text/html": [
       "<div>\n",
       "<style scoped>\n",
       "    .dataframe tbody tr th:only-of-type {\n",
       "        vertical-align: middle;\n",
       "    }\n",
       "\n",
       "    .dataframe tbody tr th {\n",
       "        vertical-align: top;\n",
       "    }\n",
       "\n",
       "    .dataframe thead th {\n",
       "        text-align: right;\n",
       "    }\n",
       "</style>\n",
       "<table border=\"1\" class=\"dataframe\">\n",
       "  <thead>\n",
       "    <tr style=\"text-align: right;\">\n",
       "      <th></th>\n",
       "      <th>ID</th>\n",
       "      <th>time</th>\n",
       "      <th>RR</th>\n",
       "      <th>VO2</th>\n",
       "      <th>power</th>\n",
       "    </tr>\n",
       "  </thead>\n",
       "  <tbody>\n",
       "  </tbody>\n",
       "</table>\n",
       "</div>"
      ],
      "text/plain": [
       "Empty DataFrame\n",
       "Columns: [ID, time, RR, VO2, power]\n",
       "Index: []"
      ]
     },
     "execution_count": 89,
     "metadata": {},
     "output_type": "execute_result"
    }
   ],
   "source": [
    "# Check for duplicate rows\n",
    "data_Triathlon[data_Triathlon.duplicated()]"
   ]
  },
  {
   "cell_type": "code",
   "execution_count": 93,
   "id": "cc03bb64-199f-45c8-a92a-936eddcc162e",
   "metadata": {},
   "outputs": [
    {
     "data": {
      "text/html": [
       "<div>\n",
       "<style scoped>\n",
       "    .dataframe tbody tr th:only-of-type {\n",
       "        vertical-align: middle;\n",
       "    }\n",
       "\n",
       "    .dataframe tbody tr th {\n",
       "        vertical-align: top;\n",
       "    }\n",
       "\n",
       "    .dataframe thead th {\n",
       "        text-align: right;\n",
       "    }\n",
       "</style>\n",
       "<table border=\"1\" class=\"dataframe\">\n",
       "  <thead>\n",
       "    <tr style=\"text-align: right;\">\n",
       "      <th></th>\n",
       "      <th>ID</th>\n",
       "      <th>time</th>\n",
       "      <th>RR</th>\n",
       "      <th>VO2</th>\n",
       "      <th>power</th>\n",
       "    </tr>\n",
       "  </thead>\n",
       "  <tbody>\n",
       "  </tbody>\n",
       "</table>\n",
       "</div>"
      ],
      "text/plain": [
       "Empty DataFrame\n",
       "Columns: [ID, time, RR, VO2, power]\n",
       "Index: []"
      ]
     },
     "execution_count": 93,
     "metadata": {},
     "output_type": "execute_result"
    }
   ],
   "source": [
    "# Check for duplicate rows\n",
    "data_Fencing[data_Fencing.duplicated()]"
   ]
  },
  {
   "cell_type": "markdown",
   "id": "69521f8e-4f9b-4d6c-ab95-098d5caf8f2b",
   "metadata": {},
   "source": [
    "Join all sport-related tables to produce one dataframe that has all athletes values."
   ]
  },
  {
   "cell_type": "code",
   "execution_count": 1228,
   "id": "fffa6903-e8ea-4ff4-ae09-6b497076b33c",
   "metadata": {},
   "outputs": [],
   "source": [
    "#1 Join all sport-related tables to produce one dataframe that has all athletes values. \n",
    "#The final table should only have the same 5 columns: ID, time,power,RR, vo2, power. Write this dataframe to an excel\n",
    "# concating all sports datasets\n",
    "df_sports=pd.concat([data_Kayaking,data_Triathlon,data_Fencing])"
   ]
  },
  {
   "cell_type": "code",
   "execution_count": 339,
   "id": "961101f1-99c9-41bf-a641-9cf3330ce80f",
   "metadata": {},
   "outputs": [
    {
     "data": {
      "text/html": [
       "<div>\n",
       "<style scoped>\n",
       "    .dataframe tbody tr th:only-of-type {\n",
       "        vertical-align: middle;\n",
       "    }\n",
       "\n",
       "    .dataframe tbody tr th {\n",
       "        vertical-align: top;\n",
       "    }\n",
       "\n",
       "    .dataframe thead th {\n",
       "        text-align: right;\n",
       "    }\n",
       "</style>\n",
       "<table border=\"1\" class=\"dataframe\">\n",
       "  <thead>\n",
       "    <tr style=\"text-align: right;\">\n",
       "      <th></th>\n",
       "      <th>ID</th>\n",
       "      <th>time</th>\n",
       "      <th>RR</th>\n",
       "      <th>VO2</th>\n",
       "      <th>power</th>\n",
       "    </tr>\n",
       "  </thead>\n",
       "  <tbody>\n",
       "    <tr>\n",
       "      <th>0</th>\n",
       "      <td>11</td>\n",
       "      <td>-168.600</td>\n",
       "      <td>727.0</td>\n",
       "      <td>0.287147</td>\n",
       "      <td>0</td>\n",
       "    </tr>\n",
       "    <tr>\n",
       "      <th>1</th>\n",
       "      <td>11</td>\n",
       "      <td>-167.872</td>\n",
       "      <td>728.0</td>\n",
       "      <td>0.287147</td>\n",
       "      <td>0</td>\n",
       "    </tr>\n",
       "    <tr>\n",
       "      <th>2</th>\n",
       "      <td>11</td>\n",
       "      <td>-167.148</td>\n",
       "      <td>724.0</td>\n",
       "      <td>0.287147</td>\n",
       "      <td>0</td>\n",
       "    </tr>\n",
       "    <tr>\n",
       "      <th>3</th>\n",
       "      <td>11</td>\n",
       "      <td>-166.484</td>\n",
       "      <td>664.0</td>\n",
       "      <td>0.320580</td>\n",
       "      <td>0</td>\n",
       "    </tr>\n",
       "    <tr>\n",
       "      <th>4</th>\n",
       "      <td>11</td>\n",
       "      <td>-165.836</td>\n",
       "      <td>648.0</td>\n",
       "      <td>0.320580</td>\n",
       "      <td>0</td>\n",
       "    </tr>\n",
       "    <tr>\n",
       "      <th>...</th>\n",
       "      <td>...</td>\n",
       "      <td>...</td>\n",
       "      <td>...</td>\n",
       "      <td>...</td>\n",
       "      <td>...</td>\n",
       "    </tr>\n",
       "    <tr>\n",
       "      <th>27598</th>\n",
       "      <td>10</td>\n",
       "      <td>942.700</td>\n",
       "      <td>428.0</td>\n",
       "      <td>0.786363</td>\n",
       "      <td>0</td>\n",
       "    </tr>\n",
       "    <tr>\n",
       "      <th>27599</th>\n",
       "      <td>10</td>\n",
       "      <td>943.124</td>\n",
       "      <td>424.0</td>\n",
       "      <td>0.786363</td>\n",
       "      <td>0</td>\n",
       "    </tr>\n",
       "    <tr>\n",
       "      <th>27600</th>\n",
       "      <td>10</td>\n",
       "      <td>943.552</td>\n",
       "      <td>428.0</td>\n",
       "      <td>0.786363</td>\n",
       "      <td>0</td>\n",
       "    </tr>\n",
       "    <tr>\n",
       "      <th>27601</th>\n",
       "      <td>10</td>\n",
       "      <td>943.976</td>\n",
       "      <td>424.0</td>\n",
       "      <td>0.786363</td>\n",
       "      <td>0</td>\n",
       "    </tr>\n",
       "    <tr>\n",
       "      <th>27602</th>\n",
       "      <td>10</td>\n",
       "      <td>944.404</td>\n",
       "      <td>428.0</td>\n",
       "      <td>0.786363</td>\n",
       "      <td>0</td>\n",
       "    </tr>\n",
       "  </tbody>\n",
       "</table>\n",
       "<p>52062 rows × 5 columns</p>\n",
       "</div>"
      ],
      "text/plain": [
       "       ID     time     RR       VO2  power\n",
       "0      11 -168.600  727.0  0.287147      0\n",
       "1      11 -167.872  728.0  0.287147      0\n",
       "2      11 -167.148  724.0  0.287147      0\n",
       "3      11 -166.484  664.0  0.320580      0\n",
       "4      11 -165.836  648.0  0.320580      0\n",
       "...    ..      ...    ...       ...    ...\n",
       "27598  10  942.700  428.0  0.786363      0\n",
       "27599  10  943.124  424.0  0.786363      0\n",
       "27600  10  943.552  428.0  0.786363      0\n",
       "27601  10  943.976  424.0  0.786363      0\n",
       "27602  10  944.404  428.0  0.786363      0\n",
       "\n",
       "[52062 rows x 5 columns]"
      ]
     },
     "execution_count": 339,
     "metadata": {},
     "output_type": "execute_result"
    }
   ],
   "source": [
    "df_sports"
   ]
  },
  {
   "cell_type": "code",
   "execution_count": null,
   "id": "d40fdc07-c6d5-4d52-86ea-062adf78ec4a",
   "metadata": {},
   "outputs": [],
   "source": [
    "# Write the final DataFrame to a new Excel file\n",
    "output_file = 'merged_athletes_data.xlsx'\n",
    "df_sports.to_excel(output_file, index=False)\n",
    "merged_athletes_data\n",
    "\n"
   ]
  },
  {
   "cell_type": "code",
   "execution_count": 345,
   "id": "09ff6903-8a2b-48a6-a035-db97e73b09a0",
   "metadata": {},
   "outputs": [],
   "source": [
    "#2 Divide the rows into 3 parts: Warm up, GET(graded exercise test) and cool down using the data def. Label each row accordingly\n",
    "\n",
    "#importing merged data\n",
    "data='merged_athletes_data.xlsx'\n",
    "data_merged = pd.read_excel(data)\n"
   ]
  },
  {
   "cell_type": "code",
   "execution_count": 355,
   "id": "a83ad3cc-83b0-4eb1-96e7-2571377282c5",
   "metadata": {},
   "outputs": [],
   "source": [
    "#define creteria\n",
    "warm_up_criteria = data_merged['time'] <0\n",
    "get_criteria = (data_merged['time'] >= 0) & (data_merged['power']>0)\n",
    "#cool_down_criteria = data_merged['time'] > data_merged[data_merged['time'] >= 0]['time'].max()\n"
   ]
  },
  {
   "cell_type": "code",
   "execution_count": 1284,
   "id": "a3386b68-f630-4a1b-a18e-a41f34037034",
   "metadata": {},
   "outputs": [
    {
     "name": "stderr",
     "output_type": "stream",
     "text": [
      "IOPub data rate exceeded.\n",
      "The Jupyter server will temporarily stop sending output\n",
      "to the client in order to avoid crashing it.\n",
      "To change this limit, set the config variable\n",
      "`--ServerApp.iopub_data_rate_limit`.\n",
      "\n",
      "Current values:\n",
      "ServerApp.iopub_data_rate_limit=1000000.0 (bytes/sec)\n",
      "ServerApp.rate_limit_window=3.0 (secs)\n",
      "\n"
     ]
    }
   ],
   "source": [
    "# Apply the criteria to label the rows\n",
    "data_merged['phase'] = 'cool down'  # Default label, in case none of the criteria match\n",
    "data_merged.loc[warm_up_criteria, 'phase'] = 'Warm Up'\n",
    "data_merged.loc[get_criteria, 'phase'] = 'GET'\n",
    "#data_merged.loc[cool_down_criteria, 'phase'] = 'Cool Down'\n",
    "\n",
    "data_merged"
   ]
  },
  {
   "cell_type": "code",
   "execution_count": 380,
   "id": "58ac6168-35f8-48db-b68f-e230fbba19e6",
   "metadata": {},
   "outputs": [],
   "source": [
    "# Write the final creteria DataFrame to a new Excel file\n",
    "output_file = 'crieteria_data.xlsx'\n",
    "data_merged.to_excel(output_file, index=False)\n"
   ]
  },
  {
   "cell_type": "code",
   "execution_count": 1281,
   "id": "7a90ed84-fe32-4c7d-bf4d-3c8da69bb3ff",
   "metadata": {},
   "outputs": [
    {
     "name": "stdout",
     "output_type": "stream",
     "text": [
      "    phase       time\n",
      "      GET 512.492916\n",
      "cool down 993.988405\n"
     ]
    }
   ],
   "source": [
    "# 3 What was the average time each tested lasted excluding warm up for all athletes?\n",
    "\n",
    "#excluding waarm up phase\n",
    "no_warmup1 = data_merged[data_merged['phase'] != 'Warm Up']\n",
    "\n",
    "# Calculate the average duration across all athletes\n",
    "#average_time_phase = test_duration_athlete.mean()\n",
    "\n",
    "avg_time=no_warmup1.groupby('phase')['time'].mean().reset_index()\n",
    "#printing final result\n",
    "print(avg_time.to_string(index=False))"
   ]
  },
  {
   "cell_type": "code",
   "execution_count": 497,
   "id": "91647eee-b813-4a3c-9d4d-50f25122638a",
   "metadata": {},
   "outputs": [],
   "source": [
    "#5 What was the average time each test lasted (including warm up) for all athletes?\n",
    "\n",
    "SUB=data_merged.groupby('phase')['time'].mean().reset_index()\n"
   ]
  },
  {
   "cell_type": "code",
   "execution_count": 499,
   "id": "4a983cf9-d98b-48ff-9168-cc801b874eed",
   "metadata": {},
   "outputs": [
    {
     "data": {
      "text/html": [
       "<div>\n",
       "<style scoped>\n",
       "    .dataframe tbody tr th:only-of-type {\n",
       "        vertical-align: middle;\n",
       "    }\n",
       "\n",
       "    .dataframe tbody tr th {\n",
       "        vertical-align: top;\n",
       "    }\n",
       "\n",
       "    .dataframe thead th {\n",
       "        text-align: right;\n",
       "    }\n",
       "</style>\n",
       "<table border=\"1\" class=\"dataframe\">\n",
       "  <thead>\n",
       "    <tr style=\"text-align: right;\">\n",
       "      <th></th>\n",
       "      <th>phase</th>\n",
       "      <th>time</th>\n",
       "    </tr>\n",
       "  </thead>\n",
       "  <tbody>\n",
       "    <tr>\n",
       "      <th>0</th>\n",
       "      <td>GET</td>\n",
       "      <td>512.492916</td>\n",
       "    </tr>\n",
       "    <tr>\n",
       "      <th>1</th>\n",
       "      <td>Warm Up</td>\n",
       "      <td>-90.058246</td>\n",
       "    </tr>\n",
       "    <tr>\n",
       "      <th>2</th>\n",
       "      <td>cool down</td>\n",
       "      <td>993.988405</td>\n",
       "    </tr>\n",
       "  </tbody>\n",
       "</table>\n",
       "</div>"
      ],
      "text/plain": [
       "       phase        time\n",
       "0        GET  512.492916\n",
       "1    Warm Up  -90.058246\n",
       "2  cool down  993.988405"
      ]
     },
     "execution_count": 499,
     "metadata": {},
     "output_type": "execute_result"
    }
   ],
   "source": [
    "SUB"
   ]
  },
  {
   "cell_type": "code",
   "execution_count": 517,
   "id": "99d82720-edbe-4030-ba13-8d71eed81dc5",
   "metadata": {},
   "outputs": [
    {
     "name": "stdout",
     "output_type": "stream",
     "text": [
      "10    Isabella Griffin\n",
      "11         Caleb Dixon\n",
      "12       Mia Carpenter\n",
      "13     Harper Mitchell\n",
      "14       Mason Wallace\n",
      "15      Logan Anderson\n",
      "dtype: object\n"
     ]
    }
   ],
   "source": [
    "#8 What are the names of the kayaking athletes?\n",
    "#filerting only for kayak sport\n",
    "kayaking_athletes = data_Athletes[data_Athletes['sport'] == 'kayak']\n",
    "\n",
    "#printing full name\n",
    "print(kayaking_athletes['First Name']+\" \"+kayaking_athletes['Last Name'])\n"
   ]
  },
  {
   "cell_type": "code",
   "execution_count": 637,
   "id": "113cf48f-f4c1-4806-a4d6-4300f8ed05ed",
   "metadata": {},
   "outputs": [
    {
     "name": "stdout",
     "output_type": "stream",
     "text": [
      "The average HRV of the triathletes is 29.29\n"
     ]
    }
   ],
   "source": [
    "# 9 What was the average HRV of the triathletes?\n",
    "\n",
    "#HRV-----Calculate the difference between RR intervals between each row for each athlete, find the standard deviation from the RR intervals.\n",
    "\n",
    "# finding RR difference with each athlete\n",
    "data_Triathlon['RR_Diff'] = data_Triathlon.groupby('ID')['RR'].diff()\n",
    "\n",
    "#finding std deviation from RR intervals\n",
    "average_hrv = data_Triathlon.groupby('ID')['RR_Diff'].std()\n",
    "\n",
    "#finding avg of HRV\n",
    "avg=average_hrv.mean()\n",
    "#print(\"The average HRV of the triathletes is:\", avg)\n",
    "print(f\"The average HRV of the triathletes is {avg:.2f}\")\n"
   ]
  },
  {
   "cell_type": "code",
   "execution_count": 633,
   "id": "7b44d3e7-af3f-4a07-b42c-acd7fef48adb",
   "metadata": {},
   "outputs": [
    {
     "data": {
      "text/plain": [
       "ID\n",
       "17    28.081705\n",
       "18    30.505849\n",
       "Name: RR_Diff, dtype: float64"
      ]
     },
     "execution_count": 633,
     "metadata": {},
     "output_type": "execute_result"
    }
   ],
   "source": [
    "average_hrv"
   ]
  },
  {
   "cell_type": "code",
   "execution_count": 579,
   "id": "fc14de1c-323f-4ab0-a101-ca9f2753155f",
   "metadata": {},
   "outputs": [
    {
     "name": "stdout",
     "output_type": "stream",
     "text": [
      "    ID  age  Weight  Height  P_vt1  P_vt2      sport  Gender Ethnicity  \\\n",
      "0    1   15    53.7     161     50    140    fencing  Female   African   \n",
      "1    2   15    56.2     162     80    127    fencing    Male   African   \n",
      "2    3   16    89.9     191    155    300    fencing    Male     White   \n",
      "3    4   16    76.5     180    215    275    fencing    Male     White   \n",
      "4    5   17    76.4     186    110    172    fencing  Female     White   \n",
      "5    6   17    65.6     169    131    186    fencing  Female     White   \n",
      "6    7   15    49.8     165     65    108    fencing  Female     White   \n",
      "7    8   15    51.2     165     80    133    fencing  Female     White   \n",
      "8    9   14    57.1     176     50    125    fencing  Female   African   \n",
      "9   10   14    58.8     177    101    162    fencing  Female   African   \n",
      "10  11   18    84.8     182    174    268      kayak  Female   African   \n",
      "11  12   18    86.0     183    170    294      kayak    Male   African   \n",
      "12  13   18    83.9     183    144    267      kayak  Female     Asian   \n",
      "13  14   13    62.3     171    140    170      kayak  Female     Asian   \n",
      "14  15   13    63.5     172    125    156      kayak    Male    Latino   \n",
      "15  16   16    70.4     182     79    175      kayak    Male    Latino   \n",
      "16  17   12    39.9     156    101    145  triathlon    Male    Latino   \n",
      "17  18   12    39.7     158     65    168  triathlon    Male    Latino   \n",
      "\n",
      "   First Name  Last Name  year of birth  \n",
      "0      Olivia   Martinez           2009  \n",
      "1       Ethan   Reynolds           2009  \n",
      "2     Jackson     Harper           2008  \n",
      "3        Liam    Sanchez           2008  \n",
      "4         Ava   Thompson           2007  \n",
      "5      Sophia  Rodriguez           2007  \n",
      "6       Grace    Simmons           2009  \n",
      "7       Aiden    Bennett           2009  \n",
      "8       Chloe      Price           2010  \n",
      "9        Lily     Jordan           2010  \n",
      "10   Isabella    Griffin           2006  \n",
      "11      Caleb      Dixon           2006  \n",
      "12        Mia  Carpenter           2006  \n",
      "13     Harper   Mitchell           2011  \n",
      "14      Mason    Wallace           2011  \n",
      "15      Logan   Anderson           2008  \n",
      "16      Lucas     Foster           2012  \n",
      "17       Owen      Myers           2012  \n"
     ]
    }
   ],
   "source": [
    "# 13 Calculate the year of birth of each athlete and store it as a column in the tables.\n",
    "\n",
    "import datetime\n",
    "curryear=datetime.date.today().year\n",
    "data_Athletes['year of birth']=curryear-data_Athletes['age']\n",
    "print(data_Athletes\n"
   ]
  },
  {
   "cell_type": "code",
   "execution_count": 603,
   "id": "5237ddcc-9379-4ecb-9db8-cc3c5115a199",
   "metadata": {},
   "outputs": [
    {
     "name": "stdout",
     "output_type": "stream",
     "text": [
      "List of BMIs for each athlete: [0.17, 0.17, 0.24, 0.21, 0.21, 0.19, 0.15, 0.16, 0.16, 0.17, 0.23, 0.23, 0.23, 0.18, 0.18, 0.19, 0.13, 0.13]\n"
     ]
    }
   ],
   "source": [
    "# 16 Calculate the BMI of every athlete and display it as a list.\n",
    "#this calculates BMI\n",
    "data_Athletes['BMI']=round(data_Athletes['Weight']/(data_Athletes['Height']*2),2)\n",
    "\n",
    "#converting BMI column to list\n",
    "BMI_list=data_Athletes['BMI'].tolist()\n",
    "print(\"List of BMIs for each athlete:\",BMI_list)\n"
   ]
  },
  {
   "cell_type": "code",
   "execution_count": 647,
   "id": "6573ee97-2882-472d-9395-63105d26c7d0",
   "metadata": {},
   "outputs": [
    {
     "data": {
      "text/html": [
       "<div>\n",
       "<style scoped>\n",
       "    .dataframe tbody tr th:only-of-type {\n",
       "        vertical-align: middle;\n",
       "    }\n",
       "\n",
       "    .dataframe tbody tr th {\n",
       "        vertical-align: top;\n",
       "    }\n",
       "\n",
       "    .dataframe thead th {\n",
       "        text-align: right;\n",
       "    }\n",
       "</style>\n",
       "<table border=\"1\" class=\"dataframe\">\n",
       "  <thead>\n",
       "    <tr style=\"text-align: right;\">\n",
       "      <th></th>\n",
       "      <th>ID</th>\n",
       "      <th>time</th>\n",
       "      <th>RR</th>\n",
       "      <th>VO2</th>\n",
       "      <th>power</th>\n",
       "      <th>phase</th>\n",
       "      <th>RR_Diff</th>\n",
       "      <th>HRV</th>\n",
       "      <th>age</th>\n",
       "      <th>Weight</th>\n",
       "      <th>Height</th>\n",
       "      <th>P_vt1</th>\n",
       "      <th>P_vt2</th>\n",
       "      <th>sport</th>\n",
       "      <th>Gender</th>\n",
       "      <th>Ethnicity</th>\n",
       "      <th>First Name</th>\n",
       "      <th>Last Name</th>\n",
       "      <th>year of birth</th>\n",
       "      <th>BMI</th>\n",
       "    </tr>\n",
       "  </thead>\n",
       "  <tbody>\n",
       "    <tr>\n",
       "      <th>0</th>\n",
       "      <td>11</td>\n",
       "      <td>-168.600</td>\n",
       "      <td>727.0</td>\n",
       "      <td>0.287147</td>\n",
       "      <td>0</td>\n",
       "      <td>Warm Up</td>\n",
       "      <td>NaN</td>\n",
       "      <td>NaN</td>\n",
       "      <td>18</td>\n",
       "      <td>84.8</td>\n",
       "      <td>182</td>\n",
       "      <td>174</td>\n",
       "      <td>268</td>\n",
       "      <td>kayak</td>\n",
       "      <td>Female</td>\n",
       "      <td>African</td>\n",
       "      <td>Isabella</td>\n",
       "      <td>Griffin</td>\n",
       "      <td>2006</td>\n",
       "      <td>0.23</td>\n",
       "    </tr>\n",
       "    <tr>\n",
       "      <th>1</th>\n",
       "      <td>11</td>\n",
       "      <td>-167.872</td>\n",
       "      <td>728.0</td>\n",
       "      <td>0.287147</td>\n",
       "      <td>0</td>\n",
       "      <td>Warm Up</td>\n",
       "      <td>1.0</td>\n",
       "      <td>25.844717</td>\n",
       "      <td>18</td>\n",
       "      <td>84.8</td>\n",
       "      <td>182</td>\n",
       "      <td>174</td>\n",
       "      <td>268</td>\n",
       "      <td>kayak</td>\n",
       "      <td>Female</td>\n",
       "      <td>African</td>\n",
       "      <td>Isabella</td>\n",
       "      <td>Griffin</td>\n",
       "      <td>2006</td>\n",
       "      <td>0.23</td>\n",
       "    </tr>\n",
       "    <tr>\n",
       "      <th>2</th>\n",
       "      <td>11</td>\n",
       "      <td>-167.148</td>\n",
       "      <td>724.0</td>\n",
       "      <td>0.287147</td>\n",
       "      <td>0</td>\n",
       "      <td>Warm Up</td>\n",
       "      <td>-4.0</td>\n",
       "      <td>40.725284</td>\n",
       "      <td>18</td>\n",
       "      <td>84.8</td>\n",
       "      <td>182</td>\n",
       "      <td>174</td>\n",
       "      <td>268</td>\n",
       "      <td>kayak</td>\n",
       "      <td>Female</td>\n",
       "      <td>African</td>\n",
       "      <td>Isabella</td>\n",
       "      <td>Griffin</td>\n",
       "      <td>2006</td>\n",
       "      <td>0.23</td>\n",
       "    </tr>\n",
       "    <tr>\n",
       "      <th>3</th>\n",
       "      <td>11</td>\n",
       "      <td>-166.484</td>\n",
       "      <td>664.0</td>\n",
       "      <td>0.320580</td>\n",
       "      <td>0</td>\n",
       "      <td>Warm Up</td>\n",
       "      <td>-60.0</td>\n",
       "      <td>20.398306</td>\n",
       "      <td>18</td>\n",
       "      <td>84.8</td>\n",
       "      <td>182</td>\n",
       "      <td>174</td>\n",
       "      <td>268</td>\n",
       "      <td>kayak</td>\n",
       "      <td>Female</td>\n",
       "      <td>African</td>\n",
       "      <td>Isabella</td>\n",
       "      <td>Griffin</td>\n",
       "      <td>2006</td>\n",
       "      <td>0.23</td>\n",
       "    </tr>\n",
       "    <tr>\n",
       "      <th>4</th>\n",
       "      <td>11</td>\n",
       "      <td>-165.836</td>\n",
       "      <td>648.0</td>\n",
       "      <td>0.320580</td>\n",
       "      <td>0</td>\n",
       "      <td>Warm Up</td>\n",
       "      <td>-16.0</td>\n",
       "      <td>33.334630</td>\n",
       "      <td>18</td>\n",
       "      <td>84.8</td>\n",
       "      <td>182</td>\n",
       "      <td>174</td>\n",
       "      <td>268</td>\n",
       "      <td>kayak</td>\n",
       "      <td>Female</td>\n",
       "      <td>African</td>\n",
       "      <td>Isabella</td>\n",
       "      <td>Griffin</td>\n",
       "      <td>2006</td>\n",
       "      <td>0.23</td>\n",
       "    </tr>\n",
       "  </tbody>\n",
       "</table>\n",
       "</div>"
      ],
      "text/plain": [
       "   ID     time     RR       VO2  power    phase  RR_Diff        HRV  age  \\\n",
       "0  11 -168.600  727.0  0.287147      0  Warm Up      NaN        NaN   18   \n",
       "1  11 -167.872  728.0  0.287147      0  Warm Up      1.0  25.844717   18   \n",
       "2  11 -167.148  724.0  0.287147      0  Warm Up     -4.0  40.725284   18   \n",
       "3  11 -166.484  664.0  0.320580      0  Warm Up    -60.0  20.398306   18   \n",
       "4  11 -165.836  648.0  0.320580      0  Warm Up    -16.0  33.334630   18   \n",
       "\n",
       "   Weight  Height  P_vt1  P_vt2  sport  Gender Ethnicity First Name Last Name  \\\n",
       "0    84.8     182    174    268  kayak  Female   African   Isabella   Griffin   \n",
       "1    84.8     182    174    268  kayak  Female   African   Isabella   Griffin   \n",
       "2    84.8     182    174    268  kayak  Female   African   Isabella   Griffin   \n",
       "3    84.8     182    174    268  kayak  Female   African   Isabella   Griffin   \n",
       "4    84.8     182    174    268  kayak  Female   African   Isabella   Griffin   \n",
       "\n",
       "   year of birth   BMI  \n",
       "0           2006  0.23  \n",
       "1           2006  0.23  \n",
       "2           2006  0.23  \n",
       "3           2006  0.23  \n",
       "4           2006  0.23  "
      ]
     },
     "execution_count": 647,
     "metadata": {},
     "output_type": "execute_result"
    }
   ],
   "source": [
    "#merging joined sports data with athlete data\n",
    "merged_athlete_sport = data_merged.merge(data_Athletes, on='ID', how='left' )\n",
    "\n"
   ]
  },
  {
   "cell_type": "code",
   "execution_count": 1286,
   "id": "287ede01-709a-402a-b0f2-b192d85f077c",
   "metadata": {},
   "outputs": [
    {
     "name": "stdout",
     "output_type": "stream",
     "text": [
      "The sport with the highest HRV is 'kayak' with an average HRV value of: 150.51.\n"
     ]
    }
   ],
   "source": [
    "# 4 Athletes from which sport had the highest average cardiorespiratory fitness in terms of HRV?\n",
    "\n",
    "#HRV-----Calculate the difference between RR intervals between each row for each athlete, find the standard deviation from the RR intervals.\n",
    "\n",
    "# finding RR difference with each athlete\n",
    "data_merged['RR_Diff'] = data_merged.groupby('ID')['RR'].diff()\n",
    "\n",
    "#finding std deviation from RR intervals\n",
    "data_merged['HRV']= data_merged.groupby('ID')['RR_Diff'].transform('std')\n",
    "\n",
    "#merging joined sports data with athlete data\n",
    "merged_athlete_sport = data_merged.merge(data_Athletes, on='ID', how='left' )\n",
    "\n",
    "merged_athlete_sport.head(5)\n",
    "\n",
    "#finding avg of HRV with each sport\n",
    "avg_hrv_sport = merged_athlete_sport.groupby('sport')['HRV'].mean()\n",
    "\n",
    "# Find the sport with the highest average HRV\n",
    "highest_hrv_sport = avg_hrv_sport.idxmax()\n",
    "highest_avg_hrv_value = avg_hrv_by_sport.max()\n",
    "\n",
    "print(f\"The sport with the highest HRV is '{highest_hrv_sport}' with an average HRV value of: {highest_avg_hrv_value:.2f}.\")"
   ]
  },
  {
   "cell_type": "code",
   "execution_count": 709,
   "id": "b4395711-7832-42c3-a46c-86b7c26ede13",
   "metadata": {},
   "outputs": [],
   "source": [
    "# Write the final creteria DataFrame to a new Excel file\n",
    "output_file = 'athlete_sport_data.xlsx'\n",
    "merged_athlete_sport.to_excel(output_file, index=False)\n"
   ]
  },
  {
   "cell_type": "code",
   "execution_count": 871,
   "id": "c8c596ab-2ff1-4732-8c68-a9569d9b1938",
   "metadata": {},
   "outputs": [
    {
     "name": "stdout",
     "output_type": "stream",
     "text": [
      "    ID              Name  sport    VO2 Max\n",
      "11  12       Caleb Dixon  kayak  92.258212\n",
      "12  13     Mia Carpenter  kayak  90.758693\n",
      "10  11  Isabella Griffin  kayak  89.586903\n"
     ]
    }
   ],
   "source": [
    "# 12 What were the Highest 3 V02 Maxes recorded. Display all 3 names, sport and personal V02 Maxes.\n",
    "#Personal V02 per person, is the sum total of all V02 recorded for that athlete divided by body weight to arrive at \n",
    "#V02 max in ml per kg of body weight\n",
    "\n",
    "merged_athlete_sport['Name']=merged_athlete_sport['First Name']+\" \"+merged_athlete_sport['Last Name']\n",
    "\n",
    "merged_athlete_sport1=merged_athlete_sport[['ID','Name','sport','VO2','Weight']]\n",
    "\n",
    "#getting total of vO2 values per athlete\n",
    "total_vo2_per_athlete = merged_athlete_sport1.groupby(['ID', 'Name','sport','Weight'])['VO2'].sum()\n",
    "total_vo2_per_athlete=total_vo2_per_athlete.reset_index(name='Total VO2')\n",
    "\n",
    "# Calculate V02 max in ml/kg\n",
    "total_vo2_per_athlete['VO2 Max']= total_vo2_per_athlete['Total VO2'] / total_vo2_per_athlete['Weight']\n",
    "\n",
    "# Sort to find the top 3 VO2 Max values\n",
    "top_3_vo2_max = total_vo2_per_athlete.nlargest(3,'VO2 Max')\n",
    "top_3_vo2_max=top_3_vo2_max[['ID', 'Name','sport','VO2 Max']]\n",
    "\n",
    "# Reset the index to get the names, sport, and VO2 maxes in a DataFrame\n",
    "#top_3_vo2_max_df = top_3_vo2_max.reset_index()\n",
    "#top_3_vo2_max_df.columns = ['ID','First Name','Last Name', 'sport','VO2']\n",
    "\n",
    "print(top_3_vo2_max)\n",
    "\n"
   ]
  },
  {
   "cell_type": "code",
   "execution_count": 873,
   "id": "6d1c6eea-d839-4799-9372-7afc2c35432e",
   "metadata": {},
   "outputs": [
    {
     "name": "stdout",
     "output_type": "stream",
     "text": [
      "   ID             Name    sport    VO2 Max\n",
      "6   7    Grace Simmons  fencing  38.403988\n",
      "1   2   Ethan Reynolds  fencing  38.632602\n",
      "0   1  Olivia Martinez  fencing  42.807730\n"
     ]
    }
   ],
   "source": [
    "# 14 What were the lowest 3 V02 Maxes recorded. Display all 3 names, sport and personal V02 Maxes.\n",
    "\n",
    "#Personal V02 per person, is the sum total of all V02 recorded for that athlete divided by body weight to arrive at \n",
    "#V02 max in ml per kg of body weight\n",
    "\n",
    "merged_athlete_sport['Name']=merged_athlete_sport['First Name']+\" \"+merged_athlete_sport['Last Name']\n",
    "\n",
    "merged_athlete_sport2=merged_athlete_sport[['ID','Name','sport','VO2','Weight']]\n",
    "\n",
    "#getting total of vO2 values per athlete\n",
    "total_vo2_per_athlete1 = merged_athlete_sport2.groupby(['ID', 'Name','sport','Weight'])['VO2'].sum()\n",
    "total_vo2_per_athlete1=total_vo2_per_athlete1.reset_index(name='Total VO2')\n",
    "\n",
    "# Calculate V02 max in ml/kg\n",
    "total_vo2_per_athlete1['VO2 Max']= total_vo2_per_athlete1['Total VO2'] / total_vo2_per_athlete1['Weight']\n",
    "\n",
    "# Sort to find the lowest 3 VO2 Max values\n",
    "top_3_vo2_max1 = total_vo2_per_athlete1.nsmallest(3,'VO2 Max')\n",
    "top_3_vo2_max1=top_3_vo2_max1[['ID', 'Name','sport','VO2 Max']]\n",
    "\n",
    "# Reset the index to get the names, sport, and VO2 maxes in a DataFrame\n",
    "#top_3_vo2_max_df = top_3_vo2_max.reset_index()\n",
    "#top_3_vo2_max_df.columns = ['ID','First Name','Last Name', 'sport','VO2']\n",
    "\n",
    "print(top_3_vo2_max1)\n"
   ]
  },
  {
   "cell_type": "code",
   "execution_count": 897,
   "id": "5804fb6f-b5fa-42e9-b9cb-e52eb66caab8",
   "metadata": {},
   "outputs": [
    {
     "name": "stdout",
     "output_type": "stream",
     "text": [
      "       sport  count of Athlete\n",
      "0    fencing                10\n",
      "1      kayak                 6\n",
      "2  triathlon                 2\n"
     ]
    }
   ],
   "source": [
    "# 18 Display the number of athletes in every sport against the name of the sport.\n",
    "\n",
    "count_athlete_Sport=data_Athletes.groupby('sport')['ID'].nunique()\n",
    "count_athlete_Sport=count_athlete_Sport.reset_index(name='count of Athlete')\n",
    "print(count_athlete_Sport)"
   ]
  },
  {
   "cell_type": "code",
   "execution_count": 919,
   "id": "2f1fee21-c14c-4ce0-ad9d-a7a1c11c8714",
   "metadata": {},
   "outputs": [
    {
     "name": "stdout",
     "output_type": "stream",
     "text": [
      "max value for triathletes for Vantilatory Threshold 1 is: 101\n",
      "max value for for triathletes Vantilatory Threshold 2 is: 168\n"
     ]
    }
   ],
   "source": [
    "# 17 What is the maximum ventilatory threshold for triathletes.\n",
    "\n",
    "triathon_VT=data_Athletes[data_Athletes['sport'] == 'triathlon']\n",
    "\n",
    "max_pvt1=triathon_VT['P_vt1'].max()\n",
    "max_pvt2=triathon_VT['P_vt2'].max()\n",
    "print('max value for triathletes for Vantilatory Threshold 1 is:', max_pvt1)\n",
    "print('max value for for triathletes Vantilatory Threshold 2 is:', max_pvt2)\n",
    "\n"
   ]
  },
  {
   "cell_type": "code",
   "execution_count": 1107,
   "id": "b53ca54f-0fe4-4b60-8f64-a448664b2035",
   "metadata": {},
   "outputs": [],
   "source": [
    "#15 Assign 1 of the following 5 heart rate zones for every record for all sports and athletes and add this as a column to every table:\n",
    "#Zone 1 (recovery/easy)       <100 HR max\n",
    "#Zone 2 (aerobic/base)        100-120 HR max\n",
    "#Zone 3 (tempo)        120-135 HR max\n",
    "#Zone 4 (lactate threshold)        135-155 HR max\n",
    "#Zone 5 (anaerobic)        155+ HR max and above\n",
    "\n",
    "# maerging triathlon table with athlete table\n",
    "merged_athlete_triathlon1 = data_Athletes.merge(data_merged, on='ID', how='right')\n",
    "\n",
    "# applying condition for HR Max\n",
    "merged_athlete_triathlon1['HR'] =  60 / (merged_athlete_triathlon1['RR'] / 1000)\n",
    "\n",
    "#define creteria\n",
    "Zone_1= merged_athlete_triathlon1['HR'] <100\n",
    "Zone_2 = (merged_athlete_triathlon1['HR'] >=100 ) & (merged_athlete_triathlon1['HR']<120)\n",
    "Zone_3=(merged_athlete_triathlon1['HR'] >=120 ) & (merged_athlete_triathlon1['HR']<135)\n",
    "Zone_4=(merged_athlete_triathlon1['HR'] >=135 ) & (merged_athlete_triathlon1['HR']<155)\n",
    "\n",
    "#Apply the criteria to label the rows\n",
    "merged_athlete_triathlon1['Zone'] = 'Zone 5 (Anaerobic)'  # Default label, in case none of the criteria match\n",
    "merged_athlete_triathlon1.loc[Zone_1, 'Zone'] = 'Zone 1 (Recovery/Easy)'\n",
    "merged_athlete_triathlon1.loc[Zone_2, 'Zone'] = 'Zone 2 (Aerobic/Base)'\n",
    "merged_athlete_triathlon1.loc[Zone_3, 'Zone'] = 'Zone 3 (Tempo)'\n",
    "merged_athlete_triathlon1.loc[Zone_4, 'Zone'] = 'Zone 4 (Lactate Threshold)'\n",
    "\n",
    "\n",
    "# Write the final DataFrame to a new Excel file\n",
    "output_file = 'Zone_athlete_data.xlsx'\n",
    "merged_athlete_triathlon1.to_excel(output_file, index=False)\n",
    "\n",
    "\n"
   ]
  },
  {
   "cell_type": "code",
   "execution_count": 1113,
   "id": "10524923-93f9-4a5d-90c9-e773fd4f3302",
   "metadata": {},
   "outputs": [
    {
     "name": "stdout",
     "output_type": "stream",
     "text": [
      "Athlete 12 spent 1406708.024 seconds in HR Zone 5.\n"
     ]
    }
   ],
   "source": [
    "# 10 How long was athlete 12 in HR Zone 5?\t\n",
    "\n",
    "#filtering the creietria for ID 12 and HR zone 5\n",
    "DF=merged_athlete_triathlon1[(merged_athlete_triathlon1['ID'] == 12) & (merged_athlete_triathlon1['Zone'] =='Zone 5 (Anaerobic)' )]\n",
    "\n",
    "# Calculate the total time spent in HR Zone 5\n",
    "Zone_5_time = DF['time'].sum()\n",
    "\n",
    "\n",
    "print(f\"Athlete 12 spent {Zone_5_time} seconds in HR Zone 5.\")\n",
    "\n",
    "\n",
    "\n"
   ]
  },
  {
   "cell_type": "code",
   "execution_count": 1134,
   "id": "54b5a1bb-8966-485b-9675-17667623871b",
   "metadata": {},
   "outputs": [
    {
     "name": "stdout",
     "output_type": "stream",
     "text": [
      "most common power above 0 is:50 watts\n",
      "average time for the sport kayaking with most common wattage is 50 watts:time taken is 94.53 seconds\n"
     ]
    }
   ],
   "source": [
    "# 6 What was the most common  wattage (above 0) achieved by participants and for how many seconds (average time)? \n",
    "#You may choose to show averages based on any one/all sports.\n",
    "\n",
    "#taking kayaking data\n",
    "\n",
    "power_value=data_Kayaking[data_Kayaking['power']>0]\n",
    "most_common_power=power_value['power'].value_counts().idxmax()\n",
    "\n",
    "\n",
    "#avg time\n",
    "average_time=power_value[power_value['power']==most_common_power]['time'].mean()\n",
    "print(f\"most common power above 0 is:{most_common_power} watts\")\n",
    "print(f\"average time for the sport kayaking with most common wattage is {most_common_power} watts:time taken is {average_time:.2f} seconds\")\n"
   ]
  },
  {
   "cell_type": "code",
   "execution_count": 1162,
   "id": "3df7c008-96cd-4eef-ada0-fdb76c8dd8ce",
   "metadata": {},
   "outputs": [],
   "source": [
    "# 11 Create any 3d plot using any data. Values do not have to be from the dataset given. \n",
    "\n",
    "def c(x,y):\n",
    "    return np.cos(np.sqrt(x**2+y**2))\n",
    "\n",
    "x=np.linspace(-5,5,25)\n",
    "y=np.linspace(-5,5,25)\n",
    "\n",
    "X,Y=np.meshgrid(x,y)\n",
    "z=c(X,Y)\n"
   ]
  },
  {
   "cell_type": "code",
   "execution_count": 1166,
   "id": "055be724-6bc7-48ec-9758-961ddd1db4c7",
   "metadata": {},
   "outputs": [
    {
     "data": {
      "text/plain": [
       "<mpl_toolkits.mplot3d.art3d.QuadContourSet3D at 0x16aab9bba40>"
      ]
     },
     "execution_count": 1166,
     "metadata": {},
     "output_type": "execute_result"
    },
    {
     "data": {
      "image/png": "[encoded data removed]",
      "text/plain": [
       "<Figure size 640x480 with 1 Axes>"
      ]
     },
     "metadata": {},
     "output_type": "display_data"
    }
   ],
   "source": [
    "ax=plt.axes(projection='3d')\n",
    "ax.contour3D(x,y,z, 100)"
   ]
  },
  {
   "cell_type": "code",
   "execution_count": 1180,
   "id": "ce1b7b2c-c292-477f-899f-f4aaa8aa6f17",
   "metadata": {},
   "outputs": [],
   "source": [
    "# 19 Display a bar chart showing the average V02 Max by sport.\n",
    "\n",
    "#Personal V02 per person, is the sum total of all V02 recorded for that athlete divided by body weight to arrive at \n",
    "#V02 max in ml per kg of body weight\n",
    "\n",
    "merged_athlete_sport1=merged_athlete_sport[['ID','Name','sport','VO2','Weight']]\n",
    "\n",
    "#getting total of vO2 values per athlete\n",
    "total_vo2_per_athlete = merged_athlete_sport1.groupby(['ID', 'Name','sport','Weight'])['VO2'].sum()\n",
    "total_vo2_per_athlete=total_vo2_per_athlete.reset_index(name='Total VO2')\n",
    "\n",
    "# Calculate V02 max in ml/kg\n",
    "total_vo2_per_athlete['VO2 Max']= total_vo2_per_athlete['Total VO2'] / total_vo2_per_athlete['Weight']\n",
    "\n",
    "#getting the avg od vo2 max\n",
    "avg_vo2_max=total_vo2_per_athlete.groupby('sport')['VO2 Max'].mean().reset_index()\n",
    "\n",
    "# Reset the index to get the names, sport, and VO2 maxes in a DataFrame\n",
    "#top_3_vo2_max_df = top_3_vo2_max.reset_index()\n",
    "#top_3_vo2_max_df.columns = ['ID','First Name','Last Name', 'sport','VO2']\n",
    "\n",
    "#print(top_3_vo2_max)\n",
    "\n"
   ]
  },
  {
   "cell_type": "code",
   "execution_count": 1182,
   "id": "13bbdba3-f34d-4631-98ba-3d15247c16e6",
   "metadata": {},
   "outputs": [
    {
     "data": {
      "text/html": [
       "<div>\n",
       "<style scoped>\n",
       "    .dataframe tbody tr th:only-of-type {\n",
       "        vertical-align: middle;\n",
       "    }\n",
       "\n",
       "    .dataframe tbody tr th {\n",
       "        vertical-align: top;\n",
       "    }\n",
       "\n",
       "    .dataframe thead th {\n",
       "        text-align: right;\n",
       "    }\n",
       "</style>\n",
       "<table border=\"1\" class=\"dataframe\">\n",
       "  <thead>\n",
       "    <tr style=\"text-align: right;\">\n",
       "      <th></th>\n",
       "      <th>sport</th>\n",
       "      <th>VO2 Max</th>\n",
       "    </tr>\n",
       "  </thead>\n",
       "  <tbody>\n",
       "    <tr>\n",
       "      <th>0</th>\n",
       "      <td>fencing</td>\n",
       "      <td>57.460350</td>\n",
       "    </tr>\n",
       "    <tr>\n",
       "      <th>1</th>\n",
       "      <td>kayak</td>\n",
       "      <td>77.345233</td>\n",
       "    </tr>\n",
       "    <tr>\n",
       "      <th>2</th>\n",
       "      <td>triathlon</td>\n",
       "      <td>77.499291</td>\n",
       "    </tr>\n",
       "  </tbody>\n",
       "</table>\n",
       "</div>"
      ],
      "text/plain": [
       "       sport    VO2 Max\n",
       "0    fencing  57.460350\n",
       "1      kayak  77.345233\n",
       "2  triathlon  77.499291"
      ]
     },
     "execution_count": 1182,
     "metadata": {},
     "output_type": "execute_result"
    }
   ],
   "source": [
    "avg_vo2_max"
   ]
  },
  {
   "cell_type": "code",
   "execution_count": 1261,
   "id": "46cc9044-cc45-4daa-8a82-21bade20bc8e",
   "metadata": {},
   "outputs": [
    {
     "data": {
      "text/html": [
       "<svg  width=\"550\" height=\"55\"><rect x=\"0\" y=\"0\" width=\"55\" height=\"55\" style=\"fill:#8dd3c7;stroke-width:2;stroke:rgb(255,255,255)\"/><rect x=\"55\" y=\"0\" width=\"55\" height=\"55\" style=\"fill:#feffb3;stroke-width:2;stroke:rgb(255,255,255)\"/><rect x=\"110\" y=\"0\" width=\"55\" height=\"55\" style=\"fill:#bfbbd9;stroke-width:2;stroke:rgb(255,255,255)\"/><rect x=\"165\" y=\"0\" width=\"55\" height=\"55\" style=\"fill:#fa8174;stroke-width:2;stroke:rgb(255,255,255)\"/><rect x=\"220\" y=\"0\" width=\"55\" height=\"55\" style=\"fill:#81b1d2;stroke-width:2;stroke:rgb(255,255,255)\"/><rect x=\"275\" y=\"0\" width=\"55\" height=\"55\" style=\"fill:#fdb462;stroke-width:2;stroke:rgb(255,255,255)\"/><rect x=\"330\" y=\"0\" width=\"55\" height=\"55\" style=\"fill:#b3de69;stroke-width:2;stroke:rgb(255,255,255)\"/><rect x=\"385\" y=\"0\" width=\"55\" height=\"55\" style=\"fill:#bc82bd;stroke-width:2;stroke:rgb(255,255,255)\"/><rect x=\"440\" y=\"0\" width=\"55\" height=\"55\" style=\"fill:#ccebc4;stroke-width:2;stroke:rgb(255,255,255)\"/><rect x=\"495\" y=\"0\" width=\"55\" height=\"55\" style=\"fill:#ffed6f;stroke-width:2;stroke:rgb(255,255,255)\"/></svg>"
      ],
      "text/plain": [
       "[(0.5529411764705883, 0.8274509803921568, 0.7803921568627451),\n",
       " (0.996078431372549, 1.0, 0.7019607843137254),\n",
       " (0.7490196078431373, 0.7333333333333333, 0.8509803921568627),\n",
       " (0.9803921568627451, 0.5058823529411764, 0.4549019607843137),\n",
       " (0.5058823529411764, 0.6941176470588235, 0.8235294117647058),\n",
       " (0.9921568627450981, 0.7058823529411765, 0.3843137254901961),\n",
       " (0.7019607843137254, 0.8705882352941177, 0.4117647058823529),\n",
       " (0.7372549019607844, 0.5098039215686274, 0.7411764705882353),\n",
       " (0.8, 0.9215686274509803, 0.7686274509803922),\n",
       " (1.0, 0.9294117647058824, 0.43529411764705883)]"
      ]
     },
     "execution_count": 1261,
     "metadata": {},
     "output_type": "execute_result"
    }
   ],
   "source": [
    "sns.color_palette()"
   ]
  },
  {
   "cell_type": "code",
   "execution_count": 1271,
   "id": "3e3e7a9a-3ba5-4dd3-8cf2-dafa47f8d960",
   "metadata": {},
   "outputs": [
    {
     "data": {
      "text/plain": [
       "([0, 1, 2],\n",
       " [Text(0, 0, 'fencing'), Text(1, 0, 'kayak'), Text(2, 0, 'triathlon')])"
      ]
     },
     "execution_count": 1271,
     "metadata": {},
     "output_type": "execute_result"
    },
    {
     "data": {
      "image/png": "[encoded data removed]",
      "text/plain": [
       "<Figure size 1000x600 with 1 Axes>"
      ]
     },
     "metadata": {},
     "output_type": "display_data"
    }
   ],
   "source": [
    "# Step 2: Plot the bar chart\n",
    "plt.figure(figsize=(10, 6))\n",
    "sns.barplot(x='sport', y='VO2 Max', data=avg_vo2_max,edgecolor='w', palette='rocket_r')\n",
    "\n",
    "# Step 3: Customize the plot\n",
    "plt.title('Average VO2 Max by Sport')\n",
    "plt.xlabel('sport')\n",
    "plt.ylabel('Average VO2 Max')\n",
    "plt.xticks(rotation=45)  # Rotate sport names for better readability"
   ]
  },
  {
   "cell_type": "code",
   "execution_count": 1259,
   "id": "08c59457-0ee7-4714-a706-058c19a521f6",
   "metadata": {},
   "outputs": [
    {
     "data": {
      "image/png": "[encoded data removed]",
      "text/plain": [
       "<Figure size 640x480 with 2 Axes>"
      ]
     },
     "metadata": {},
     "output_type": "display_data"
    }
   ],
   "source": [
    "# 7 Create a correlation matrix to show the relationship between HR, BMI and sport.\n",
    "columns_to_keep = ['HR', 'sport', 'BMI']\n",
    "\n",
    "correlation_data=merged_athlete_triathlon1[columns_to_keep]\n",
    "#finding Correlation:\n",
    "#correlation_data=Merged_df1[['HR','BMI','sport']]\n",
    "correlation_encoded = pd.get_dummies(correlation_data, columns = ['sport'])\n",
    "correlation_matrix=correlation_encoded.corr()\n",
    "#creating a heatmap:\n",
    "plt.figure(figure=(12,10))\n",
    "sns.heatmap(correlation_matrix,annot=True,cmap='BuPu',fmt='.2f',vmin=-1,vmax=1)\n",
    "#show the plot\n",
    "plt.title('Correlation Matrix:HR,BMI,sport')\n",
    "plt.show()\n",
    "\n",
    "\n"
   ]
  },
  {
   "cell_type": "code",
   "execution_count": 1257,
   "id": "657e3311-2d5f-4b25-b309-ad3579007e36",
   "metadata": {},
   "outputs": [
    {
     "name": "stdout",
     "output_type": "stream",
     "text": [
      "Average HR for each phase: phase\n",
      "GET          151.104508\n",
      "Warm Up       80.435363\n",
      "cool down    143.617648\n",
      "Name: HR, dtype: float64\n"
     ]
    },
    {
     "data": {
      "image/png": "[encoded data removed]",
      "text/plain": [
       "<Figure size 1000x600 with 1 Axes>"
      ]
     },
     "metadata": {},
     "output_type": "display_data"
    }
   ],
   "source": [
    "#20 Analyze the trend of HR at the start of the test vs the middle and the end.What is the overall trend? \n",
    "\n",
    "avg_hr = merged_athlete_triathlon1.groupby('phase')['HR'].mean()\n",
    "print(\"Average HR for each phase:\", avg_hr )\n",
    "\n",
    "# Visual representation\n",
    "plt.style.use('dark_background')\n",
    "plt.figure(figsize=(10, 6))\n",
    "avg_hr.plot(kind='bar', color=['saddlebrown', 'orange', 'peru'],edgecolor='w')\n",
    "# labels and title\n",
    "plt.xlabel('Test Phase')\n",
    "plt.ylabel('Average HR')\n",
    "plt.title('Average Heart Rate at Different Phases of the Test')\n",
    "plt.xticks(rotation=45)\n",
    "plt.ylim(0, max(avg_hr) + 10)  # Set y-axis limit for better visualization\n",
    "# Adding a trend line\n",
    "statuses = avg_hr.index\n",
    "status_indices = range(len(statuses))\n",
    "plt.plot(status_indices, avg_hr.values, color='red', marker='o', linestyle='-', mec='white',mfc='w',mew=5,linewidth=2, markersize=8, label='Trend Line')\n",
    "plt.tight_layout()\n",
    "plt.show()"
   ]
  },
  {
   "cell_type": "code",
   "execution_count": null,
   "id": "d84dd369-da09-4572-8fbe-7480da49eeb3",
   "metadata": {},
   "outputs": [],
   "source": []
  }
 ],
 "metadata": {
  "kernelspec": {
   "display_name": "Python 3 (ipykernel)",
   "language": "python",
   "name": "python3"
  },
  "language_info": {
   "codemirror_mode": {
    "name": "ipython",
    "version": 3
   },
   "file_extension": ".py",
   "mimetype": "text/x-python",
   "name": "python",
   "nbconvert_exporter": "python",
   "pygments_lexer": "ipython3",
   "version": "3.12.4"
  }
 },
 "nbformat": 4,
 "nbformat_minor": 5
}
