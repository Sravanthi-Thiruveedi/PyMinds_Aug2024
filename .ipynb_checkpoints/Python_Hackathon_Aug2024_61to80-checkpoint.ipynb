{
 "cells": [
  {
   "cell_type": "code",
   "execution_count": 21,
   "id": "31592efa",
   "metadata": {},
   "outputs": [],
   "source": [
    "import pandas as pd\n",
    "import numpy as np\n",
    "import datetime as dt\n",
    "import matplotlib.pyplot as plt\n",
    "import seaborn as sns"
   ]
  },
  {
   "cell_type": "code",
   "execution_count": 3,
   "id": "fd73bfbe",
   "metadata": {},
   "outputs": [
    {
     "name": "stdout",
     "output_type": "stream",
     "text": [
      "['Python', 'Hackathon', 'Aug', '2024']\n"
     ]
    }
   ],
   "source": [
    "#61. Reverse an arrays order in Python. You can use any array with any values you like.\n",
    "\n",
    "arr = ['2024','Aug','Hackathon','Python']\n",
    "arr.reverse()\n",
    "print(arr)"
   ]
  },
  {
   "cell_type": "code",
   "execution_count": 14,
   "id": "00f06b2b",
   "metadata": {},
   "outputs": [
    {
     "data": {
      "text/plain": [
       "array([[-1.79600000e+02,  8.95600000e+02, -7.26712853e+02,\n",
       "        -2.87146972e-01],\n",
       "       [-1.78872000e+02,  8.95872000e+02, -7.27712853e+02,\n",
       "        -2.87146972e-01],\n",
       "       [-1.78148000e+02,  8.91148000e+02, -7.23712853e+02,\n",
       "        -2.87146972e-01],\n",
       "       ...,\n",
       "       [ 1.10348400e+03, -5.79484000e+02, -5.39328043e+02,\n",
       "        -6.71956964e-01],\n",
       "       [ 1.10401600e+03, -5.88016000e+02, -5.31328043e+02,\n",
       "        -6.71956964e-01],\n",
       "       [ 1.10454400e+03, -5.92544000e+02, -5.27328043e+02,\n",
       "        -6.71956964e-01]])"
      ]
     },
     "execution_count": 14,
     "metadata": {},
     "output_type": "execute_result"
    }
   ],
   "source": [
    "#62. What is the root mean of successive differences for 30 consecutive minutes for each athlete.\n",
    "\n",
    "#reading the data\n",
    "data = pd.read_excel('V02Max_Combined.xlsx')\n",
    "successive_differences = np.diff(data)\n",
    "successive_differences"
   ]
  },
  {
   "cell_type": "code",
   "execution_count": null,
   "id": "4165a7e8",
   "metadata": {},
   "outputs": [],
   "source": [
    "#63. On average how many minutes did each athlete in the sport of fencing spend in Zone 5?\n",
    "\n"
   ]
  },
  {
   "cell_type": "code",
   "execution_count": 38,
   "id": "1194f41c",
   "metadata": {},
   "outputs": [
    {
     "name": "stderr",
     "output_type": "stream",
     "text": [
      "/Users/sravanthithiruveedi/opt/anaconda3/lib/python3.9/site-packages/openpyxl/worksheet/_reader.py:329: UserWarning: Unknown extension is not supported and will be removed\n",
      "  warn(msg)\n"
     ]
    },
    {
     "data": {
      "image/png": "[encoded data removed]",
      "text/plain": [
       "<Figure size 640x480 with 1 Axes>"
      ]
     },
     "metadata": {},
     "output_type": "display_data"
    }
   ],
   "source": [
    "#64. Count athletes based on Gender using count plot\n",
    "\n",
    "df = pd.read_excel(\"V02Max_Combined.xlsx\",\"Athletes\")\n",
    "sns.countplot(x ='Gender',data = df, hue = 'Gender')\n",
    "plt.show()"
   ]
  },
  {
   "cell_type": "code",
   "execution_count": 64,
   "id": "013c2a00",
   "metadata": {},
   "outputs": [
    {
     "name": "stdout",
     "output_type": "stream",
     "text": [
      "[[4]] [[7]] [[10]] [[17]]\n"
     ]
    }
   ],
   "source": [
    "#65.    [ 1,  2,  3,  4,  5],\n",
    "#       [ 6,  7,  8,  9, 10],\n",
    "#       [11, 12, 13, 14, 15],\n",
    "#       [16, 17, 18, 19, 20],\n",
    "#       [21, 22, 23, 24, 25],\n",
    "#       [26, 27, 28, 29, 30]  Use array slicing to display elements 4,7,10,17.\n",
    "\n",
    "arr = np.array([\n",
    "      [ 1,  2,  3,  4,  5],\n",
    "      [ 6,  7,  8,  9, 10],\n",
    "      [11, 12, 13, 14, 15],\n",
    "      [16, 17, 18, 19, 20],\n",
    "      [21, 22, 23, 24, 25],\n",
    "      [26, 27, 28, 29, 30]\n",
    "      ])\n",
    "print(arr[0:1, 3:4],arr[1:2, 1:2],arr[1:2, 4:],arr[3:4, 1:2] )"
   ]
  },
  {
   "cell_type": "code",
   "execution_count": 102,
   "id": "34ec3f15",
   "metadata": {},
   "outputs": [
    {
     "name": "stdout",
     "output_type": "stream",
     "text": [
      "[[ 1  2  3  4  5]\n",
      " [ 6  7  8  9 10]\n",
      " [11 12 13 14 15]\n",
      " [16 17 18 19 20]\n",
      " [21 22 23 24 25]\n",
      " [26 27 28 29 30]]\n",
      "[[2]] [[5]] [[13]] [[25]] [[30]]\n"
     ]
    }
   ],
   "source": [
    "#76. np.arange(1,31).reshape(6,5),find array slicing to get the elements 2,5,13,25,30.\n",
    "\n",
    "arr = np.arange(1,31).reshape(6,5)\n",
    "#print the array\n",
    "print(arr)\n",
    "#print the elements\n",
    "print(arr[0:1, 1:2],arr[0:1, 4:],arr[2:3, 2:3],arr[-2:-1, -1:],arr[-1:, -1:])"
   ]
  },
  {
   "cell_type": "code",
   "execution_count": 101,
   "id": "dc34fcc9",
   "metadata": {},
   "outputs": [],
   "source": [
    "#79. Plot the Donut chart athlete distrubution by Gender\n",
    "\n"
   ]
  },
  {
   "cell_type": "code",
   "execution_count": 67,
   "id": "b50f6dc1",
   "metadata": {},
   "outputs": [
    {
     "name": "stdout",
     "output_type": "stream",
     "text": [
      "Size of Tuple: 56bytes\n"
     ]
    }
   ],
   "source": [
    "#80. find the size of Tuple for any given input \n",
    "\n",
    "# sample Tuple\n",
    "tupl = (\"Python\",\"Hackathon\",\"Aug\",2024)\n",
    "print(\"Size of Tuple: \" + str(tupl.__sizeof__()) + \"bytes\")\n",
    " "
   ]
  },
  {
   "cell_type": "code",
   "execution_count": null,
   "id": "fff5ce45",
   "metadata": {},
   "outputs": [],
   "source": []
  }
 ],
 "metadata": {
  "kernelspec": {
   "display_name": "Python 3 (ipykernel)",
   "language": "python",
   "name": "python3"
  },
  "language_info": {
   "codemirror_mode": {
    "name": "ipython",
    "version": 3
   },
   "file_extension": ".py",
   "mimetype": "text/x-python",
   "name": "python",
   "nbconvert_exporter": "python",
   "pygments_lexer": "ipython3",
   "version": "3.9.13"
  }
 },
 "nbformat": 4,
 "nbformat_minor": 5
}
