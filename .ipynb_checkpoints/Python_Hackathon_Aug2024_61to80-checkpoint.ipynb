{
 "cells": [
  {
   "cell_type": "code",
   "execution_count": 21,
   "id": "31592efa",
   "metadata": {},
   "outputs": [],
   "source": [
    "import pandas as pd\n",
    "import numpy as np\n",
    "import datetime as dt\n",
    "import matplotlib.pyplot as plt\n",
    "import seaborn as sns"
   ]
  },
  {
   "cell_type": "code",
   "execution_count": 3,
   "id": "fd73bfbe",
   "metadata": {},
   "outputs": [
    {
     "name": "stdout",
     "output_type": "stream",
     "text": [
      "['Python', 'Hackathon', 'Aug', '2024']\n"
     ]
    }
   ],
   "source": [
    "#61. Reverse an arrays order in Python. You can use any array with any values you like.\n",
    "\n",
    "arr = ['2024','Aug','Hackathon','Python']\n",
    "arr.reverse()\n",
    "print(arr)"
   ]
  },
  {
   "cell_type": "code",
   "execution_count": 14,
   "id": "00f06b2b",
   "metadata": {},
   "outputs": [
    {
     "data": {
      "text/plain": [
       "array([[-1.79600000e+02,  8.95600000e+02, -7.26712853e+02,\n",
       "        -2.87146972e-01],\n",
       "       [-1.78872000e+02,  8.95872000e+02, -7.27712853e+02,\n",
       "        -2.87146972e-01],\n",
       "       [-1.78148000e+02,  8.91148000e+02, -7.23712853e+02,\n",
       "        -2.87146972e-01],\n",
       "       ...,\n",
       "       [ 1.10348400e+03, -5.79484000e+02, -5.39328043e+02,\n",
       "        -6.71956964e-01],\n",
       "       [ 1.10401600e+03, -5.88016000e+02, -5.31328043e+02,\n",
       "        -6.71956964e-01],\n",
       "       [ 1.10454400e+03, -5.92544000e+02, -5.27328043e+02,\n",
       "        -6.71956964e-01]])"
      ]
     },
     "execution_count": 14,
     "metadata": {},
     "output_type": "execute_result"
    }
   ],
   "source": [
    "#62. What is the root mean of successive differences for 30 consecutive minutes for each athlete.\n",
    "\n",
    "#reading the data\n",
    "data = pd.read_excel('V02Max_Combined.xlsx')\n",
    "successive_differences = np.diff(data)\n",
    "successive_differences"
   ]
  },
  {
   "cell_type": "code",
   "execution_count": null,
   "id": "4165a7e8",
   "metadata": {},
   "outputs": [],
   "source": [
    "#63. On average how many minutes did each athlete in the sport of fencing spend in Zone 5?\n",
    "\n"
   ]
  },
  {
   "cell_type": "code",
   "execution_count": 29,
   "id": "11b2a29b",
   "metadata": {},
   "outputs": [
    {
     "name": "stderr",
     "output_type": "stream",
     "text": [
      "/Users/sravanthithiruveedi/opt/anaconda3/lib/python3.9/site-packages/openpyxl/worksheet/_reader.py:329: UserWarning: Unknown extension is not supported and will be removed\n",
      "  warn(msg)\n",
      "/var/folders/ln/pk1mgs_514n7ydhny2twzb680000gn/T/ipykernel_18702/2942327338.py:4: FutureWarning: \n",
      "\n",
      "Passing `palette` without assigning `hue` is deprecated and will be removed in v0.14.0. Assign the `x` variable to `hue` and set `legend=False` for the same effect.\n",
      "\n",
      "  sns.countplot(x ='Gender', data = df, palette = 'Set1', label = 'Gender')\n"
     ]
    },
    {
     "data": {
      "image/png": "[encoded data removed]",
      "text/plain": [
       "<Figure size 640x480 with 1 Axes>"
      ]
     },
     "metadata": {},
     "output_type": "display_data"
    }
   ],
   "source": [
    "#64. Count athletes based on Gender using count plot\n",
    "\n",
    "df = pd.read_excel('V02Max_Combined.xlsx','Athletes')\n",
    "sns.countplot(x ='Gender', data = df, palette = 'Set1', label = 'Gender')\n",
    "plt.show()"
   ]
  },
  {
   "cell_type": "code",
   "execution_count": null,
   "id": "3581b160",
   "metadata": {},
   "outputs": [],
   "source": [
    "#65.    [ 1,  2,  3,  4,  5],\n",
    "#       [ 6,  7,  8,  9, 10],\n",
    "#       [11, 12, 13, 14, 15],\n",
    "#       [16, 17, 18, 19, 20],\n",
    "#       [21, 22, 23, 24, 25],\n",
    "#       [26, 27, 28, 29, 30]  Use array slicing to display elements 4,7,10,17."
   ]
  }
 ],
 "metadata": {
  "kernelspec": {
   "display_name": "Python 3 (ipykernel)",
   "language": "python",
   "name": "python3"
  },
  "language_info": {
   "codemirror_mode": {
    "name": "ipython",
    "version": 3
   },
   "file_extension": ".py",
   "mimetype": "text/x-python",
   "name": "python",
   "nbconvert_exporter": "python",
   "pygments_lexer": "ipython3",
   "version": "3.9.13"
  }
 },
 "nbformat": 4,
 "nbformat_minor": 5
}
