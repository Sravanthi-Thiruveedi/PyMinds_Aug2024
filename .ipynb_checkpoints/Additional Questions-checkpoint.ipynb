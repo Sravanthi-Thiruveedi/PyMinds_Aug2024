{
 "cells": [
  {
   "cell_type": "code",
   "execution_count": 54,
   "id": "31592efa",
   "metadata": {},
   "outputs": [],
   "source": [
    "import pandas as pd\n",
    "import numpy as np\n",
    "import datetime as dt\n",
    "import matplotlib.pyplot as plt\n",
    "import seaborn as sns\n",
    "import plotly.graph_objects as go\n",
    "from matplotlib.sankey import Sankey\n",
    "from wordcloud import WordCloud,STOPWORDS\n",
    "import warnings\n",
    "warnings.filterwarnings(\"ignore\")"
   ]
  },
  {
   "cell_type": "code",
   "execution_count": 56,
   "id": "e32627f8",
   "metadata": {},
   "outputs": [],
   "source": [
    "data = pd.read_excel('V02Max_Combined.xlsx')\n",
    "data_Merged = pd.read_excel(\"merged_athletes_data.xlsx\")\n",
    "data_Kayaking = pd.read_excel(\"V02Max_Combined.xlsx\", \"Kayaking\")\n",
    "data_Athletes = pd.read_excel(\"V02Max_Combined.xlsx\", \"Athletes\")\n",
    "data_Triathlon = pd.read_excel(\"V02Max_Combined.xlsx\", \"Triathlon\")\n",
    "data_Fencing = pd.read_excel(\"V02Max_Combined.xlsx\", \"Fencing\")\n",
    "data_Criteria = pd.read_excel(\"crieteria_data.xlsx\")"
   ]
  }
 ],
 "metadata": {
  "kernelspec": {
   "display_name": "Python 3 (ipykernel)",
   "language": "python",
   "name": "python3"
  },
  "language_info": {
   "codemirror_mode": {
    "name": "ipython",
    "version": 3
   },
   "file_extension": ".py",
   "mimetype": "text/x-python",
   "name": "python",
   "nbconvert_exporter": "python",
   "pygments_lexer": "ipython3",
   "version": "3.11.7"
  }
 },
 "nbformat": 4,
 "nbformat_minor": 5
}
