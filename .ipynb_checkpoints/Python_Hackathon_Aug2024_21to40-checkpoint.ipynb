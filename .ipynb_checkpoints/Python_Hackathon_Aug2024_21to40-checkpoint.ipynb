{
 "cells": [
  {
   "cell_type": "code",
   "execution_count": 318,
   "id": "7cc81f7a-00e3-4d7d-b045-be667f5b3172",
   "metadata": {},
   "outputs": [],
   "source": [
    "import pandas as pd\n",
    "import numpy as np\n",
    "import seaborn as sns\n",
    "import matplotlib.pyplot as plt\n",
    "import datetime as dt\n",
    "import plotly.graph_objects as go\n",
    "from matplotlib.sankey import Sankey\n",
    "from wordcloud import WordCloud,STOPWORDS\n",
    "import warnings\n",
    "warnings.filterwarnings(\"ignore\")\n"
   ]
  },
  {
   "cell_type": "code",
   "execution_count": 57,
   "id": "68c3e6d3-9c49-47d2-be6a-6646f4d2819b",
   "metadata": {},
   "outputs": [
    {
     "name": "stdout",
     "output_type": "stream",
     "text": [
      "\n",
      "Data set Sheet Names\n",
      " ['Kayaking', 'Athletes', 'Triathlon', 'Fencing']\n",
      "\n",
      "data_Kayaking\n",
      "    ID     time     RR       VO2  power\n",
      "0  11 -168.600  727.0  0.287147      0\n",
      "1  11 -167.872  728.0  0.287147      0\n",
      "2  11 -167.148  724.0  0.287147      0\n",
      "3  11 -166.484  664.0  0.320580      0\n",
      "4  11 -165.836  648.0  0.320580      0\n",
      "\n",
      "data_Athletes\n",
      "    ID  age  Weight  Height  P_vt1  P_vt2    sport  Gender Ethnicity  \\\n",
      "0   1   15    53.7     161     50    140  fencing  Female   African   \n",
      "1   2   15    56.2     162     80    127  fencing    Male   African   \n",
      "2   3   16    89.9     191    155    300  fencing    Male     White   \n",
      "3   4   16    76.5     180    215    275  fencing    Male     White   \n",
      "4   5   17    76.4     186    110    172  fencing  Female     White   \n",
      "\n",
      "  First Name Last Name  \n",
      "0     Olivia  Martinez  \n",
      "1      Ethan  Reynolds  \n",
      "2    Jackson    Harper  \n",
      "3       Liam   Sanchez  \n",
      "4        Ava  Thompson  \n",
      "\n",
      "data_Triathlon\n",
      "    ID     time     RR       VO2  power\n",
      "0  17 -182.408  736.0  0.363762      0\n",
      "1  17 -181.672  736.0  0.363762      0\n",
      "2  17 -180.968  704.0  0.363762      0\n",
      "3  17 -180.268  700.0  0.363762      0\n",
      "4  17 -179.616  652.0  0.363762      0\n",
      "\n",
      "data_Fencing\n",
      "    ID     time   RR       VO2  power\n",
      "0   1 -130.840  672  0.302008      0\n",
      "1   1 -130.168  672  0.302008      0\n",
      "2   1 -129.536  632  0.301336      0\n",
      "3   1 -128.824  712  0.301336      0\n",
      "4   1 -127.948  876  0.301336      0\n",
      "\n",
      "Sheet Names:\n",
      " ['Sheet1']\n",
      "\n",
      "data_merged_sheet\n",
      "    ID     time     RR       VO2  power\n",
      "0  11 -168.600  727.0  0.287147      0\n",
      "1  11 -167.872  728.0  0.287147      0\n",
      "2  11 -167.148  724.0  0.287147      0\n",
      "3  11 -166.484  664.0  0.320580      0\n",
      "4  11 -165.836  648.0  0.320580      0\n",
      "\n",
      "Data set Criteria Sheet Names:\n",
      "        ID     time     RR       VO2  power      phase\n",
      "0      11 -168.600  727.0  0.287147      0    Warm Up\n",
      "1      11 -167.872  728.0  0.287147      0    Warm Up\n",
      "2      11 -167.148  724.0  0.287147      0    Warm Up\n",
      "3      11 -166.484  664.0  0.320580      0    Warm Up\n",
      "4      11 -165.836  648.0  0.320580      0    Warm Up\n",
      "...    ..      ...    ...       ...    ...        ...\n",
      "52057  10  942.700  428.0  0.786363      0  cool down\n",
      "52058  10  943.124  424.0  0.786363      0  cool down\n",
      "52059  10  943.552  428.0  0.786363      0  cool down\n",
      "52060  10  943.976  424.0  0.786363      0  cool down\n",
      "52061  10  944.404  428.0  0.786363      0  cool down\n",
      "\n",
      "[52062 rows x 6 columns]\n",
      "\n",
      "data_criteria_sheet\n",
      "    ID     time     RR       VO2  power    phase\n",
      "0  11 -168.600  727.0  0.287147      0  Warm Up\n",
      "1  11 -167.872  728.0  0.287147      0  Warm Up\n",
      "2  11 -167.148  724.0  0.287147      0  Warm Up\n",
      "3  11 -166.484  664.0  0.320580      0  Warm Up\n",
      "4  11 -165.836  648.0  0.320580      0  Warm Up\n"
     ]
    }
   ],
   "source": [
    "#Step 1 Load the Excel File\n",
    "data = pd.ExcelFile('V02Max_Combined.xlsx')\n",
    "#Get the sheet names\n",
    "sheet = data.sheet_names\n",
    "print('\\nData set Sheet Names\\n',sheet)\n",
    "\n",
    "#Step 2 Read each sheet \n",
    "data_Kayaking = pd.read_excel(data,sheet_name = 'Kayaking')\n",
    "data_Athletes = pd.read_excel(data, sheet_name = 'Athletes')\n",
    "data_Triathlon = pd.read_excel(data,sheet_name =  'Triathlon')\n",
    "data_Fencing = pd.read_excel(data,sheet_name =  'Fencing')\n",
    "\n",
    "#Step 3 verify dataframes\n",
    "print('\\ndata_Kayaking\\n',data_Kayaking.head())\n",
    "print('\\ndata_Athletes\\n',data_Athletes.head())\n",
    "print('\\ndata_Triathlon\\n',data_Triathlon.head())\n",
    "print('\\ndata_Fencing\\n',data_Fencing.head())\n",
    "\n",
    "#Step 4 Load the Merged Excel File\n",
    "data_merged = pd.ExcelFile('merged_athletes_data.xlsx')\n",
    "#Get the sheet names\n",
    "merged_sheet = data_merged.sheet_names\n",
    "print('\\nSheet Names:\\n',merged_sheet)\n",
    "\n",
    "#Step 5 Read sheet\n",
    "data_merged_sheet= pd.read_excel(data_merged,sheet_name = 'Sheet1')\n",
    "#Step 6 verify dataframe\n",
    "print('\\ndata_merged_sheet\\n',data_merged_sheet.head())\n",
    "\n",
    "#Step 7 Load the Criteria Excel File\n",
    "data_criteria=pd.ExcelFile('crieteria_data.xlsx')\n",
    "#Step 8 Read sheet\n",
    "data_criteria_sheet= pd.read_excel(data_criteria,sheet_name = 'Sheet1')\n",
    "print('\\nData set Criteria Sheet Names:\\n',data_criteria_sheet)\n",
    "#Step 9 verify dataframe\n",
    "print('\\ndata_criteria_sheet\\n',data_criteria_sheet.head())"
   ]
  },
  {
   "cell_type": "markdown",
   "id": "88a0e336-8687-44a1-b6d4-1bc7e257a79e",
   "metadata": {},
   "source": [
    "21.Display a pie chart of number of athletes by sport."
   ]
  },
  {
   "cell_type": "code",
   "execution_count": 59,
   "id": "10acaa1a-1647-407a-8097-d786e761ef5f",
   "metadata": {},
   "outputs": [
    {
     "data": {
      "image/png": "[encoded data removed]",
      "text/plain": [
       "<Figure size 400x300 with 1 Axes>"
      ]
     },
     "metadata": {},
     "output_type": "display_data"
    }
   ],
   "source": [
    "#step 1 Count the Athletes by Sport by accessing the sport column in Data Atheletes Data frame\n",
    "count=data_Athletes['sport'].value_counts()\n",
    "#Step 2 Create figure with size 4*3 inches\n",
    "plt.figure(figsize=(4, 3))\n",
    "#Step 3 Create pie chart and format the labels \n",
    "labels_sport=data_Athletes['sport'].unique()\n",
    "\n",
    "plt.pie(count, \n",
    "        labels=labels_sport,\n",
    "        labeldistance=1.1,\n",
    "        autopct=lambda x: '{:.0f}'.format(x * (data_Athletes['sport'].count()) / 100),\n",
    "        textprops={'fontsize':10},\n",
    "        colors=sns.color_palette('Set2'),\n",
    "        startangle=90)\n",
    "#Step 4 Adds a title\n",
    "plt.title('Number of Athletes by Sport')\n",
    "#Step 5 Displays Pie chart\n",
    "plt.show()"
   ]
  },
  {
   "cell_type": "markdown",
   "id": "d5a5010f-1af4-4381-aa00-d0e3d2f64213",
   "metadata": {},
   "source": [
    "22.Using any 10 HR values print even if the value is an even number and odd if its an odd number"
   ]
  },
  {
   "cell_type": "code",
   "execution_count": 53,
   "id": "1568df99-2182-498d-9b79-c1c072fdb005",
   "metadata": {},
   "outputs": [
    {
     "name": "stdout",
     "output_type": "stream",
     "text": [
      "131.58 : odd\n",
      "127.12 : odd\n",
      "166.67 : odd\n",
      "137.61 : odd\n",
      "132.74 : odd\n",
      "126.05 : odd\n",
      "82.42 : odd\n",
      "132.74 : odd\n",
      "142.86 : odd\n",
      "150.00 : even\n"
     ]
    }
   ],
   "source": [
    "#Step 1 Random 10 values from RR column by using samplefunction,\n",
    "#random_state=1( same values will be sampled every time)\n",
    "RR=data_Triathlon['RR'].sample(n=10,random_state=1)\n",
    "\n",
    "#Step 2 Heart Rate for every Random RR value\n",
    "HR=[60/(RR/1000) for RR in RR]\n",
    "\n",
    "#Step 3 checking each iterable value odd or even\n",
    "for i in HR:\n",
    "    if i%2==0:\n",
    "        #Step 4 Format using string literal values with 2 decimal point and printing odd or even status\n",
    "        print(f\"{i:.2f} : even\")\n",
    "      \n",
    "    else:\n",
    "        print(f\"{i:.2f} : odd\")\n"
   ]
  },
  {
   "cell_type": "markdown",
   "id": "e42dc7f5-93e4-40f4-983a-759dc8e34739",
   "metadata": {},
   "source": [
    "23. Which heart rate zone did most participants spend the longest duration of time in?"
   ]
  },
  {
   "cell_type": "code",
   "execution_count": 111,
   "id": "d6ec78da-29a0-4304-b50a-a2b28f833a4d",
   "metadata": {},
   "outputs": [
    {
     "name": "stdout",
     "output_type": "stream",
     "text": [
      "The heart rate zone with the highest time spent by athletes is: Lactate threshold Zone (Zone 4)\n"
     ]
    }
   ],
   "source": [
    "# Step 1 Calculate the maximum heart rate for each athlete based on their age from data_Athletes\n",
    "data_Athletes['Athlete_MaxHeartRate'] = 220 - data_Athletes['age']\n",
    "#print('data_Athletes Columns:', data_Athletes.columns)\n",
    "\n",
    "# Step 2 Calculate heart rate from RR intervals for the merged dataset\n",
    "data_merged_sheet['HR'] = 60 / (data_merged_sheet['RR'] / 1000)\n",
    "#print(data_merged_sheet.head())\n",
    "\n",
    "# Step 3 Remove any duplicate columns, keeping only unique ones to avoid merge conflicts\n",
    "#data_merged_sheet.columns.duplicated() Boolean array to indicate which columns are duplicate\n",
    "#~bitwise operator for inverting above function\n",
    "#:to include all rows \n",
    "data_merged_sheet = data_merged_sheet.loc[:, ~data_merged_sheet.columns.duplicated()]\n",
    "\n",
    "\n",
    "#Step 4 Define a method to categorize heart rate zones based on calculated heart rates\n",
    "#Zone 1 (recovery/easy)  55%-65% HR max      \n",
    "#Zone 2 (aerobic/base)   65%-75% HR max     \n",
    "#Zone 3 (tempo)          80%-85% HR max\n",
    "#Zone 4 (lactate threshold) 85%-88% HR max       \n",
    "#Zone 5 (anaerobic) 90% HR max and above      \n",
    "\n",
    "def determine_hr_zone(heart_rate, max_heart_rate):\n",
    "    if heart_rate <= 0.6 * max_heart_rate:\n",
    "        return 'Recovery/Easy Zone (Zone 1)'\n",
    "    elif heart_rate <= 0.7 * max_heart_rate:\n",
    "        return 'Aerobic/Base Zone (Zone 2)'\n",
    "    elif heart_rate <= 0.8 * max_heart_rate:\n",
    "        return 'Tempo Zone (Zone 3)'\n",
    "    elif heart_rate <= 0.9 * max_heart_rate:\n",
    "        return 'Lactate threshold Zone (Zone 4)'\n",
    "    else:\n",
    "        return 'Anaerobic Zone (Zone 5)'\n",
    "\n",
    "# Step 5 Assign heart rate zones to each athlete's performance data by using Lambda function to get inputs \n",
    "#from HR and Athlete_MaxHeartRate\n",
    "if 'Athlete_MaxHeartRate' in data_merged_sheet.columns:\n",
    "    data_merged_sheet['HeartRateZone'] = data_merged_sheet.apply(\n",
    "        lambda row: determine_hr_zone(row['HR'], row['Athlete_MaxHeartRate']),\n",
    "        axis=1\n",
    "    )\n",
    "\n",
    "#print(data_merged_sheet.columns)\n",
    "\n",
    "# Step 6 Aggregate the time spent in each heart rate zone\n",
    "zone_time_distribution = data_merged_sheet.groupby('HeartRateZone').sum()\n",
    "\n",
    "\n",
    "# Step 7 Identify the heart rate zone where athletes spent the most time\n",
    "dominant_zone = zone_time_distribution['HR'].idxmax()  \n",
    "\n",
    "#Step 8 print  heart rate zone\n",
    "print(f\"The heart rate zone with the highest time spent by athletes is: {dominant_zone}\")\n"
   ]
  },
  {
   "cell_type": "markdown",
   "id": "d6b4e3df-c8df-4bd0-b3b6-fb2965d393ab",
   "metadata": {},
   "source": [
    "24.Store athlete name and sport in a dictionary as a pair of values."
   ]
  },
  {
   "cell_type": "code",
   "execution_count": 96,
   "id": "6cdd8378-19f6-42ec-b804-b0f3d45934d4",
   "metadata": {},
   "outputs": [
    {
     "name": "stdout",
     "output_type": "stream",
     "text": [
      "{'Olivia Martinez': 'fencing', 'Ethan Reynolds': 'fencing', 'Jackson Harper': 'fencing', 'Liam Sanchez': 'fencing', 'Ava Thompson': 'fencing', 'Sophia Rodriguez': 'fencing', 'Grace Simmons': 'fencing', 'Aiden Bennett': 'fencing', 'Chloe Price': 'fencing', 'Lily Jordan': 'fencing', 'Isabella Griffin': 'kayak', 'Caleb Dixon': 'kayak', 'Mia Carpenter': 'kayak', 'Harper Mitchell': 'kayak', 'Mason Wallace': 'kayak', 'Logan Anderson': 'kayak', 'Lucas Foster': 'triathlon', 'Owen Myers': 'triathlon'}\n"
     ]
    }
   ],
   "source": [
    "#creating dictionary\n",
    "athelete_sport_dict=data_Athletes.set_index(data_Athletes['First Name']+ ' '+data_Athletes['Last Name']).to_dict('dict')['sport']\n",
    "#verifying the created dictionary\n",
    "print(athelete_sport_dict)"
   ]
  },
  {
   "cell_type": "code",
   "execution_count": null,
   "id": "c52bbb78-5480-4a31-aad1-eaaff6720062",
   "metadata": {},
   "outputs": [],
   "source": [
    "25. Using arrays and loops, find the count of athletes based on gender."
   ]
  },
  {
   "cell_type": "code",
   "execution_count": 348,
   "id": "65d677f1-df4d-4425-be8e-b3d4e3a57ae6",
   "metadata": {},
   "outputs": [
    {
     "name": "stdout",
     "output_type": "stream",
     "text": [
      "<class 'numpy.ndarray'>\n",
      "No of athletes in Female Categry: 10\n",
      "No of athletes in Male Categry: 8\n"
     ]
    }
   ],
   "source": [
    "male_counter=0\n",
    "female_counter=0\n",
    "gen_array=data_Athletes['Gender'].values\n",
    "print(type(gen_array))\n",
    "for i in gen_array:\n",
    "    if i =='Female':\n",
    "        female_counter = female_counter+1             \n",
    "    else:\n",
    "        male_counter = male_counter+1\n",
    "        \n",
    "print('No of athletes in Female Categry:',female_counter)\n",
    "print('No of athletes in Male Categry:',male_counter)"
   ]
  },
  {
   "cell_type": "markdown",
   "id": "d545675b-2731-42e5-b53b-aad6e7029186",
   "metadata": {},
   "source": [
    "26.Create a sankey diagram to show the groups of race within each sport"
   ]
  },
  {
   "cell_type": "code",
   "execution_count": 300,
   "id": "4705d609-11d6-4411-857c-b9d755054ab5",
   "metadata": {},
   "outputs": [
    {
     "data": {
      "application/vnd.plotly.v1+json": {
       "config": {
        "plotlyServerURL": "https://plot.ly"
       },
       "data": [
        {
         "link": {
          "source": [
           0,
           0,
           1,
           1,
           1,
           2
          ],
          "target": [
           3,
           4,
           3,
           5,
           6,
           6
          ],
          "value": [
           4,
           6,
           2,
           2,
           2,
           2
          ]
         },
         "node": {
          "label": [
           "fencing",
           "kayak",
           "triathlon",
           "African",
           "White",
           "Asian",
           "Latino"
          ],
          "line": {
           "color": "black",
           "width": 0.5
          },
          "pad": 15,
          "thickness": 20
         },
         "type": "sankey"
        }
       ],
       "layout": {
        "font": {
         "size": 10
        },
        "height": 600,
        "template": {
         "data": {
          "bar": [
           {
            "error_x": {
             "color": "#2a3f5f"
            },
            "error_y": {
             "color": "#2a3f5f"
            },
            "marker": {
             "line": {
              "color": "#E5ECF6",
              "width": 0.5
             },
             "pattern": {
              "fillmode": "overlay",
              "size": 10,
              "solidity": 0.2
             }
            },
            "type": "bar"
           }
          ],
          "barpolar": [
           {
            "marker": {
             "line": {
              "color": "#E5ECF6",
              "width": 0.5
             },
             "pattern": {
              "fillmode": "overlay",
              "size": 10,
              "solidity": 0.2
             }
            },
            "type": "barpolar"
           }
          ],
          "carpet": [
           {
            "aaxis": {
             "endlinecolor": "#2a3f5f",
             "gridcolor": "white",
             "linecolor": "white",
             "minorgridcolor": "white",
             "startlinecolor": "#2a3f5f"
            },
            "baxis": {
             "endlinecolor": "#2a3f5f",
             "gridcolor": "white",
             "linecolor": "white",
             "minorgridcolor": "white",
             "startlinecolor": "#2a3f5f"
            },
            "type": "carpet"
           }
          ],
          "choropleth": [
           {
            "colorbar": {
             "outlinewidth": 0,
             "ticks": ""
            },
            "type": "choropleth"
           }
          ],
          "contour": [
           {
            "colorbar": {
             "outlinewidth": 0,
             "ticks": ""
            },
            "colorscale": [
             [
              0,
              "#0d0887"
             ],
             [
              0.1111111111111111,
              "#46039f"
             ],
             [
              0.2222222222222222,
              "#7201a8"
             ],
             [
              0.3333333333333333,
              "#9c179e"
             ],
             [
              0.4444444444444444,
              "#bd3786"
             ],
             [
              0.5555555555555556,
              "#d8576b"
             ],
             [
              0.6666666666666666,
              "#ed7953"
             ],
             [
              0.7777777777777778,
              "#fb9f3a"
             ],
             [
              0.8888888888888888,
              "#fdca26"
             ],
             [
              1,
              "#f0f921"
             ]
            ],
            "type": "contour"
           }
          ],
          "contourcarpet": [
           {
            "colorbar": {
             "outlinewidth": 0,
             "ticks": ""
            },
            "type": "contourcarpet"
           }
          ],
          "heatmap": [
           {
            "colorbar": {
             "outlinewidth": 0,
             "ticks": ""
            },
            "colorscale": [
             [
              0,
              "#0d0887"
             ],
             [
              0.1111111111111111,
              "#46039f"
             ],
             [
              0.2222222222222222,
              "#7201a8"
             ],
             [
              0.3333333333333333,
              "#9c179e"
             ],
             [
              0.4444444444444444,
              "#bd3786"
             ],
             [
              0.5555555555555556,
              "#d8576b"
             ],
             [
              0.6666666666666666,
              "#ed7953"
             ],
             [
              0.7777777777777778,
              "#fb9f3a"
             ],
             [
              0.8888888888888888,
              "#fdca26"
             ],
             [
              1,
              "#f0f921"
             ]
            ],
            "type": "heatmap"
           }
          ],
          "heatmapgl": [
           {
            "colorbar": {
             "outlinewidth": 0,
             "ticks": ""
            },
            "colorscale": [
             [
              0,
              "#0d0887"
             ],
             [
              0.1111111111111111,
              "#46039f"
             ],
             [
              0.2222222222222222,
              "#7201a8"
             ],
             [
              0.3333333333333333,
              "#9c179e"
             ],
             [
              0.4444444444444444,
              "#bd3786"
             ],
             [
              0.5555555555555556,
              "#d8576b"
             ],
             [
              0.6666666666666666,
              "#ed7953"
             ],
             [
              0.7777777777777778,
              "#fb9f3a"
             ],
             [
              0.8888888888888888,
              "#fdca26"
             ],
             [
              1,
              "#f0f921"
             ]
            ],
            "type": "heatmapgl"
           }
          ],
          "histogram": [
           {
            "marker": {
             "pattern": {
              "fillmode": "overlay",
              "size": 10,
              "solidity": 0.2
             }
            },
            "type": "histogram"
           }
          ],
          "histogram2d": [
           {
            "colorbar": {
             "outlinewidth": 0,
             "ticks": ""
            },
            "colorscale": [
             [
              0,
              "#0d0887"
             ],
             [
              0.1111111111111111,
              "#46039f"
             ],
             [
              0.2222222222222222,
              "#7201a8"
             ],
             [
              0.3333333333333333,
              "#9c179e"
             ],
             [
              0.4444444444444444,
              "#bd3786"
             ],
             [
              0.5555555555555556,
              "#d8576b"
             ],
             [
              0.6666666666666666,
              "#ed7953"
             ],
             [
              0.7777777777777778,
              "#fb9f3a"
             ],
             [
              0.8888888888888888,
              "#fdca26"
             ],
             [
              1,
              "#f0f921"
             ]
            ],
            "type": "histogram2d"
           }
          ],
          "histogram2dcontour": [
           {
            "colorbar": {
             "outlinewidth": 0,
             "ticks": ""
            },
            "colorscale": [
             [
              0,
              "#0d0887"
             ],
             [
              0.1111111111111111,
              "#46039f"
             ],
             [
              0.2222222222222222,
              "#7201a8"
             ],
             [
              0.3333333333333333,
              "#9c179e"
             ],
             [
              0.4444444444444444,
              "#bd3786"
             ],
             [
              0.5555555555555556,
              "#d8576b"
             ],
             [
              0.6666666666666666,
              "#ed7953"
             ],
             [
              0.7777777777777778,
              "#fb9f3a"
             ],
             [
              0.8888888888888888,
              "#fdca26"
             ],
             [
              1,
              "#f0f921"
             ]
            ],
            "type": "histogram2dcontour"
           }
          ],
          "mesh3d": [
           {
            "colorbar": {
             "outlinewidth": 0,
             "ticks": ""
            },
            "type": "mesh3d"
           }
          ],
          "parcoords": [
           {
            "line": {
             "colorbar": {
              "outlinewidth": 0,
              "ticks": ""
             }
            },
            "type": "parcoords"
           }
          ],
          "pie": [
           {
            "automargin": true,
            "type": "pie"
           }
          ],
          "scatter": [
           {
            "fillpattern": {
             "fillmode": "overlay",
             "size": 10,
             "solidity": 0.2
            },
            "type": "scatter"
           }
          ],
          "scatter3d": [
           {
            "line": {
             "colorbar": {
              "outlinewidth": 0,
              "ticks": ""
             }
            },
            "marker": {
             "colorbar": {
              "outlinewidth": 0,
              "ticks": ""
             }
            },
            "type": "scatter3d"
           }
          ],
          "scattercarpet": [
           {
            "marker": {
             "colorbar": {
              "outlinewidth": 0,
              "ticks": ""
             }
            },
            "type": "scattercarpet"
           }
          ],
          "scattergeo": [
           {
            "marker": {
             "colorbar": {
              "outlinewidth": 0,
              "ticks": ""
             }
            },
            "type": "scattergeo"
           }
          ],
          "scattergl": [
           {
            "marker": {
             "colorbar": {
              "outlinewidth": 0,
              "ticks": ""
             }
            },
            "type": "scattergl"
           }
          ],
          "scattermapbox": [
           {
            "marker": {
             "colorbar": {
              "outlinewidth": 0,
              "ticks": ""
             }
            },
            "type": "scattermapbox"
           }
          ],
          "scatterpolar": [
           {
            "marker": {
             "colorbar": {
              "outlinewidth": 0,
              "ticks": ""
             }
            },
            "type": "scatterpolar"
           }
          ],
          "scatterpolargl": [
           {
            "marker": {
             "colorbar": {
              "outlinewidth": 0,
              "ticks": ""
             }
            },
            "type": "scatterpolargl"
           }
          ],
          "scatterternary": [
           {
            "marker": {
             "colorbar": {
              "outlinewidth": 0,
              "ticks": ""
             }
            },
            "type": "scatterternary"
           }
          ],
          "surface": [
           {
            "colorbar": {
             "outlinewidth": 0,
             "ticks": ""
            },
            "colorscale": [
             [
              0,
              "#0d0887"
             ],
             [
              0.1111111111111111,
              "#46039f"
             ],
             [
              0.2222222222222222,
              "#7201a8"
             ],
             [
              0.3333333333333333,
              "#9c179e"
             ],
             [
              0.4444444444444444,
              "#bd3786"
             ],
             [
              0.5555555555555556,
              "#d8576b"
             ],
             [
              0.6666666666666666,
              "#ed7953"
             ],
             [
              0.7777777777777778,
              "#fb9f3a"
             ],
             [
              0.8888888888888888,
              "#fdca26"
             ],
             [
              1,
              "#f0f921"
             ]
            ],
            "type": "surface"
           }
          ],
          "table": [
           {
            "cells": {
             "fill": {
              "color": "#EBF0F8"
             },
             "line": {
              "color": "white"
             }
            },
            "header": {
             "fill": {
              "color": "#C8D4E3"
             },
             "line": {
              "color": "white"
             }
            },
            "type": "table"
           }
          ]
         },
         "layout": {
          "annotationdefaults": {
           "arrowcolor": "#2a3f5f",
           "arrowhead": 0,
           "arrowwidth": 1
          },
          "autotypenumbers": "strict",
          "coloraxis": {
           "colorbar": {
            "outlinewidth": 0,
            "ticks": ""
           }
          },
          "colorscale": {
           "diverging": [
            [
             0,
             "#8e0152"
            ],
            [
             0.1,
             "#c51b7d"
            ],
            [
             0.2,
             "#de77ae"
            ],
            [
             0.3,
             "#f1b6da"
            ],
            [
             0.4,
             "#fde0ef"
            ],
            [
             0.5,
             "#f7f7f7"
            ],
            [
             0.6,
             "#e6f5d0"
            ],
            [
             0.7,
             "#b8e186"
            ],
            [
             0.8,
             "#7fbc41"
            ],
            [
             0.9,
             "#4d9221"
            ],
            [
             1,
             "#276419"
            ]
           ],
           "sequential": [
            [
             0,
             "#0d0887"
            ],
            [
             0.1111111111111111,
             "#46039f"
            ],
            [
             0.2222222222222222,
             "#7201a8"
            ],
            [
             0.3333333333333333,
             "#9c179e"
            ],
            [
             0.4444444444444444,
             "#bd3786"
            ],
            [
             0.5555555555555556,
             "#d8576b"
            ],
            [
             0.6666666666666666,
             "#ed7953"
            ],
            [
             0.7777777777777778,
             "#fb9f3a"
            ],
            [
             0.8888888888888888,
             "#fdca26"
            ],
            [
             1,
             "#f0f921"
            ]
           ],
           "sequentialminus": [
            [
             0,
             "#0d0887"
            ],
            [
             0.1111111111111111,
             "#46039f"
            ],
            [
             0.2222222222222222,
             "#7201a8"
            ],
            [
             0.3333333333333333,
             "#9c179e"
            ],
            [
             0.4444444444444444,
             "#bd3786"
            ],
            [
             0.5555555555555556,
             "#d8576b"
            ],
            [
             0.6666666666666666,
             "#ed7953"
            ],
            [
             0.7777777777777778,
             "#fb9f3a"
            ],
            [
             0.8888888888888888,
             "#fdca26"
            ],
            [
             1,
             "#f0f921"
            ]
           ]
          },
          "colorway": [
           "#636efa",
           "#EF553B",
           "#00cc96",
           "#ab63fa",
           "#FFA15A",
           "#19d3f3",
           "#FF6692",
           "#B6E880",
           "#FF97FF",
           "#FECB52"
          ],
          "font": {
           "color": "#2a3f5f"
          },
          "geo": {
           "bgcolor": "white",
           "lakecolor": "white",
           "landcolor": "#E5ECF6",
           "showlakes": true,
           "showland": true,
           "subunitcolor": "white"
          },
          "hoverlabel": {
           "align": "left"
          },
          "hovermode": "closest",
          "mapbox": {
           "style": "light"
          },
          "paper_bgcolor": "white",
          "plot_bgcolor": "#E5ECF6",
          "polar": {
           "angularaxis": {
            "gridcolor": "white",
            "linecolor": "white",
            "ticks": ""
           },
           "bgcolor": "#E5ECF6",
           "radialaxis": {
            "gridcolor": "white",
            "linecolor": "white",
            "ticks": ""
           }
          },
          "scene": {
           "xaxis": {
            "backgroundcolor": "#E5ECF6",
            "gridcolor": "white",
            "gridwidth": 2,
            "linecolor": "white",
            "showbackground": true,
            "ticks": "",
            "zerolinecolor": "white"
           },
           "yaxis": {
            "backgroundcolor": "#E5ECF6",
            "gridcolor": "white",
            "gridwidth": 2,
            "linecolor": "white",
            "showbackground": true,
            "ticks": "",
            "zerolinecolor": "white"
           },
           "zaxis": {
            "backgroundcolor": "#E5ECF6",
            "gridcolor": "white",
            "gridwidth": 2,
            "linecolor": "white",
            "showbackground": true,
            "ticks": "",
            "zerolinecolor": "white"
           }
          },
          "shapedefaults": {
           "line": {
            "color": "#2a3f5f"
           }
          },
          "ternary": {
           "aaxis": {
            "gridcolor": "white",
            "linecolor": "white",
            "ticks": ""
           },
           "baxis": {
            "gridcolor": "white",
            "linecolor": "white",
            "ticks": ""
           },
           "bgcolor": "#E5ECF6",
           "caxis": {
            "gridcolor": "white",
            "linecolor": "white",
            "ticks": ""
           }
          },
          "title": {
           "x": 0.05
          },
          "xaxis": {
           "automargin": true,
           "gridcolor": "white",
           "linecolor": "white",
           "ticks": "",
           "title": {
            "standoff": 15
           },
           "zerolinecolor": "white",
           "zerolinewidth": 2
          },
          "yaxis": {
           "automargin": true,
           "gridcolor": "white",
           "linecolor": "white",
           "ticks": "",
           "title": {
            "standoff": 15
           },
           "zerolinecolor": "white",
           "zerolinewidth": 2
          }
         }
        },
        "title": {
         "text": "Groups of Race within each sport Sankey Diagram"
        },
        "width": 1000
       }
      },
      "image/png": "[encoded data removed]",
      "text/html": [
       "<div>                            <div id=\"5be263c1-906c-45d5-9eb4-8f6dae6283d2\" class=\"plotly-graph-div\" style=\"height:600px; width:1000px;\"></div>            <script type=\"text/javascript\">                require([\"plotly\"], function(Plotly) {                    window.PLOTLYENV=window.PLOTLYENV || {};                                    if (document.getElementById(\"5be263c1-906c-45d5-9eb4-8f6dae6283d2\")) {                    Plotly.newPlot(                        \"5be263c1-906c-45d5-9eb4-8f6dae6283d2\",                        [{\"link\":{\"source\":[0,0,1,1,1,2],\"target\":[3,4,3,5,6,6],\"value\":[4,6,2,2,2,2]},\"node\":{\"label\":[\"fencing\",\"kayak\",\"triathlon\",\"African\",\"White\",\"Asian\",\"Latino\"],\"line\":{\"color\":\"black\",\"width\":0.5},\"pad\":15,\"thickness\":20},\"type\":\"sankey\"}],                        {\"template\":{\"data\":{\"histogram2dcontour\":[{\"type\":\"histogram2dcontour\",\"colorbar\":{\"outlinewidth\":0,\"ticks\":\"\"},\"colorscale\":[[0.0,\"#0d0887\"],[0.1111111111111111,\"#46039f\"],[0.2222222222222222,\"#7201a8\"],[0.3333333333333333,\"#9c179e\"],[0.4444444444444444,\"#bd3786\"],[0.5555555555555556,\"#d8576b\"],[0.6666666666666666,\"#ed7953\"],[0.7777777777777778,\"#fb9f3a\"],[0.8888888888888888,\"#fdca26\"],[1.0,\"#f0f921\"]]}],\"choropleth\":[{\"type\":\"choropleth\",\"colorbar\":{\"outlinewidth\":0,\"ticks\":\"\"}}],\"histogram2d\":[{\"type\":\"histogram2d\",\"colorbar\":{\"outlinewidth\":0,\"ticks\":\"\"},\"colorscale\":[[0.0,\"#0d0887\"],[0.1111111111111111,\"#46039f\"],[0.2222222222222222,\"#7201a8\"],[0.3333333333333333,\"#9c179e\"],[0.4444444444444444,\"#bd3786\"],[0.5555555555555556,\"#d8576b\"],[0.6666666666666666,\"#ed7953\"],[0.7777777777777778,\"#fb9f3a\"],[0.8888888888888888,\"#fdca26\"],[1.0,\"#f0f921\"]]}],\"heatmap\":[{\"type\":\"heatmap\",\"colorbar\":{\"outlinewidth\":0,\"ticks\":\"\"},\"colorscale\":[[0.0,\"#0d0887\"],[0.1111111111111111,\"#46039f\"],[0.2222222222222222,\"#7201a8\"],[0.3333333333333333,\"#9c179e\"],[0.4444444444444444,\"#bd3786\"],[0.5555555555555556,\"#d8576b\"],[0.6666666666666666,\"#ed7953\"],[0.7777777777777778,\"#fb9f3a\"],[0.8888888888888888,\"#fdca26\"],[1.0,\"#f0f921\"]]}],\"heatmapgl\":[{\"type\":\"heatmapgl\",\"colorbar\":{\"outlinewidth\":0,\"ticks\":\"\"},\"colorscale\":[[0.0,\"#0d0887\"],[0.1111111111111111,\"#46039f\"],[0.2222222222222222,\"#7201a8\"],[0.3333333333333333,\"#9c179e\"],[0.4444444444444444,\"#bd3786\"],[0.5555555555555556,\"#d8576b\"],[0.6666666666666666,\"#ed7953\"],[0.7777777777777778,\"#fb9f3a\"],[0.8888888888888888,\"#fdca26\"],[1.0,\"#f0f921\"]]}],\"contourcarpet\":[{\"type\":\"contourcarpet\",\"colorbar\":{\"outlinewidth\":0,\"ticks\":\"\"}}],\"contour\":[{\"type\":\"contour\",\"colorbar\":{\"outlinewidth\":0,\"ticks\":\"\"},\"colorscale\":[[0.0,\"#0d0887\"],[0.1111111111111111,\"#46039f\"],[0.2222222222222222,\"#7201a8\"],[0.3333333333333333,\"#9c179e\"],[0.4444444444444444,\"#bd3786\"],[0.5555555555555556,\"#d8576b\"],[0.6666666666666666,\"#ed7953\"],[0.7777777777777778,\"#fb9f3a\"],[0.8888888888888888,\"#fdca26\"],[1.0,\"#f0f921\"]]}],\"surface\":[{\"type\":\"surface\",\"colorbar\":{\"outlinewidth\":0,\"ticks\":\"\"},\"colorscale\":[[0.0,\"#0d0887\"],[0.1111111111111111,\"#46039f\"],[0.2222222222222222,\"#7201a8\"],[0.3333333333333333,\"#9c179e\"],[0.4444444444444444,\"#bd3786\"],[0.5555555555555556,\"#d8576b\"],[0.6666666666666666,\"#ed7953\"],[0.7777777777777778,\"#fb9f3a\"],[0.8888888888888888,\"#fdca26\"],[1.0,\"#f0f921\"]]}],\"mesh3d\":[{\"type\":\"mesh3d\",\"colorbar\":{\"outlinewidth\":0,\"ticks\":\"\"}}],\"scatter\":[{\"fillpattern\":{\"fillmode\":\"overlay\",\"size\":10,\"solidity\":0.2},\"type\":\"scatter\"}],\"parcoords\":[{\"type\":\"parcoords\",\"line\":{\"colorbar\":{\"outlinewidth\":0,\"ticks\":\"\"}}}],\"scatterpolargl\":[{\"type\":\"scatterpolargl\",\"marker\":{\"colorbar\":{\"outlinewidth\":0,\"ticks\":\"\"}}}],\"bar\":[{\"error_x\":{\"color\":\"#2a3f5f\"},\"error_y\":{\"color\":\"#2a3f5f\"},\"marker\":{\"line\":{\"color\":\"#E5ECF6\",\"width\":0.5},\"pattern\":{\"fillmode\":\"overlay\",\"size\":10,\"solidity\":0.2}},\"type\":\"bar\"}],\"scattergeo\":[{\"type\":\"scattergeo\",\"marker\":{\"colorbar\":{\"outlinewidth\":0,\"ticks\":\"\"}}}],\"scatterpolar\":[{\"type\":\"scatterpolar\",\"marker\":{\"colorbar\":{\"outlinewidth\":0,\"ticks\":\"\"}}}],\"histogram\":[{\"marker\":{\"pattern\":{\"fillmode\":\"overlay\",\"size\":10,\"solidity\":0.2}},\"type\":\"histogram\"}],\"scattergl\":[{\"type\":\"scattergl\",\"marker\":{\"colorbar\":{\"outlinewidth\":0,\"ticks\":\"\"}}}],\"scatter3d\":[{\"type\":\"scatter3d\",\"line\":{\"colorbar\":{\"outlinewidth\":0,\"ticks\":\"\"}},\"marker\":{\"colorbar\":{\"outlinewidth\":0,\"ticks\":\"\"}}}],\"scattermapbox\":[{\"type\":\"scattermapbox\",\"marker\":{\"colorbar\":{\"outlinewidth\":0,\"ticks\":\"\"}}}],\"scatterternary\":[{\"type\":\"scatterternary\",\"marker\":{\"colorbar\":{\"outlinewidth\":0,\"ticks\":\"\"}}}],\"scattercarpet\":[{\"type\":\"scattercarpet\",\"marker\":{\"colorbar\":{\"outlinewidth\":0,\"ticks\":\"\"}}}],\"carpet\":[{\"aaxis\":{\"endlinecolor\":\"#2a3f5f\",\"gridcolor\":\"white\",\"linecolor\":\"white\",\"minorgridcolor\":\"white\",\"startlinecolor\":\"#2a3f5f\"},\"baxis\":{\"endlinecolor\":\"#2a3f5f\",\"gridcolor\":\"white\",\"linecolor\":\"white\",\"minorgridcolor\":\"white\",\"startlinecolor\":\"#2a3f5f\"},\"type\":\"carpet\"}],\"table\":[{\"cells\":{\"fill\":{\"color\":\"#EBF0F8\"},\"line\":{\"color\":\"white\"}},\"header\":{\"fill\":{\"color\":\"#C8D4E3\"},\"line\":{\"color\":\"white\"}},\"type\":\"table\"}],\"barpolar\":[{\"marker\":{\"line\":{\"color\":\"#E5ECF6\",\"width\":0.5},\"pattern\":{\"fillmode\":\"overlay\",\"size\":10,\"solidity\":0.2}},\"type\":\"barpolar\"}],\"pie\":[{\"automargin\":true,\"type\":\"pie\"}]},\"layout\":{\"autotypenumbers\":\"strict\",\"colorway\":[\"#636efa\",\"#EF553B\",\"#00cc96\",\"#ab63fa\",\"#FFA15A\",\"#19d3f3\",\"#FF6692\",\"#B6E880\",\"#FF97FF\",\"#FECB52\"],\"font\":{\"color\":\"#2a3f5f\"},\"hovermode\":\"closest\",\"hoverlabel\":{\"align\":\"left\"},\"paper_bgcolor\":\"white\",\"plot_bgcolor\":\"#E5ECF6\",\"polar\":{\"bgcolor\":\"#E5ECF6\",\"angularaxis\":{\"gridcolor\":\"white\",\"linecolor\":\"white\",\"ticks\":\"\"},\"radialaxis\":{\"gridcolor\":\"white\",\"linecolor\":\"white\",\"ticks\":\"\"}},\"ternary\":{\"bgcolor\":\"#E5ECF6\",\"aaxis\":{\"gridcolor\":\"white\",\"linecolor\":\"white\",\"ticks\":\"\"},\"baxis\":{\"gridcolor\":\"white\",\"linecolor\":\"white\",\"ticks\":\"\"},\"caxis\":{\"gridcolor\":\"white\",\"linecolor\":\"white\",\"ticks\":\"\"}},\"coloraxis\":{\"colorbar\":{\"outlinewidth\":0,\"ticks\":\"\"}},\"colorscale\":{\"sequential\":[[0.0,\"#0d0887\"],[0.1111111111111111,\"#46039f\"],[0.2222222222222222,\"#7201a8\"],[0.3333333333333333,\"#9c179e\"],[0.4444444444444444,\"#bd3786\"],[0.5555555555555556,\"#d8576b\"],[0.6666666666666666,\"#ed7953\"],[0.7777777777777778,\"#fb9f3a\"],[0.8888888888888888,\"#fdca26\"],[1.0,\"#f0f921\"]],\"sequentialminus\":[[0.0,\"#0d0887\"],[0.1111111111111111,\"#46039f\"],[0.2222222222222222,\"#7201a8\"],[0.3333333333333333,\"#9c179e\"],[0.4444444444444444,\"#bd3786\"],[0.5555555555555556,\"#d8576b\"],[0.6666666666666666,\"#ed7953\"],[0.7777777777777778,\"#fb9f3a\"],[0.8888888888888888,\"#fdca26\"],[1.0,\"#f0f921\"]],\"diverging\":[[0,\"#8e0152\"],[0.1,\"#c51b7d\"],[0.2,\"#de77ae\"],[0.3,\"#f1b6da\"],[0.4,\"#fde0ef\"],[0.5,\"#f7f7f7\"],[0.6,\"#e6f5d0\"],[0.7,\"#b8e186\"],[0.8,\"#7fbc41\"],[0.9,\"#4d9221\"],[1,\"#276419\"]]},\"xaxis\":{\"gridcolor\":\"white\",\"linecolor\":\"white\",\"ticks\":\"\",\"title\":{\"standoff\":15},\"zerolinecolor\":\"white\",\"automargin\":true,\"zerolinewidth\":2},\"yaxis\":{\"gridcolor\":\"white\",\"linecolor\":\"white\",\"ticks\":\"\",\"title\":{\"standoff\":15},\"zerolinecolor\":\"white\",\"automargin\":true,\"zerolinewidth\":2},\"scene\":{\"xaxis\":{\"backgroundcolor\":\"#E5ECF6\",\"gridcolor\":\"white\",\"linecolor\":\"white\",\"showbackground\":true,\"ticks\":\"\",\"zerolinecolor\":\"white\",\"gridwidth\":2},\"yaxis\":{\"backgroundcolor\":\"#E5ECF6\",\"gridcolor\":\"white\",\"linecolor\":\"white\",\"showbackground\":true,\"ticks\":\"\",\"zerolinecolor\":\"white\",\"gridwidth\":2},\"zaxis\":{\"backgroundcolor\":\"#E5ECF6\",\"gridcolor\":\"white\",\"linecolor\":\"white\",\"showbackground\":true,\"ticks\":\"\",\"zerolinecolor\":\"white\",\"gridwidth\":2}},\"shapedefaults\":{\"line\":{\"color\":\"#2a3f5f\"}},\"annotationdefaults\":{\"arrowcolor\":\"#2a3f5f\",\"arrowhead\":0,\"arrowwidth\":1},\"geo\":{\"bgcolor\":\"white\",\"landcolor\":\"#E5ECF6\",\"subunitcolor\":\"white\",\"showland\":true,\"showlakes\":true,\"lakecolor\":\"white\"},\"title\":{\"x\":0.05},\"mapbox\":{\"style\":\"light\"}}},\"title\":{\"text\":\"Groups of Race within each sport Sankey Diagram\"},\"font\":{\"size\":10},\"width\":1000,\"height\":600},                        {\"responsive\": true}                    ).then(function(){\n",
       "                            \n",
       "var gd = document.getElementById('5be263c1-906c-45d5-9eb4-8f6dae6283d2');\n",
       "var x = new MutationObserver(function (mutations, observer) {{\n",
       "        var display = window.getComputedStyle(gd).display;\n",
       "        if (!display || display === 'none') {{\n",
       "            console.log([gd, 'removed!']);\n",
       "            Plotly.purge(gd);\n",
       "            observer.disconnect();\n",
       "        }}\n",
       "}});\n",
       "\n",
       "// Listen for the removal of the full notebook cells\n",
       "var notebookContainer = gd.closest('#notebook-container');\n",
       "if (notebookContainer) {{\n",
       "    x.observe(notebookContainer, {childList: true});\n",
       "}}\n",
       "\n",
       "// Listen for the clearing of the current output cell\n",
       "var outputEl = gd.closest('.output');\n",
       "if (outputEl) {{\n",
       "    x.observe(outputEl, {childList: true});\n",
       "}}\n",
       "\n",
       "                        })                };                });            </script>        </div>"
      ]
     },
     "metadata": {},
     "output_type": "display_data"
    }
   ],
   "source": [
    "sport_group=data_Athletes['sport'].unique()\n",
    "\n",
    "race_group=data_Athletes['Ethnicity'].unique()\n",
    "\n",
    "sport_race_group=data_Athletes.groupby(['sport', 'Ethnicity']).size().reset_index(name='count')\n",
    "\n",
    "sport_race_group.columns=['source','target','value']\n",
    "\n",
    "\n",
    "unique_source_target_values = list(pd.unique(sport_race_group[['source', 'target']].values.ravel('K')))\n",
    "\n",
    "\n",
    "#for assigning unique number to each source and target\n",
    "mapping_dictionary = {k: v for v, k in enumerate(unique_source_target_values)}\n",
    "\n",
    "\n",
    "#mapping of full data\n",
    "sport_race_group['source']=sport_race_group['source'].map(mapping_dictionary)\n",
    "\n",
    "sport_race_group['target']=sport_race_group['target'].map(mapping_dictionary)\n",
    "\n",
    "\n",
    "#converting full dataframe as list for using with in plotly\n",
    "links_dict = sport_race_group.to_dict(orient='list')\n",
    "\n",
    "#Sankey Diagram \n",
    "fig = go.Figure(data=[go.Sankey(\n",
    "    node = dict(\n",
    "      pad = 15,\n",
    "      thickness = 20,\n",
    "      line = dict(color = \"black\", width = 0.5),\n",
    "      label =unique_source_target_values,      \n",
    "    ),\n",
    "    link = dict(\n",
    "      source = links_dict[\"source\"],\n",
    "      target = links_dict[\"target\"],\n",
    "      value = links_dict[\"value\"],\n",
    "  \n",
    "  ))])\n",
    "fig.update_layout(title_text=\"Groups of Race within each sport Sankey Diagram\", font_size=10,width=1000, height=600)\n",
    "fig.show()\n"
   ]
  },
  {
   "cell_type": "markdown",
   "id": "0ed345d7-0418-4ae1-aaa0-164eb6dd674c",
   "metadata": {},
   "source": [
    "\n",
    "27.Calculate the average heart rate for every minute for every athlete and add it as a column in the same dataframe."
   ]
  },
  {
   "cell_type": "code",
   "execution_count": 166,
   "id": "d6001e01-0b38-49c7-86ba-22c9ff22c679",
   "metadata": {},
   "outputs": [
    {
     "name": "stdout",
     "output_type": "stream",
     "text": [
      "        time  ID     RR      VO2  power         HR      HR_avg\n",
      "0 1970-01-01  11  612.0  0.82030      0  98.039216  149.635178\n",
      "1 1970-01-01  11  632.0  0.82030     50  94.936709  149.635178\n",
      "2 1970-01-01  11  704.0  0.82030     50  85.227273  149.635178\n",
      "3 1970-01-01  12  812.0  0.68564      0  73.891626  149.635178\n",
      "4 1970-01-01  12  816.0  0.68564     50  73.529412  149.635178\n"
     ]
    }
   ],
   "source": [
    "data_merged_sheet['time'] = pd.to_datetime(data_merged_sheet['time'])\n",
    "data_merged_sheet['HR'] = 60 / (data_merged_sheet['RR'] / 1000)\n",
    "data_merged_sheet.set_index('time', inplace=True)\n",
    "average_hr_per_minute = data_merged_sheet.resample('1T').agg({'HR': 'mean'}).reset_index()\n",
    "# Merge back the average HR into the original DataFrame\n",
    "data_merged_sheet = data_merged_sheet.reset_index().merge(average_hr_per_minute, on='time', suffixes=('', '_avg'))\n",
    "\n",
    "# Display the updated DataFrame\n",
    "print(data_merged_sheet.head())"
   ]
  },
  {
   "cell_type": "code",
   "execution_count": null,
   "id": "d4e74122-e5fa-4e04-b2c4-deb91ef1557f",
   "metadata": {},
   "outputs": [],
   "source": [
    "28.Print athlete 15s Age and Pvt1 using the format() function"
   ]
  },
  {
   "cell_type": "code",
   "execution_count": 324,
   "id": "bcfcad49-764b-4b57-ad4c-91336f28b556",
   "metadata": {},
   "outputs": [
    {
     "name": "stdout",
     "output_type": "stream",
     "text": [
      "Athelete ID 15 : Age 13, P_vt1 125\n"
     ]
    }
   ],
   "source": [
    "athlete_15_data=data_Athletes[data_Athletes['ID']==15].iloc[0]\n",
    "#print(athlete_15_data)\n",
    "athelete_age=athlete_15_data['age']\n",
    "#print(athelete_age)\n",
    "athelete_p_vt1=athlete_15_data['P_vt1']\n",
    "#print(athelete_p_vt1)\n",
    "print(\"Athelete ID 15 : Age {}, P_vt1 {}\".format(athelete_age,athelete_p_vt1))"
   ]
  },
  {
   "cell_type": "markdown",
   "id": "3e95f45a-f3ed-4d2c-9fce-00ddfdcb7f67",
   "metadata": {},
   "source": [
    "29.On average how long was each participants’ warm up?"
   ]
  },
  {
   "cell_type": "code",
   "execution_count": 292,
   "id": "35ce81ea-7cff-4e23-9172-d6b0cfc56e85",
   "metadata": {},
   "outputs": [
    {
     "name": "stdout",
     "output_type": "stream",
     "text": [
      "warm up duration for each participant:\n",
      " Athlete ID 1 : Average time 189.90 (minutes) \n",
      " Athlete ID 2 : Average time 439.79 (minutes) \n",
      " Athlete ID 3 : Average time 345.28 (minutes) \n",
      " Athlete ID 4 : Average time 419.27 (minutes) \n",
      " Athlete ID 5 : Average time 353.21 (minutes) \n",
      " Athlete ID 6 : Average time 320.61 (minutes) \n",
      " Athlete ID 7 : Average time 370.67 (minutes) \n",
      " Athlete ID 8 : Average time 306.89 (minutes) \n",
      " Athlete ID 9 : Average time 534.52 (minutes) \n",
      " Athlete ID 10 : Average time 357.80 (minutes) \n",
      " Athlete ID 11 : Average time 317.49 (minutes) \n",
      " Athlete ID 12 : Average time 381.99 (minutes) \n",
      " Athlete ID 13 : Average time 423.25 (minutes) \n",
      " Athlete ID 14 : Average time 258.35 (minutes) \n",
      " Athlete ID 15 : Average time 347.03 (minutes) \n",
      " Athlete ID 16 : Average time 308.63 (minutes) \n",
      " Athlete ID 17 : Average time 366.06 (minutes) \n",
      " Athlete ID 18 : Average time 324.87 (minutes) \n"
     ]
    }
   ],
   "source": [
    "athlete_warmup=data_criteria_sheet[data_criteria_sheet['phase']=='Warm Up']\n",
    "#print(athlete_warmup)\n",
    "group_participant=athlete_warmup.groupby('ID')['time'].sum()\n",
    "#print(group_participant)\n",
    "group_participant_abs=group_participant.abs()\n",
    "group_participant_min=group_participant_abs/60\n",
    "print(\"warm up duration for each participant:\")\n",
    "for id,time in group_participant_min.items():\n",
    "    print(f\" Athlete ID {id} : Average time {time:.2f} (minutes) \")"
   ]
  },
  {
   "cell_type": "markdown",
   "id": "7128bab2-b6d5-4fc9-9edf-f492bcf95cad",
   "metadata": {},
   "source": [
    "30.Display the HRV of each athlete?(Calculate the difference between RR intervals between each row for each athlete, find the standard deviation from the RR intervals.)"
   ]
  },
  {
   "cell_type": "code",
   "execution_count": 186,
   "id": "5947e777-590c-4564-96ee-ac434b7304bd",
   "metadata": {},
   "outputs": [
    {
     "name": "stdout",
     "output_type": "stream",
     "text": [
      "    ID         HRV\n",
      "0    1   25.796243\n",
      "1    2   40.704435\n",
      "2    3   20.209386\n",
      "3    4   33.345576\n",
      "4    5  115.358868\n",
      "5    6  447.617338\n",
      "6    7   23.680660\n",
      "7    8  504.838335\n",
      "8    9   22.513788\n",
      "9   10   26.301717\n",
      "10  11   13.404738\n",
      "11  12   12.256455\n",
      "12  13   12.439429\n",
      "13  14  162.142451\n",
      "14  15   28.267522\n",
      "15  16  795.247749\n",
      "16  17   28.093072\n",
      "17  18   30.500939\n"
     ]
    }
   ],
   "source": [
    "data_merged_sheet['time'] = pd.to_datetime(data_merged_sheet['time'])\n",
    "data_merged_sheet.sort_values(by=['ID', 'time'], inplace=True)\n",
    "#print(data_merged_sheet.head())\n",
    "data_merged_sheet['RR_diff'] = data_merged_sheet.groupby('ID')['RR'].diff()\n",
    "#print(data_merged_sheet.head(25))\n",
    "data_merged_sheet.dropna(subset=['RR_diff'], inplace=True)\n",
    "hrv = data_merged_sheet.groupby('ID')['RR_diff'].std().reset_index()\n",
    "hrv.rename(columns={'RR_diff': 'HRV'}, inplace=True)\n",
    "print(hrv)"
   ]
  },
  {
   "cell_type": "markdown",
   "id": "50322d42-a2c1-46eb-9b86-7fef6afff2e6",
   "metadata": {},
   "source": [
    "31.Return the count of athletes for any sport that the user inputs."
   ]
  },
  {
   "cell_type": "code",
   "execution_count": 43,
   "id": "cbf16bae-01cd-417b-a9ea-b8c7d1f67548",
   "metadata": {},
   "outputs": [
    {
     "name": "stdin",
     "output_type": "stream",
     "text": [
      "Enter the Sport Name :  triathlon\n"
     ]
    },
    {
     "name": "stdout",
     "output_type": "stream",
     "text": [
      "triathlon 2\n"
     ]
    }
   ],
   "source": [
    "def count_athlete(sport):\n",
    "   \n",
    "    data_sport=data_Athletes[data_Athletes['sport'].str.lower()==sport.lower()]\n",
    "    return data_sport.shape[0]\n",
    "\n",
    "sport=str(input('Enter the Sport Name : '))\n",
    "\n",
    "count=count_athlete(sport)\n",
    "\n",
    "print(sport,count)"
   ]
  },
  {
   "cell_type": "code",
   "execution_count": null,
   "id": "5509307c-0827-4697-b21a-01d9eabb417e",
   "metadata": {},
   "outputs": [],
   "source": [
    "32.Insert the name of every athlete into an array and display the length of that array."
   ]
  },
  {
   "cell_type": "code",
   "execution_count": 45,
   "id": "45aec628-60aa-4cfe-8f21-4b1790f37044",
   "metadata": {},
   "outputs": [
    {
     "name": "stdout",
     "output_type": "stream",
     "text": [
      "Number of athletes: 18\n"
     ]
    }
   ],
   "source": [
    "data_Athletes['Full Name'] = data_Athletes['First Name'].fillna('') + ' ' + data_Athletes['Last Name'].fillna('')\n",
    "\n",
    "athlete_names = data_Athletes['Full Name'].tolist()\n",
    "\n",
    "athlete_names_array = np.array(athlete_names)\n",
    "print(\"Number of athletes:\", len(athlete_names_array))"
   ]
  },
  {
   "cell_type": "code",
   "execution_count": null,
   "id": "dc29c247-9ce6-4243-a439-11ab32e5c740",
   "metadata": {},
   "outputs": [],
   "source": [
    "33.Create a list and a tuple. Print the types and lengths of  both."
   ]
  },
  {
   "cell_type": "code",
   "execution_count": 342,
   "id": "792c2a85-7bf4-4a0e-988a-2455c5f56a34",
   "metadata": {},
   "outputs": [
    {
     "name": "stdout",
     "output_type": "stream",
     "text": [
      "[1, 'hello', 55.4, 100, [2, 3, 4], 5, 3, ['venba'], (3, 5, 6), 45, 33.33]\n",
      "(3, 5, 'hi', 33.5, 3, 6, 7, 8, 222, ['hi', 3, 0], 55, 88, 99, 0.5)\n",
      "list Type :  <class 'list'>\n",
      "Tuple Type :  <class 'tuple'>\n",
      "list Type :  11\n",
      "Tuple Type :  14\n"
     ]
    }
   ],
   "source": [
    "list=[1,'hello',55.4,100,[2,3,4],5,3,['venba'],(3,5,6),45,33.33]\n",
    "print(list)\n",
    "tuple=(3,5,'hi',33.5,3,6,7,8,222,['hi',3,0],55,88,99,0.5)\n",
    "print(tuple)\n",
    "print('list Type : ',type(list))\n",
    "print('Tuple Type : ',type(tuple))\n",
    "print('list Type : ',len(list))\n",
    "print('Tuple Type : ',len(tuple))"
   ]
  },
  {
   "cell_type": "markdown",
   "id": "2ec69e68-b4dd-4767-a300-72432ea445fb",
   "metadata": {},
   "source": [
    "34.Display a word cloud using any values in the dataset"
   ]
  },
  {
   "cell_type": "code",
   "execution_count": 25,
   "id": "940b57e4-4e68-4a91-ba36-6f741e1313ac",
   "metadata": {},
   "outputs": [
    {
     "data": {
      "image/png": "[encoded data removed]",
      "text/plain": [
       "<Figure size 300x300 with 1 Axes>"
      ]
     },
     "metadata": {},
     "output_type": "display_data"
    }
   ],
   "source": [
    "comment_words = ''\n",
    "stopwords = set(STOPWORDS)\n",
    " \n",
    "# iterate through the csv file\n",
    "for val in data_Athletes.sport:\n",
    "     \n",
    "    # typecaste each val to string\n",
    "    val = str(val)\n",
    " \n",
    "    # split the value\n",
    "    tokens = val.split()\n",
    "     \n",
    "    # Converts each token into lowercase\n",
    "    for i in range(len(tokens)):\n",
    "        tokens[i] = tokens[i].lower()\n",
    "     \n",
    "    comment_words += \" \".join(tokens)+\" \"\n",
    " \n",
    "wordcloud = WordCloud(width = 300, height = 300,\n",
    "                background_color ='white',\n",
    "                stopwords = stopwords,\n",
    "                min_font_size = 10).generate(comment_words)\n",
    " \n",
    "# plot the WordCloud image                       \n",
    "plt.figure(figsize = (3, 3), facecolor = None)\n",
    "plt.imshow(wordcloud)\n",
    "plt.axis(\"off\")\n",
    "plt.tight_layout(pad = 0)\n",
    " \n",
    "plt.show()"
   ]
  },
  {
   "cell_type": "markdown",
   "id": "4b968bf9-5825-4115-9916-9cbf07e2abcd",
   "metadata": {},
   "source": [
    "35.Create a Regression Plot on Max V02 and mean BMI for any sport of your choice"
   ]
  },
  {
   "cell_type": "code",
   "execution_count": 140,
   "id": "8dc4174b-6037-4df8-b2d1-1e844f3ef8b9",
   "metadata": {},
   "outputs": [
    {
     "data": {
      "image/png": "[encoded data removed]",
      "text/plain": [
       "<Figure size 600x300 with 1 Axes>"
      ]
     },
     "metadata": {},
     "output_type": "display_data"
    }
   ],
   "source": [
    "data_Athletes['Height_metre']=data_Athletes['Height']/100\n",
    "#print('Height',data_Athletes['Height_metre'])\n",
    "data_Athletes['BMI']=data_Athletes['Weight'] / (data_Athletes['Height_metre'] ** 2)\n",
    "#print('BMI',data_Athletes['BMI'])\n",
    "#print(data_Triathlon.head())\n",
    "\n",
    "#print(\"Triathlon Data Columns:\", data_Triathlon.columns)\n",
    "#print(\"Athletes Data Columns:\", data_Athletes.columns)\n",
    "\n",
    "# Display the first few rows of the Triathlon DataFrame to inspect data\n",
    "#print(data_Triathlon.head())\n",
    "#print(data_Athletes.head())\n",
    "\n",
    "# Inspect the VO2 columns to determine which one to use\n",
    "#print(data_Triathlon[['VO2_x', 'VO2_y']].head())\n",
    "\n",
    "\n",
    "################################\n",
    "# Calculate Max VO2 for each athlete in data_Triathlon\n",
    "max_vo2 = data_Triathlon.groupby('ID')['VO2'].max().reset_index()\n",
    "\n",
    "#print(max_vo2)\n",
    "\n",
    "\n",
    "\n",
    "# Merge data_Athletes with max_vo2\n",
    "merged_data = data_Athletes[['ID', 'BMI']].merge(max_vo2, on='ID', how='left')\n",
    "\n",
    "# Verify the combined data\n",
    "#print(merged_data.head())\n",
    "\n",
    "\n",
    "# Plotting\n",
    "plt.figure(figsize=(6, 3))\n",
    "sns.regplot(x='BMI', y='VO2', data=merged_data)\n",
    "plt.title('Regression Plot on Max V02 and mean BMI for Triathlon Sport')\n",
    "plt.xlabel('BMI')\n",
    "plt.ylabel('VO2')\n",
    "plt.show()\n",
    "\n",
    "\n",
    "\n",
    "\n"
   ]
  },
  {
   "cell_type": "markdown",
   "id": "8bedfcaf-4a50-4288-a1a2-1db9484d8a76",
   "metadata": {},
   "source": [
    "36.Plot the time series of HR( every 5 mins) of athlete 1"
   ]
  },
  {
   "cell_type": "code",
   "execution_count": 164,
   "id": "85d4d026-cfc7-4657-bc11-12d5e84d37c1",
   "metadata": {},
   "outputs": [
    {
     "name": "stdout",
     "output_type": "stream",
     "text": [
      "   ID     time     RR       VO2  power\n",
      "0  11 -168.600  727.0  0.287147      0\n",
      "1  11 -167.872  728.0  0.287147      0\n",
      "2  11 -167.148  724.0  0.287147      0\n",
      "3  11 -166.484  664.0  0.320580      0\n",
      "4  11 -165.836  648.0  0.320580      0\n",
      "       ID     time     RR       VO2  power\n",
      "24459   1 -130.840  672.0  0.302008      0\n",
      "24460   1 -130.168  672.0  0.302008      0\n",
      "24461   1 -129.536  632.0  0.301336      0\n",
      "24462   1 -128.824  712.0  0.301336      0\n",
      "24463   1 -127.948  876.0  0.301336      0\n"
     ]
    },
    {
     "data": {
      "image/png": "[encoded data removed]",
      "text/plain": [
       "<Figure size 600x300 with 1 Axes>"
      ]
     },
     "metadata": {},
     "output_type": "display_data"
    }
   ],
   "source": [
    "print(data_merged_sheet.head())\n",
    "athelete_1=data_merged_sheet[data_merged_sheet['ID']==1]\n",
    "print(athelete_1.head())\n",
    "athelete_1['time'] = pd.to_datetime(athelete_1['time'])\n",
    "athelete_1.set_index('time', inplace=True)\n",
    "athelete_1_series = athelete_1.resample('5T').mean()\n",
    "#RR=data_Fencing['RR']\n",
    "athelete_1_series['HR'] = 60 / (athelete_1_series['RR'] / 1000)\n",
    "# Plotting\n",
    "plt.figure(figsize=(6, 3))\n",
    "sns.lineplot(x=athelete_1_series.index, y=athelete_1_series['HR'])  # Replace 'HR' with the actual HR column name\n",
    "plt.title('Time Series of HR for Athlete 1')\n",
    "plt.xlabel('Time')\n",
    "plt.ylabel('Heart Rate (HR)')\n",
    "plt.xticks(rotation=45)\n",
    "plt.tight_layout()\n",
    "plt.show()"
   ]
  },
  {
   "cell_type": "markdown",
   "id": "17e504e6-a81b-4441-afa8-1e12dd5bb0bc",
   "metadata": {},
   "source": [
    "37.What was the maximum power achieved in terms of watts,\n",
    "which participant achieved it? Display name, sport and watts."
   ]
  },
  {
   "cell_type": "code",
   "execution_count": 290,
   "id": "5dc23f62-c699-44e7-94dd-9b702a9eaf0b",
   "metadata": {},
   "outputs": [
    {
     "name": "stdout",
     "output_type": "stream",
     "text": [
      "Maximum Power Achieved: 335 watts\n",
      "Participant Details:\n",
      "Name: Isabella Griffin\n",
      "Sport: kayak\n",
      "Watts: 335\n"
     ]
    }
   ],
   "source": [
    "combined_sports = pd.concat([data_Kayaking[['ID', 'power']], \n",
    "                             data_Triathlon[['ID', 'power']], \n",
    "                             data_Fencing[['ID', 'power']]])\n",
    "#print(combined_sports.head())\n",
    "max_power = combined_sports['power'].max()\n",
    "max_power_id = combined_sports[combined_sports['power'] == max_power]['ID'].iloc[0]\n",
    "athlete_info = data_Athletes[['ID', 'First Name', 'Last Name', 'sport']]\n",
    "max_power_participant = athlete_info[athlete_info['ID'] == max_power_id]\n",
    "\n",
    "# Display the result\n",
    "print(f\"Maximum Power Achieved: {max_power} watts\")\n",
    "print(f\"Participant Details:\")\n",
    "print(f\"Name: {max_power_participant['First Name'].values[0]} {max_power_participant['Last Name'].values[0]}\")\n",
    "print(f\"Sport: {max_power_participant['sport'].values[0]}\")\n",
    "print(f\"Watts: {max_power}\")"
   ]
  },
  {
   "cell_type": "markdown",
   "id": "52e18505-eb00-4e58-a600-84073fef852b",
   "metadata": {},
   "source": [
    "38.What is the average  difference in IBI during the warm up Vs the actual test?"
   ]
  },
  {
   "cell_type": "code",
   "execution_count": 208,
   "id": "99d27111-53ea-4564-8b1c-d143276d91f3",
   "metadata": {},
   "outputs": [
    {
     "name": "stdout",
     "output_type": "stream",
     "text": [
      "Average IBI during warm-up: 732.00 ms\n",
      "Average IBI during test: 443.10 ms\n",
      "Average difference in IBI between warm-up and test: -288.90 ms\n"
     ]
    }
   ],
   "source": [
    "# Define the end of the warm-up period and the start of the test period\n",
    "warm_up_end = 0  # Warm-up ends at time = 0\n",
    "#test_start = warm_up_end + 1\n",
    "\n",
    "# Segment the data based on the time_in_seconds\n",
    "warm_up_data = data_merged_sheet[data_merged_sheet['time_in_seconds'] <= warm_up_end]\n",
    "#test_data = data_merged_sheet[data_merged_sheet['time_in_seconds'] >= test_start]\n",
    "\n",
    "# Calculate the average IBI (RR interval) for each phase\n",
    "average_ibi_warm_up = warm_up_data['RR'].mean()\n",
    "average_ibi_test = data_merged_sheet['RR'].mean()\n",
    "\n",
    "# Find the average difference in IBI\n",
    "average_difference = average_ibi_test - average_ibi_warm_up\n",
    "\n",
    "print(f\"Average IBI during warm-up: {average_ibi_warm_up:.2f} ms\")\n",
    "print(f\"Average IBI during test: {average_ibi_test:.2f} ms\")\n",
    "print(f\"Average difference in IBI between warm-up and test: {average_difference:.2f} ms\")\n",
    "\n"
   ]
  },
  {
   "cell_type": "markdown",
   "id": "d614429d-60a8-47aa-8455-cd47d40814cd",
   "metadata": {},
   "source": [
    "39.Print out what's in indexes 7, 10, and 3 for the array in Q33."
   ]
  },
  {
   "cell_type": "code",
   "execution_count": 344,
   "id": "25d15d6f-3906-4be0-88db-0830277fc081",
   "metadata": {},
   "outputs": [
    {
     "name": "stdout",
     "output_type": "stream",
     "text": [
      "list items :  [['venba'], 33.33, 100]\n",
      "tuple items:  [8, 55, 33.5]\n"
     ]
    }
   ],
   "source": [
    "list_items=[list[i] for i in [7,10,3]]\n",
    "tupple_items=[tuple[i] for i in [7,10,3]]\n",
    "print('list items : ',list_items)\n",
    "print('tuple items: ',tupple_items)"
   ]
  },
  {
   "cell_type": "markdown",
   "id": "cb22ce66-1295-48de-986d-a4c32946c0dc",
   "metadata": {},
   "source": [
    "40.     [ 1,  2,  3,  4,  5],\n",
    "       [ 6,  7,  8,  9, 10],\n",
    "       [11, 12, 13, 14, 15],\n",
    "       [16, 17, 18, 19, 20],\n",
    "       [21, 22, 23, 24, 25],\n",
    "       [26, 27, 28, 29, 30]  Use array slicing to display elements 1,3,5. If the value is less than 4 display it as 99"
   ]
  },
  {
   "cell_type": "code",
   "execution_count": 354,
   "id": "4f725342-93ad-487e-b59c-982c2cabb54b",
   "metadata": {},
   "outputs": [
    {
     "name": "stdout",
     "output_type": "stream",
     "text": [
      "Row0:[99, 4, 5]\n",
      "Row1:[7, 9, 10]\n",
      "Row2:[12, 14, 15]\n",
      "Row3:[17, 19, 20]\n",
      "Row4:[22, 24, 25]\n",
      "Row5:[27, 29, 30]\n"
     ]
    }
   ],
   "source": [
    "array = np.array([\n",
    "    [1, 2, 3, 4, 5],\n",
    "    [6, 7, 8, 9, 10],\n",
    "    [11, 12, 13, 14, 15],\n",
    "    [16, 17, 18, 19, 20],\n",
    "    [21, 22, 23, 24, 25],\n",
    "    [26, 27, 28, 29, 30]\n",
    "])\n",
    "\n",
    "var=[]\n",
    "\n",
    "for row in array:\n",
    "    extract_elements=[row[i] if i <len(row) else None for i in [1,3,4]]\n",
    "    extract_elements=[99 if j is not None and j<4 else j for j in extract_elements]\n",
    "    var.append(extract_elements)\n",
    "\n",
    "\n",
    "for k,n in enumerate(var):\n",
    "    print(f\"Row{k}:{n}\")\n",
    "    \n"
   ]
  }
 ],
 "metadata": {
  "kernelspec": {
   "display_name": "Python 3 (ipykernel)",
   "language": "python",
   "name": "python3"
  },
  "language_info": {
   "codemirror_mode": {
    "name": "ipython",
    "version": 3
   },
   "file_extension": ".py",
   "mimetype": "text/x-python",
   "name": "python",
   "nbconvert_exporter": "python",
   "pygments_lexer": "ipython3",
   "version": "3.11.7"
  }
 },
 "nbformat": 4,
 "nbformat_minor": 5
}
