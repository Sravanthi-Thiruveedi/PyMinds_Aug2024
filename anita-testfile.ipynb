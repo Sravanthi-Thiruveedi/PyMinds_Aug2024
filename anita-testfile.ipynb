{
 "cells": [
  {
   "cell_type": "markdown",
   "id": "adc1a3cb-18e3-4d44-ae88-53d56c3a4df9",
   "metadata": {},
   "source": [
    "hello, anita here"
   ]
  },
  {
   "cell_type": "code",
   "execution_count": null,
   "id": "fd80dffb-5285-46b3-b16e-deb94116661d",
   "metadata": {},
   "outputs": [],
   "source": []
  }
 ],
 "metadata": {
  "kernelspec": {
   "display_name": "Python 3 (ipykernel)",
   "language": "python",
   "name": "python3"
  },
  "language_info": {
   "codemirror_mode": {
    "name": "ipython",
    "version": 3
   },
   "file_extension": ".py",
   "mimetype": "text/x-python",
   "name": "python",
   "nbconvert_exporter": "python",
   "pygments_lexer": "ipython3",
   "version": "3.12.4"
  }
 },
 "nbformat": 4,
 "nbformat_minor": 5
}
